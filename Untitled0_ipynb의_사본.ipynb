{
  "nbformat": 4,
  "nbformat_minor": 0,
  "metadata": {
    "colab": {
      "provenance": [],
      "authorship_tag": "ABX9TyP0la4U4+awrfxsw6w2bSz8",
      "include_colab_link": true
    },
    "kernelspec": {
      "name": "python3",
      "display_name": "Python 3"
    },
    "language_info": {
      "name": "python"
    }
  },
  "cells": [
    {
      "cell_type": "markdown",
      "metadata": {
        "id": "view-in-github",
        "colab_type": "text"
      },
      "source": [
        "<a href=\"https://colab.research.google.com/github/aebongbing/ESAA/blob/main/Untitled0_ipynb%EC%9D%98_%EC%82%AC%EB%B3%B8.ipynb\" target=\"_parent\"><img src=\"https://colab.research.google.com/assets/colab-badge.svg\" alt=\"Open In Colab\"/></a>"
      ]
    },
    {
      "cell_type": "markdown",
      "source": [
        "<strong> 01. 머신러닝의 개념 </strong>\n",
        "\n",
        "머신러닝이란?\n",
        "\n",
        "* 어플리케이션을 수정하지 않고도 데이터를 기반으로 패턴을 학습하고 결과를 예측하는 알고리즘 기법  \n",
        "* 기존의 소프트웨어만으로 해결하기 어려웠던 문제들을 해결함\n",
        "\n",
        "\n",
        "머신러닝의 분류\n",
        "\n",
        "* 지도학습\n",
        "  - 분류\n",
        "  - 회귀\n",
        "  - 추천 시스템\n",
        "  - 시각/음성 감지/인지\n",
        "  - 텍스트 분석, NLP\n",
        "* 비지도 학습\n",
        "  - 클러스터링\n",
        "  - 차원 축소\n",
        "  - 강화 학습\n",
        "\n",
        "\n",
        "데이터 전쟁:\n",
        "\n",
        "다양하고 광대한 데이터로 만들어진 머신러닝 모델이 더 좋은 품질을 지니고, 이는 회사의 경쟁력이 된다.\n",
        "\n",
        "파이썬과 R 비교\n",
        "\n",
        "\n",
        "* R\n",
        " - 통계 전용 프로그램 언어\n",
        " - 다양하고 많은 통계 패키지들을 보유\n",
        " - 통계 분석에 능한 현업 사용자에게 추천\n",
        "\n",
        "* Python\n",
        " - 다양한 분야에 사용되는 개발 전용 프로그램 언어\n",
        " - 유수의 딥러닝 프레임워크들이 파이썬 우선 정책으로 파이썬 지원\n",
        " - 머신러닝 입문자들에게 추천\n",
        "\n",
        "<strong> 02. 파이썬 머신러닝 주요 패키지 </strong>\n",
        "\n",
        "* 머신러닝 패키지    \n",
        "   - Scikit-Learn : 파이썬 세계에서 가장 대표적인 머신러닝 패키지\n",
        "* 행렬/선형대수/통계 패키지\n",
        "   - Numpy: 행렬과 선형대수를 다루는 패키지이며 많은 머신러닝 패키지의 기반\n",
        "* 데이터 핸들링\n",
        "   - 판다스: 2차원 데이터 처리에 특화되어 있고, 넘파이보다 편리하게 데이터 처리 가능, Matplotlib을 호출하여 쉽게 시각화도 가능\n",
        "* 시각화\n",
        "   - 맷플로립: 대표적 시각화 패키지이나 지나친 세분화, 투박한 이미지, 긴 코드 작성으로 인한 비효율성과 불편함\n",
        "   - Seaborn: 판다스와의 쉬운 연동, 더 함축적인 API, 분석을 위한 다양한 유형의 그래프 제공 등으로 인기있으나 맷플로립을 어느 정도 알아야 사용가능함\n",
        "\n",
        "* 주피터 노트북\n",
        "  - 아이파이썬툴(=대화형 파이썬 툴)로 프로그래밍과 이에 대한 설명적 요소를 결합하여 코드의 역할을 쉽게 이해하도록 지원함\n",
        "\n",
        "\n",
        "파이썬 머신러닝을 위한 S/W 설치\n",
        "\n",
        "1. Anaconda 설치하기\n",
        "2. Anaconda prompt 실행하여 패키지 설치 유무 확인하기\n",
        "3. Jupiter Notebook을 실행하여 새로운 Jupiter Notebook 생성하기\n",
        "4. Visual studio 설치하기\n",
        "\n",
        "<strong>03. Numpy</strong>\n",
        "\n",
        "넘파이\n",
        "  - 선형대수 기반의 프로그램을 쉽게 만들 수 있으며 루프를 사용하지 않으면서 대량의 데이터 배열 연산이 가능하기 때문에 빠른 배열 연산 속도를 보장함\n",
        "  - C/C++ 호환 API를 제공함\n",
        "  - 다양한 데이터 핸들링을 제공하나, 판다스보다 불편함\n",
        "\n",
        "넘파이 ndarray 개요\n",
        "\n"
      ],
      "metadata": {
        "id": "6myiXW9NEMDn"
      }
    },
    {
      "cell_type": "code",
      "source": [
        "import numpy as np #넘파이에 np라는 명칭을 부여"
      ],
      "metadata": {
        "id": "GlHX9KhuSP4S"
      },
      "execution_count": null,
      "outputs": []
    },
    {
      "cell_type": "markdown",
      "source": [
        "- 넘파이 array() 함수는 입력받은 인자를 ndarray로 변환함\n",
        "- 생성된 ndarray 배열의 shape 변수는 ndarray의 크기(= 행과 열의 개수)를 튜플 형태로 가지고 있어 이를 통해 ndarray 배열의 차원까지 알 수 있음\n"
      ],
      "metadata": {
        "id": "fEmt8UxaS-je"
      }
    },
    {
      "cell_type": "code",
      "source": [
        "array1=np.array([1,2,3]) #array1을 ndarray로 변환함\n",
        "print('array1 type:', type(array1)) #타입 확인\n",
        "print('array1 array 형태:', array1.shape) #차원과 크기 튜플 형태로 나타냄\n",
        "\n",
        "array2=np.array([[1,2,3],\n",
        "                 [2,3,4]])\n",
        "print('array2 type:', type(array2))\n",
        "print('array2 array 형태:', array2.shape)\n",
        "\n",
        "array3=np.array([[1,2,3]])\n",
        "print('array3 type:', type(array3))\n",
        "print('array3 array 형태:', array3.shape)"
      ],
      "metadata": {
        "colab": {
          "base_uri": "https://localhost:8080/"
        },
        "id": "ut64U1ZSUTeH",
        "outputId": "6f53f635-b2ed-4788-f372-aa67327c9329"
      },
      "execution_count": null,
      "outputs": [
        {
          "output_type": "stream",
          "name": "stdout",
          "text": [
            "array1 type: <class 'numpy.ndarray'>\n",
            "array1 array 형태: (3,)\n",
            "array2 type: <class 'numpy.ndarray'>\n",
            "array2 array 형태: (2, 3)\n",
            "array3 type: <class 'numpy.ndarray'>\n",
            "array3 array 형태: (1, 3)\n"
          ]
        }
      ]
    },
    {
      "cell_type": "markdown",
      "source": [
        "*array1과 array3은 동일한 데이터 건수를 가지고 있으나, array1은 1차원임을 나타내고 array3은 행과 열로 이루어진 2차원 데이터임을 나타내고 있음\n",
        "\n",
        "*차원의 차수를 변환하는 방법을 알아야 데이터 값은 같으나 차원이 달라서 생기는 오류를 막을 수 있음"
      ],
      "metadata": {
        "id": "XL3cgwSUXTN2"
      }
    },
    {
      "cell_type": "code",
      "source": [
        "print('array1: {0}차원, array2: {1}차원, array3: {2}차원'.format(array1.ndim, array2.ndim, array3.ndim))\n",
        "#왜 숫자를 다르게 입력했을 땐 오류가 났을까?"
      ],
      "metadata": {
        "colab": {
          "base_uri": "https://localhost:8080/"
        },
        "id": "Uq_WM0pQYy8T",
        "outputId": "4a230897-a8b3-4b12-d0ea-9f4f3ced7f47"
      },
      "execution_count": null,
      "outputs": [
        {
          "output_type": "stream",
          "name": "stdout",
          "text": [
            "array1: 1차원, array2: 2차원, array3: 2차원\n"
          ]
        }
      ]
    },
    {
      "cell_type": "markdown",
      "source": [
        "*리스트 [ ]은 1차원이고, 리스트의 리스트[[ ]]는 2차원\n",
        "\n",
        "ndarray의 데이터타입\n",
        "  - 그 연산의 특성상 닽은 데이터 타입만 가능\n",
        "  - 데이터 타입은 dtype 속성으로 확인 가능\n"
      ],
      "metadata": {
        "id": "S6P4xG8Sa2v1"
      }
    },
    {
      "cell_type": "code",
      "source": [
        "list1=[1,2,3]\n",
        "print(type(list1))\n",
        "array1=np.array(list1)\n",
        "print(type(array1))\n",
        "print(array1, array1.dtype)"
      ],
      "metadata": {
        "colab": {
          "base_uri": "https://localhost:8080/"
        },
        "id": "oPBA9cIScKTU",
        "outputId": "bfa1d86f-ec21-4949-fa99-4d1241905855"
      },
      "execution_count": null,
      "outputs": [
        {
          "output_type": "stream",
          "name": "stdout",
          "text": [
            "<class 'list'>\n",
            "<class 'numpy.ndarray'>\n",
            "[1 2 3] int64\n"
          ]
        }
      ]
    },
    {
      "cell_type": "markdown",
      "source": [
        "#######교재랑 다르게 나는 int64로 나오는데 이유가 뭐지?\n",
        "\n",
        "만약 다른 유형이 섞여 있는 리스트를 ndarray로 변경하면 데이터 크기가 더 큰 데이터 타입으로 형 변환을 일관적으로 적용함"
      ],
      "metadata": {
        "id": "i093F5jGdOUW"
      }
    },
    {
      "cell_type": "code",
      "source": [
        "list2=[1,2,'test']\n",
        "array2=np.array(list2)\n",
        "print(array2, array2.dtype)\n",
        "\n",
        "list3=[1,2,3.0]\n",
        "array3=np.array(list3)\n",
        "print(array3, array3.dtype)"
      ],
      "metadata": {
        "colab": {
          "base_uri": "https://localhost:8080/"
        },
        "id": "0u9FsOuid48Q",
        "outputId": "38466bff-082e-4a6f-871c-acac7aed1ba3"
      },
      "execution_count": null,
      "outputs": [
        {
          "output_type": "stream",
          "name": "stdout",
          "text": [
            "['1' '2' 'test'] <U21\n",
            "[1. 2. 3.] float64\n"
          ]
        }
      ]
    },
    {
      "cell_type": "markdown",
      "source": [
        "int형 값과 문자열이 섞여있는 list2를 ndarray로 변환하자 숫자형 값이 모두 문자열 값인 '1', '2' 로 변환됨\n",
        "\n",
        "int형과 float형이 섞여있는 list3도 int 1, 2가 모두 1. 2. 인 float형태로 변환\n",
        "\n",
        "ndarray내의 데이터 값의 타입 변경: astype()   \n",
        "{메모리를 절약하여 수행속도 저하 및 메모리 부족 오류 등을 방지함}"
      ],
      "metadata": {
        "id": "pUXimQyEepYr"
      }
    },
    {
      "cell_type": "code",
      "source": [
        "array_int=np.array([1,2,3])\n",
        "array_float=array_int.astype('float64')\n",
        "print(array_float, array_float.dtype)\n",
        "\n",
        "array_int1=array_float.astype('int32')\n",
        "print(array_int1, array_int1.dtype)\n",
        "\n",
        "array_float1=np.array([1.1, 2.1, 3.1])\n",
        "array_int2=array_float1.astype('int32')\n",
        "print(array_int2, array_int2.dtype)"
      ],
      "metadata": {
        "colab": {
          "base_uri": "https://localhost:8080/"
        },
        "id": "Tdife5xTgaTq",
        "outputId": "e65deee5-5755-4ef8-d4c8-6181f9960553"
      },
      "execution_count": null,
      "outputs": [
        {
          "output_type": "stream",
          "name": "stdout",
          "text": [
            "[1. 2. 3.] float64\n",
            "[1 2 3] int32\n",
            "[1 2 3] int32\n"
          ]
        }
      ]
    },
    {
      "cell_type": "markdown",
      "source": [
        "* ndarray를 편리하게 생성하기-arange, zeros, ones\n",
        "  - 테스트용 데이터를 만들거나 대규모의 데이터를 일괄적으로 초기화할시 사용됨\n",
        "  - arrange(): array를 range로 표현  "
      ],
      "metadata": {
        "id": "zU42mVuuhntx"
      }
    },
    {
      "cell_type": "code",
      "source": [
        "sequence_array=np.arange(10)\n",
        "print(sequence_array)\n",
        "print(sequence_array.dtype, sequence_array.shape)"
      ],
      "metadata": {
        "colab": {
          "base_uri": "https://localhost:8080/"
        },
        "id": "YBP03vtNig4w",
        "outputId": "2591f77b-5c31-4547-ff7f-5a423db82864"
      },
      "execution_count": null,
      "outputs": [
        {
          "output_type": "stream",
          "name": "stdout",
          "text": [
            "[0 1 2 3 4 5 6 7 8 9]\n",
            "int64 (10,)\n"
          ]
        }
      ]
    },
    {
      "cell_type": "markdown",
      "source": [
        "  - zeros(): 튜플 형태의 shape 값을 입력하면 모든 값을 0으로 채운 해당 shape의 ndarray를 반환함\n",
        "  - ones(): 튜플 형태의 shape 값을 입력하면 모든 값을 1로 채운 해당 shape의 ndarray를 반환함"
      ],
      "metadata": {
        "id": "tumLUtGnjDdz"
      }
    },
    {
      "cell_type": "code",
      "source": [
        "zero_array=np.zeros((3,2), dtype='int32')\n",
        "print(zero_array)\n",
        "print(zero_array.dtype, zero_array.shape)\n",
        "\n",
        "one_array=np.ones((3,2))\n",
        "print(one_array)\n",
        "print(one_array.dtype, one_array.shape)"
      ],
      "metadata": {
        "colab": {
          "base_uri": "https://localhost:8080/"
        },
        "id": "G2dYcNa0jzNx",
        "outputId": "dbd12557-4bda-40b9-930e-885b2b75c261"
      },
      "execution_count": null,
      "outputs": [
        {
          "output_type": "stream",
          "name": "stdout",
          "text": [
            "[[0 0]\n",
            " [0 0]\n",
            " [0 0]]\n",
            "int32 (3, 2)\n",
            "[[1. 1.]\n",
            " [1. 1.]\n",
            " [1. 1.]]\n",
            "float64 (3, 2)\n"
          ]
        }
      ]
    },
    {
      "cell_type": "markdown",
      "source": [
        "* ndarray의 차원과 크기를 변경하는 reshape() *변환을 원하는 크기를 함수 인자로 입력하면 됨"
      ],
      "metadata": {
        "id": "52yTr52okiGD"
      }
    },
    {
      "cell_type": "code",
      "source": [
        "array1=np.arange(10)\n",
        "print('array1:\\n',array1)\n",
        "\n",
        "array2=array1.reshape(2,5)\n",
        "print('array2:\\n', array2)\n",
        "\n",
        "array3=array1.reshape(5,2)\n",
        "print('array3:\\n', array3)\n"
      ],
      "metadata": {
        "colab": {
          "base_uri": "https://localhost:8080/"
        },
        "id": "TRS9nGpHlayd",
        "outputId": "0231e666-7d4f-489b-fc14-32b12666917e"
      },
      "execution_count": null,
      "outputs": [
        {
          "output_type": "stream",
          "name": "stdout",
          "text": [
            "array1:\n",
            " [0 1 2 3 4 5 6 7 8 9]\n",
            "array2:\n",
            " [[0 1 2 3 4]\n",
            " [5 6 7 8 9]]\n",
            "array3:\n",
            " [[0 1]\n",
            " [2 3]\n",
            " [4 5]\n",
            " [6 7]\n",
            " [8 9]]\n"
          ]
        }
      ]
    },
    {
      "cell_type": "markdown",
      "source": [
        "* reshape함수는 지정된 사이즈로 변경할 수 없을 경우 오류가 발생함\n"
      ],
      "metadata": {
        "id": "hnYSGfTYmpfY"
      }
    },
    {
      "cell_type": "code",
      "source": [
        "array1.reshape(4,3)"
      ],
      "metadata": {
        "colab": {
          "base_uri": "https://localhost:8080/",
          "height": 186
        },
        "id": "19YBk0aamvxC",
        "outputId": "e710a5fd-deb3-434d-8c62-d3a681308922"
      },
      "execution_count": null,
      "outputs": [
        {
          "output_type": "error",
          "ename": "ValueError",
          "evalue": "ignored",
          "traceback": [
            "\u001b[0;31m---------------------------------------------------------------------------\u001b[0m",
            "\u001b[0;31mValueError\u001b[0m                                Traceback (most recent call last)",
            "\u001b[0;32m<ipython-input-33-a40469ec5825>\u001b[0m in \u001b[0;36m<cell line: 1>\u001b[0;34m()\u001b[0m\n\u001b[0;32m----> 1\u001b[0;31m \u001b[0marray1\u001b[0m\u001b[0;34m.\u001b[0m\u001b[0mreshape\u001b[0m\u001b[0;34m(\u001b[0m\u001b[0;36m4\u001b[0m\u001b[0;34m,\u001b[0m\u001b[0;36m3\u001b[0m\u001b[0;34m)\u001b[0m\u001b[0;34m\u001b[0m\u001b[0;34m\u001b[0m\u001b[0m\n\u001b[0m",
            "\u001b[0;31mValueError\u001b[0m: cannot reshape array of size 10 into shape (4,3)"
          ]
        }
      ]
    },
    {
      "cell_type": "markdown",
      "source": [
        "* reshape의 인자로 -1을 사용하면 원래의 ndarray와 호환되는 새로운 shape로 변환해줌"
      ],
      "metadata": {
        "id": "rCwMgVnMm1BJ"
      }
    },
    {
      "cell_type": "code",
      "source": [
        "array1=np.arange(10)\n",
        "print(array1)\n",
        "array2=array1.reshape(-1,5)\n",
        "print('array2 shape:', array2.shape) #array1 과 호환가능한 2차원 ndarray로 변환하되, 고정된 5개의 열에 맞는 행들을 자동으로 새롭게 생성하여 변환\n",
        "array3=array1.reshape(5,-1)\n",
        "print('array3 shape:', array3.shape)"
      ],
      "metadata": {
        "colab": {
          "base_uri": "https://localhost:8080/"
        },
        "id": "yLuC8WjpnFoJ",
        "outputId": "d3af252b-ac73-47ab-d641-ba91cdcf38a9"
      },
      "execution_count": null,
      "outputs": [
        {
          "output_type": "stream",
          "name": "stdout",
          "text": [
            "[0 1 2 3 4 5 6 7 8 9]\n",
            "array2 shape: (2, 5)\n",
            "array3 shape: (5, 2)\n"
          ]
        }
      ]
    },
    {
      "cell_type": "code",
      "source": [
        "#호환불가능한 형태로는 변환불가능\n",
        "array1=np.arange(10)\n",
        "array4=array1.reshape(-1,4)"
      ],
      "metadata": {
        "colab": {
          "base_uri": "https://localhost:8080/",
          "height": 223
        },
        "id": "PZzjwUiHoqHf",
        "outputId": "9ecd96a4-86bb-437f-c0e7-80208759d9ed"
      },
      "execution_count": null,
      "outputs": [
        {
          "output_type": "error",
          "ename": "ValueError",
          "evalue": "ignored",
          "traceback": [
            "\u001b[0;31m---------------------------------------------------------------------------\u001b[0m",
            "\u001b[0;31mValueError\u001b[0m                                Traceback (most recent call last)",
            "\u001b[0;32m<ipython-input-37-ad4cf273d4ba>\u001b[0m in \u001b[0;36m<cell line: 3>\u001b[0;34m()\u001b[0m\n\u001b[1;32m      1\u001b[0m \u001b[0;31m#호환불가능한 형태로는 변환불가능\u001b[0m\u001b[0;34m\u001b[0m\u001b[0;34m\u001b[0m\u001b[0m\n\u001b[1;32m      2\u001b[0m \u001b[0marray1\u001b[0m\u001b[0;34m=\u001b[0m\u001b[0mnp\u001b[0m\u001b[0;34m.\u001b[0m\u001b[0marange\u001b[0m\u001b[0;34m(\u001b[0m\u001b[0;36m10\u001b[0m\u001b[0;34m)\u001b[0m\u001b[0;34m\u001b[0m\u001b[0;34m\u001b[0m\u001b[0m\n\u001b[0;32m----> 3\u001b[0;31m \u001b[0marray4\u001b[0m\u001b[0;34m=\u001b[0m\u001b[0marray1\u001b[0m\u001b[0;34m.\u001b[0m\u001b[0mreshape\u001b[0m\u001b[0;34m(\u001b[0m\u001b[0;34m-\u001b[0m\u001b[0;36m1\u001b[0m\u001b[0;34m,\u001b[0m\u001b[0;36m4\u001b[0m\u001b[0;34m)\u001b[0m\u001b[0;34m\u001b[0m\u001b[0;34m\u001b[0m\u001b[0m\n\u001b[0m",
            "\u001b[0;31mValueError\u001b[0m: cannot reshape array of size 10 into shape (4)"
          ]
        }
      ]
    },
    {
      "cell_type": "markdown",
      "source": [
        "reshape(-1,1): 원본 ndarray가 어떤 형태라도 2차원이고 다수의 행들을 가지지만 반드시 1개의 열을 가진 ndarray로 변환됨을 보장"
      ],
      "metadata": {
        "id": "OTHyAcVso86L"
      }
    },
    {
      "cell_type": "code",
      "source": [
        "array1=np.arange(8)\n",
        "array3d=array1.reshape((2,2,2))\n",
        "print('array3d:\\n',array3d.tolist())\n",
        "\n",
        "#3차원 ndarray를 2차원 ndarray로 변환\n",
        "array5=array3d.reshape(-1,1)\n",
        "print('array5:\\n',array5.tolist())\n",
        "print('array5 shape',array5.shape)\n",
        "\n",
        "#1차원 ndarray를 2차원 ndarray로 변환\n",
        "array6=array1.reshape(-1,1)\n",
        "print('array6:\\n',array6.tolist())\n",
        "print('array6 shape',array6.shape)"
      ],
      "metadata": {
        "colab": {
          "base_uri": "https://localhost:8080/"
        },
        "id": "Q723Jp81rEps",
        "outputId": "2af8b585-04df-4cbf-a076-9e4558a16bf3"
      },
      "execution_count": null,
      "outputs": [
        {
          "output_type": "stream",
          "name": "stdout",
          "text": [
            "array3d:\n",
            " [[[0, 1], [2, 3]], [[4, 5], [6, 7]]]\n",
            "array5:\n",
            " [[0], [1], [2], [3], [4], [5], [6], [7]]\n",
            "array5 shape (8, 1)\n",
            "array6:\n",
            " [[0], [1], [2], [3], [4], [5], [6], [7]]\n",
            "array6 shape (8, 1)\n"
          ]
        }
      ]
    },
    {
      "cell_type": "markdown",
      "source": [
        "* 넘파이의 ndarray의 데이터 세트 선택하기 - 인덱싱\n",
        "  \n",
        "  1) 특정 데이터만 추출: 원하는 위치의 인덱스 값 지정\n",
        "  \n",
        "  2) 슬라이싱: 연속된 인덱스 상의 ndarray를 추출하는 방식\n",
        "\n",
        "  3) 팬시 인덱싱: 일정한 인덱싱 집합을 리스트 혹은 ndarray 형태로 지정하여 해당 위치 데이터의 ndarray 반환\n",
        "\n",
        "  4) 불린 인덱싱: T/F 값 인덱싱 집합을 기반으로 T에 해당하는 인덱스 위치의 데이터 ndarray를 반환"
      ],
      "metadata": {
        "id": "4dN8NOsksesI"
      }
    },
    {
      "cell_type": "code",
      "source": [
        "#단일값 추출\n",
        "##1~9 까지의 1차원 ndarray 생성\n",
        "array1=np.arange(start=1, stop=10)\n",
        "print('array1:', array1)\n",
        "#인덱스는 0부터 시작이므로 array1[2]는 3번째 인덱스 위치의 데이터값을 의미\n",
        "value=array1[2] # 3번째 위치의 데이터 값 (ndarray 타입이 아니라 ndarray 내의 데이터 값을 의미)\n",
        "print('value:', value)\n",
        "print(type(value))"
      ],
      "metadata": {
        "colab": {
          "base_uri": "https://localhost:8080/"
        },
        "id": "kAO4md5ptwsK",
        "outputId": "57b01767-7ca1-427e-d0e9-80a24efba76c"
      },
      "execution_count": null,
      "outputs": [
        {
          "output_type": "stream",
          "name": "stdout",
          "text": [
            "array1: [1 2 3 4 5 6 7 8 9]\n",
            "value: 3\n",
            "<class 'numpy.int64'>\n"
          ]
        }
      ]
    },
    {
      "cell_type": "code",
      "source": [
        "#인덱스 -1은 맨 뒤의 데이터값을 의미\n",
        "print('맨 뒤의 값:', array1[-1], '맨 뒤에서 두 번째 값:', array1[-2])"
      ],
      "metadata": {
        "colab": {
          "base_uri": "https://localhost:8080/"
        },
        "id": "3Y26_EZMvJew",
        "outputId": "642e7f22-01c9-4585-d5de-1593f0508541"
      },
      "execution_count": null,
      "outputs": [
        {
          "output_type": "stream",
          "name": "stdout",
          "text": [
            "맨 뒤의 값: 9 맨 뒤에서 두 번째 값: 8\n"
          ]
        }
      ]
    },
    {
      "cell_type": "code",
      "source": [
        "#단일 인덱스를 활용하여 ndarray내의 데이터 값도 간단하게 수정가능\n",
        "array1[0]=9\n",
        "array1[8]=0\n",
        "print('array1:', array1)"
      ],
      "metadata": {
        "colab": {
          "base_uri": "https://localhost:8080/"
        },
        "id": "T1uq2eHKvjoP",
        "outputId": "914a6f3f-87c7-4182-9e6c-f24ff3c745b1"
      },
      "execution_count": null,
      "outputs": [
        {
          "output_type": "stream",
          "name": "stdout",
          "text": [
            "array1: [9 2 3 4 5 6 7 8 0]\n"
          ]
        }
      ]
    },
    {
      "cell_type": "code",
      "source": [
        "#다차원 ndarray에서 단일 값 추출하기\n",
        "##2차원의 경우, 콤마로 분리된 행과 열 위치의 인덱스를 통해 접근\n",
        "array1d=np.arange(start=1, stop=10)\n",
        "array2d=array1d.reshape(3,3)\n",
        "print(array2d)\n",
        "\n",
        "print('(row=0, col=0) index 가리키는 값:', array2d[0,0])\n",
        "print('(row=0, col=1) index 가리키는 값:', array2d[0,1])\n",
        "print('(row=1, col=0) index 가리키는 값:', array2d[1,0])\n",
        "print('(row=2, col=2) index 가리키는 값:', array2d[2,2])"
      ],
      "metadata": {
        "colab": {
          "base_uri": "https://localhost:8080/"
        },
        "id": "Dwt43ue4wDm4",
        "outputId": "3cb5631f-73a1-4bf7-83aa-6f04fa408f1d"
      },
      "execution_count": null,
      "outputs": [
        {
          "output_type": "stream",
          "name": "stdout",
          "text": [
            "[[1 2 3]\n",
            " [4 5 6]\n",
            " [7 8 9]]\n",
            "(row=0, col=0) index 가리키는 값: 1\n",
            "(row=0, col=1) index 가리키는 값: 2\n",
            "(row=1, col=0) index 가리키는 값: 4\n",
            "(row=2, col=2) index 가리키는 값: 9\n"
          ]
        }
      ]
    },
    {
      "cell_type": "markdown",
      "source": [
        "* 슬라이싱\n",
        "  - ':' 기호를 이용하여 연속된 데이터를 추출함\n",
        "  - ':' 사이에 시작 인덱스와 종료 인덱스 표시하면 시작 인덱스에서 종료 인덱스 -1의 위치에 있는 데이터의 ndarray를 반환\n",
        "\n",
        "*슬라이싱, 팬시 인덱싱, 불린 인덱싱으로 추출된 데이터 세트는 모두 ndarray"
      ],
      "metadata": {
        "id": "VoAyr8s9xeRo"
      }
    },
    {
      "cell_type": "code",
      "source": [
        "array1=np.arange(start=1, stop=10)\n",
        "array3=array1[0:3]\n",
        "print(array3)\n",
        "print(type(array3))"
      ],
      "metadata": {
        "colab": {
          "base_uri": "https://localhost:8080/"
        },
        "id": "B3Kyd6XUyROJ",
        "outputId": "aab8a14e-25ef-4857-dd6d-1367301969b2"
      },
      "execution_count": null,
      "outputs": [
        {
          "output_type": "stream",
          "name": "stdout",
          "text": [
            "[1 2 3]\n",
            "<class 'numpy.ndarray'>\n"
          ]
        }
      ]
    },
    {
      "cell_type": "markdown",
      "source": [
        "* 슬라이싱 기호 ':' 사이의 시작, 종료 인덱스는 생략 가능\n",
        "  \n",
        "  1) ':' 기호 앞의 시작 인덱스 생략하면, 자동으로 맨 처음 인덱스인 0으로 간주\n",
        "\n",
        "  2) ':' 기호 뒤의 종료 인덱스 생략하면, 자동으로 맨 마지막 인덱스로 간주\n",
        "\n",
        "  3)  ':' 기호 앞/뒤의 시작/종료 인덱스 생략하면, 자동으로 맨 처음/맨 마지막 인덱스로 간주"
      ],
      "metadata": {
        "id": "TVZwKTGAynQx"
      }
    },
    {
      "cell_type": "code",
      "source": [
        "array1=np.arange(start=1, stop=10)\n",
        "array4=array1[:3]\n",
        "print(array4)\n",
        "\n",
        "array5= array1[3:]\n",
        "print(array5)\n",
        "\n",
        "array6=array1[:]\n",
        "print(array6)"
      ],
      "metadata": {
        "colab": {
          "base_uri": "https://localhost:8080/"
        },
        "id": "7km9Uz0czWpS",
        "outputId": "6e59c148-72af-4d13-b6bf-1d15a187467a"
      },
      "execution_count": null,
      "outputs": [
        {
          "output_type": "stream",
          "name": "stdout",
          "text": [
            "[1 2 3]\n",
            "[4 5 6 7 8 9]\n",
            "[1 2 3 4 5 6 7 8 9]\n"
          ]
        }
      ]
    },
    {
      "cell_type": "code",
      "source": [
        "#2차원 ndarray 슬라이싱\n",
        "array1d=np.arange(start=1, stop=10)\n",
        "array2d=array1d.reshape(3,3)\n",
        "print('array2d:\\n',array2d)\n",
        "\n",
        "print('array2d[0:2, 0:2]\\n', array2d[0:2, 0:2])\n",
        "print('array2d[1:3, 0:3]\\n', array2d[1:3, 0:3])\n",
        "print('array2d[1:3, :]\\n', array2d[1:3, :])\n",
        "print('array2d[:, :]\\n', array2d[:, :])\n",
        "print('array2d[:2, 1:]\\n', array2d[:2, 1:])\n",
        "print('array2d[:2, 0]\\n', array2d[:2, 0])"
      ],
      "metadata": {
        "colab": {
          "base_uri": "https://localhost:8080/"
        },
        "id": "ld-SlJ38zzUU",
        "outputId": "72391f6c-75f7-405a-a49c-ee2bf1c67ec4"
      },
      "execution_count": null,
      "outputs": [
        {
          "output_type": "stream",
          "name": "stdout",
          "text": [
            "array2d:\n",
            " [[1 2 3]\n",
            " [4 5 6]\n",
            " [7 8 9]]\n",
            "array2d[0:2, 0:2]\n",
            " [[1 2]\n",
            " [4 5]]\n",
            "array2d[1:3, 0:3]\n",
            " [[4 5 6]\n",
            " [7 8 9]]\n",
            "array2d[1:3, :]\n",
            " [[4 5 6]\n",
            " [7 8 9]]\n",
            "array2d[:, :]\n",
            " [[1 2 3]\n",
            " [4 5 6]\n",
            " [7 8 9]]\n",
            "array2d[:2, 1:]\n",
            " [[2 3]\n",
            " [5 6]]\n",
            "array2d[:2, 0]\n",
            " [1 4]\n"
          ]
        }
      ]
    },
    {
      "cell_type": "code",
      "source": [
        "#2차원 ndarray에서 뒤에 오는 인덱스를 없애면 1차원 ndarray를 반환\n",
        "#3차원 ndarray에서 뒤에 오는 인덱스를 없애면 2차원 ndarray를 반환\n",
        "print(array2d[0])\n",
        "print(array2d[1])\n",
        "print('array2d[0] shape:', array2d[0].shape, 'array2d[1] shape:', array2d[1].shape)"
      ],
      "metadata": {
        "colab": {
          "base_uri": "https://localhost:8080/"
        },
        "id": "LMRZ_oC71Izb",
        "outputId": "a17fdd36-183d-4eb8-b394-f848f3ca0a7d"
      },
      "execution_count": null,
      "outputs": [
        {
          "output_type": "stream",
          "name": "stdout",
          "text": [
            "[1 2 3]\n",
            "[4 5 6]\n",
            "array2d[0] shape: (3,) array2d[1] shape: (3,)\n"
          ]
        }
      ]
    },
    {
      "cell_type": "code",
      "source": [
        "#팬시 인덱싱: 리스트나 ndarray로 인덱스 집합을 지정하면 해당 위치의 인덱스에 해당하는 ndarray를 반환\n",
        "array1d=np.arange(start=1, stop=10)\n",
        "array2d=array1d.reshape(3,3)\n",
        "\n",
        "array3=array2d[[0,1],2]\n",
        "print('array2d[[0,1],2]=>', array3.tolist())\n",
        "\n",
        "array4=array2d[[0,1],0:2]\n",
        "print('array2d[[0,1],0:2]=>', array4.tolist())\n",
        "\n",
        "array5=array2d[0,1]\n",
        "print('array2d[0,1]=>', array5.tolist())"
      ],
      "metadata": {
        "colab": {
          "base_uri": "https://localhost:8080/"
        },
        "id": "E12EMVFj18hx",
        "outputId": "a339b9d4-7b11-4066-c41d-adbc3e7fbbe5"
      },
      "execution_count": null,
      "outputs": [
        {
          "output_type": "stream",
          "name": "stdout",
          "text": [
            "array2d[[0,1],2]=> [3, 6]\n",
            "array2d[[0,1],0:2]=> [[1, 2], [4, 5]]\n",
            "array2d[0,1]=> 2\n"
          ]
        }
      ]
    },
    {
      "cell_type": "code",
      "source": [
        "#불린 인덱싱: 필터링과 검색 동시 가능, ndarray를 지정하는 []내의 조건문을 그대로 기재하면 된다\n",
        "array1d=np.arange(start=1, stop=10)\n",
        "#[] 안에 array1d > 5 불린 인덱싱 적용\n",
        "array3=array1d[array1d>5]\n",
        "print('array>5 불린 인덱싱 결과 값:', array3)"
      ],
      "metadata": {
        "colab": {
          "base_uri": "https://localhost:8080/"
        },
        "id": "jEAJslA_3JtW",
        "outputId": "4e4b44ee-071b-4133-aa49-35acb6c59c9f"
      },
      "execution_count": null,
      "outputs": [
        {
          "output_type": "stream",
          "name": "stdout",
          "text": [
            "array>5 불린 인덱싱 결과 값: [6 7 8 9]\n"
          ]
        }
      ]
    },
    {
      "cell_type": "code",
      "source": [
        "#넘파이 ndarray 객체에 조건식을 할당하면 어떻게 되는 가\n",
        "array1d>5"
      ],
      "metadata": {
        "colab": {
          "base_uri": "https://localhost:8080/"
        },
        "id": "X-6sqq9S32na",
        "outputId": "b124a084-6993-4b75-f17c-e8e3d60e4f6b"
      },
      "execution_count": null,
      "outputs": [
        {
          "output_type": "execute_result",
          "data": {
            "text/plain": [
              "array([False, False, False, False, False,  True,  True,  True,  True])"
            ]
          },
          "metadata": {},
          "execution_count": 50
        }
      ]
    },
    {
      "cell_type": "markdown",
      "source": [
        "해당 결과를 인덱싱 지정[] 안에 입력하면 T 값이 있는 위치 인덱스 값으로 자동 변환 되어 해당하는 인덱스 위치의 데이터만 반환"
      ],
      "metadata": {
        "id": "Iwzq1kq_4EhI"
      }
    },
    {
      "cell_type": "code",
      "source": [
        "boolean_indexes=np.array([False, False, False, False, False,  True,  True,  True,  True])\n",
        "array3=array1d[boolean_indexes]\n",
        "print('불린 인덱스로 필터링 결과:', array3)"
      ],
      "metadata": {
        "colab": {
          "base_uri": "https://localhost:8080/"
        },
        "id": "bXcLF3jf4iCg",
        "outputId": "63622c1a-ffdf-4327-c2b1-d6fb51aca85b"
      },
      "execution_count": null,
      "outputs": [
        {
          "output_type": "stream",
          "name": "stdout",
          "text": [
            "불린 인덱스로 필터링 결과: [6 7 8 9]\n"
          ]
        }
      ]
    },
    {
      "cell_type": "code",
      "source": [
        "indexes=np.array([5,6,7,8])\n",
        "array4=array1d[indexes]\n",
        "print('불린 인덱스로 필터링 결과:', array4)\n",
        "\n",
        "#결과 동일"
      ],
      "metadata": {
        "colab": {
          "base_uri": "https://localhost:8080/"
        },
        "id": "tiwvukU95BKJ",
        "outputId": "1f94c08b-03d4-4b06-99f4-0e334511e64a"
      },
      "execution_count": null,
      "outputs": [
        {
          "output_type": "stream",
          "name": "stdout",
          "text": [
            "불린 인덱스로 필터링 결과: [6 7 8 9]\n"
          ]
        }
      ]
    },
    {
      "cell_type": "markdown",
      "source": [
        "* 행렬의 정렬 - sort() 와 argsort()\n",
        "\n",
        "  - 넘파이의 행렬 정렬은 np.sort와 같이 넘파이에서 sort()를 호출하는 방식과 ndarray.sort와 같이 행렬 자체에서 sort()를 호출하는 방식이 있음\n",
        "  - np.sort(): 원행렬 유지한 체 정렬된 행렬 반환\n",
        "  - ndarray.sort(): 원행렬 자체를 정렬한 형태로 변환, 반환 값은 NONE"
      ],
      "metadata": {
        "id": "vsYCbmpw5Wq5"
      }
    },
    {
      "cell_type": "code",
      "source": [
        "org_array=np.array([3,1,9,5])\n",
        "print('원본행렬:', org_array)\n",
        "#np.sort()로 정렬\n",
        "sort_array1= np.sort(org_array)\n",
        "print('np.sort() 호출 후 반환된 정렬 행렬:', sort_array1)\n",
        "print('np.sort() 호출 후 원본행렬:', org_array)\n",
        "#ndarray.sort()로 정렬\n",
        "sort_array2=org_array.sort()\n",
        "print('org_array.sort() 호출 후 반환된 정렬 행렬:', sort_array2)\n",
        "print('org_array.sort() 호출 후 원본행렬:', org_array)\n",
        "#내림차순으로 정렬하기\n",
        "sort_array1_desc=np.sort(org_array)[::-1]\n",
        "print('내림차순으로 정렬:', sort_array1_desc)\n",
        "#행렬이 2차원 이상일 경우, axis 축 값 설정으로 행 방향 혹은 열 방향으로 정렬 수행 가능\n",
        "array2d=np.array([[8,12],\n",
        "                  [7,1]])\n",
        "sort_array2d_axis0=np.sort(array2d, axis=0)\n",
        "print('같은 로우 방향으로 정렬:\\n', sort_array2d_axis0)\n",
        "\n",
        "sort_array2d_axis1=np.sort(array2d, axis=1)\n",
        "print('같은 칼럼 방향으로 정렬:\\n', sort_array2d_axis1)"
      ],
      "metadata": {
        "colab": {
          "base_uri": "https://localhost:8080/"
        },
        "id": "TAYOOpQz6VNN",
        "outputId": "bac28075-bb98-47c1-91b0-cb475b6a5066"
      },
      "execution_count": null,
      "outputs": [
        {
          "output_type": "stream",
          "name": "stdout",
          "text": [
            "원본행렬: [3 1 9 5]\n",
            "np.sort() 호출 후 반환된 정렬 행렬: [1 3 5 9]\n",
            "np.sort() 호출 후 원본행렬: [3 1 9 5]\n",
            "org_array.sort() 호출 후 반환된 정렬 행렬: None\n",
            "org_array.sort() 호출 후 원본행렬: [1 3 5 9]\n",
            "내림차순으로 정렬: [9 5 3 1]\n",
            "같은 로우 방향으로 정렬:\n",
            " [[ 7  1]\n",
            " [ 8 12]]\n",
            "같은 칼럼 방향으로 정렬:\n",
            " [[ 8 12]\n",
            " [ 1  7]]\n"
          ]
        }
      ]
    },
    {
      "cell_type": "code",
      "source": [
        "#정렬된 행렬의 인덱스 반환하기\n",
        "##원본 행렬이 정렬되었을 때 기존 원본 행렬의 원소에 대한 인덱스를 필요로 할 때 np.argsort() 이용\n",
        "##np.argsort(): 정렬 행렬의 원본 행렬 인덱스를 ndarray형으로 반환\n",
        "org_array=np.array([3,1,9,5])\n",
        "sort_indices=np.argsort(org_array)\n",
        "print(type(sort_indices))\n",
        "print('행렬 정렬 시 원본 행렬의 인덱스:', sort_indices)\n",
        "###내림차순으로 정렬하기\n",
        "org_array=np.array([3,1,9,5])\n",
        "sort_indices_desc=np.argsort(org_array)[::-1]\n",
        "print('행렬 내림차순 정렬 시 원본 행렬의 인덱스:', sort_indices_desc)"
      ],
      "metadata": {
        "colab": {
          "base_uri": "https://localhost:8080/"
        },
        "id": "Pen5rULA9Kwq",
        "outputId": "0f4035e8-8a38-4c6b-b0b6-cc0c658613e8"
      },
      "execution_count": null,
      "outputs": [
        {
          "output_type": "stream",
          "name": "stdout",
          "text": [
            "<class 'numpy.ndarray'>\n",
            "행렬 정렬 시 원본 행렬의 인덱스: [1 0 3 2]\n",
            "행렬 내림차순 정렬 시 원본 행렬의 인덱스: [2 3 0 1]\n"
          ]
        }
      ]
    },
    {
      "cell_type": "code",
      "source": [
        "#넘파이의 ndarray는 메타 데이터를 가질 수 없음 따라서 실제 값과 그 값이 뜻하는 메타 데이터를 별도의 ndarray로 각각 가져야만 하는데 이때 argsort()를 사용함\n",
        "import numpy as np\n",
        "name_array=np.array(['John', 'Mike', 'Sarah', 'Kate', 'Sammuel'])\n",
        "score_array=np.array([78, 95, 84, 98, 88])\n",
        "sort_indices_asc=np.argsort(score_array)\n",
        "print('성적 오름차순 정렬 시 score_array의 인덱스:',sort_indices_asc)\n",
        "print('성적 오름차순으로 name_array의 이름 출력:',name_array[sort_indices_asc])"
      ],
      "metadata": {
        "colab": {
          "base_uri": "https://localhost:8080/"
        },
        "id": "qaNBNE7X-wrI",
        "outputId": "a1f9b2e4-b140-442e-8260-597a9995444f"
      },
      "execution_count": null,
      "outputs": [
        {
          "output_type": "stream",
          "name": "stdout",
          "text": [
            "성적 오름차순 정렬 시 score_array의 인덱스: [0 2 4 1 3]\n",
            "성적 오름차순으로 name_array의 이름 출력: ['John' 'Sarah' 'Sammuel' 'Mike' 'Kate']\n"
          ]
        }
      ]
    },
    {
      "cell_type": "code",
      "source": [
        "#선형대수 연산-행렬 내적과 전치행렬 구하기\n",
        "\n",
        "##행렬내적\n",
        "A=np.array([[1,2,3],\n",
        "           [4,5,6]])\n",
        "B=np.array([[7,8],\n",
        "           [9,10],\n",
        "           [11,12]])\n",
        "dot_product=np.dot(A,B)\n",
        "print('행렬 내적 결과:\\n', dot_product)\n",
        "\n",
        "##전치 행렬\n",
        "A=np.array([[1,2],\n",
        "           [3,4]])\n",
        "transpose_mat=np.transpose(A)\n",
        "print(\"A의 전치 행렬:\\n\", transpose_mat)"
      ],
      "metadata": {
        "colab": {
          "base_uri": "https://localhost:8080/"
        },
        "id": "Yygi0RsqAWy_",
        "outputId": "30645477-0a25-49d5-d6d4-eb04b636d16c"
      },
      "execution_count": null,
      "outputs": [
        {
          "output_type": "stream",
          "name": "stdout",
          "text": [
            "행렬 내적 결과:\n",
            " [[ 58  64]\n",
            " [139 154]]\n",
            "A의 전치 행렬:\n",
            " [[1 3]\n",
            " [2 4]]\n"
          ]
        }
      ]
    }
  ]
}