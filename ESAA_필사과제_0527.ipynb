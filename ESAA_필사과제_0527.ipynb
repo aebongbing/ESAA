{
  "cells": [
    {
      "cell_type": "markdown",
      "metadata": {
        "id": "view-in-github",
        "colab_type": "text"
      },
      "source": [
        "<a href=\"https://colab.research.google.com/github/aebongbing/ESAA/blob/main/ESAA_%ED%95%84%EC%82%AC%EA%B3%BC%EC%A0%9C_0527.ipynb\" target=\"_parent\"><img src=\"https://colab.research.google.com/assets/colab-badge.svg\" alt=\"Open In Colab\"/></a>"
      ]
    },
    {
      "cell_type": "markdown",
      "metadata": {
        "id": "dqzj7n4fcB-q"
      },
      "source": [
        "# 합성곱 신경망(CNN)\n",
        "\n",
        "- CNN: 데이터가 가진 특징들의 패턴을 학습하는 알고리즘\n",
        "\n",
        "## 1-1 이미지 표현\n",
        "\n",
        "- 이미지는 컴퓨터가 이해할 수 있게 하기 위해 숫자로 표현됨\n",
        "\n",
        "- RGB인 경우 한 차원이 더 추가된다\n",
        "\n",
        "## 1-2 합성곱(Convolution)\n",
        "\n",
        "- 합성곱 연산은 이미지에 대해 정방형 크기를 가지는 커널을 사용하여 입력 이미지에 대한 특성을 추출하는 방법\n",
        "\n",
        "- 합성곱 연산을 통해 추출된 이미지를 특성맵(feature map)이라고 부른다\n",
        "\n",
        "- 커널 사이즈가 3x3일 경우, 9개의 가중치를 가지며 오차 역전파 시 커널의 가중치를 업데이트한다\n",
        "\n",
        "- 합성곱 신경망이 이미지 특성 추출에 효율적인 이유는 바로 커널의 공유 가중치 때문이다. 오차 역전파 시 커널의 그래디언트를 계산할 때 9개에 대해서만 업데이트하면 되므로 Fully Connencted Layer를 사용할 때보다 연산량이 훨씬 적다\n",
        "\n",
        "##1-3 채널\n",
        "\n",
        "- 채널: 입력 이미지를 구성하는 2차원의 배열 개수, 컬러 이미지의 경유 Red, Green, Blue 채널 이미지 3장이 겹쳐서 표현된다.\n",
        "\n",
        "##1-4 스트라이드(stride)\n",
        "\n",
        "- 스트라이드: 좌측 상단에서부터 입력 이미지를 기준으로 우측으로 이동하면서 합성곱 연산을 계속 수행하고 특성맵에 결과를 채워나간다. 이때 이동하는 간격을 스트라이드로 정의하며 주로 1 또는 2로 정의한다.\n",
        "\n",
        "##1-5 패딩\n",
        "\n",
        "- 특성맵의 크기가 줄어드는 것을 방지하기 위해 패딩을 사용 주로 zero-padding을 사용함\n",
        "\n",
        "- 텐서플로 케라스의 Conv2D레이어에서 padding='same'으로 설정하면 zero-padding을 적용함 기본값은 padding='valid'이다\n",
        "\n",
        "##1-6 특성맵 사이즈\n",
        "\n",
        "- Image Height, Image Width: 입력 크기\n",
        "\n",
        "- Kernel Height, Kernel Width: 필터 크기\n",
        "\n",
        "- S: 스트라이드\n",
        "\n",
        "- P: 패딩\n",
        "\n",
        "- Output Height, Output Width: 출력 크기\n",
        "\n",
        "##1-7 풀링\n",
        "\n",
        "- 풀링 레이어는 추출된 특성맵에 대해 다운샘플링하여 이미지의 크기를 축소하는 레이어\n",
        "\n",
        "- 장점: 이미지 축소를 통해 연산량 감소, 오버피팅 방지\n",
        "\n",
        "- 종류: Maxpooling, AveragePooling\n",
        "\n",
        "#2. 간단한 모델 생성\n",
        "\n",
        "- MNIST 손글씨 데이터셋을 가지고 간단한 구조의 합성곱 신경망 모델을 만들어보자\n",
        "\n",
        "## 2-1 데이터 로드 및 전처리"
      ]
    },
    {
      "cell_type": "code",
      "execution_count": null,
      "metadata": {
        "id": "tT0e124VblZ9"
      },
      "outputs": [],
      "source": [
        "#tensorflow 모듈 import\n",
        "import tensorflow as tf"
      ]
    },
    {
      "cell_type": "code",
      "execution_count": null,
      "metadata": {
        "colab": {
          "base_uri": "https://localhost:8080/"
        },
        "id": "0J55kgF6fg7F",
        "outputId": "9957301c-2c97-4ad5-d00f-653657d6cd52"
      },
      "outputs": [
        {
          "name": "stdout",
          "output_type": "stream",
          "text": [
            "Downloading data from https://storage.googleapis.com/tensorflow/tf-keras-datasets/mnist.npz\n",
            "11490434/11490434 [==============================] - 0s 0us/step\n",
            "(60000, 28, 28) (60000,)\n",
            "(10000, 28, 28) (10000,)\n"
          ]
        }
      ],
      "source": [
        "#mnist 손글씨 이미지 데이터 로드\n",
        "mnist=tf.keras.datasets.mnist\n",
        "(x_train,y_train),(x_valid,y_valid)=mnist.load_data()\n",
        "\n",
        "print(x_train.shape,y_train.shape)\n",
        "print(x_valid.shape,y_valid.shape)"
      ]
    },
    {
      "cell_type": "markdown",
      "metadata": {
        "id": "SHM7QURffzgx"
      },
      "source": [
        "- train 데이터셋의 첫번째 이미지 출력"
      ]
    },
    {
      "cell_type": "code",
      "execution_count": null,
      "metadata": {
        "colab": {
          "base_uri": "https://localhost:8080/",
          "height": 422
        },
        "id": "BnJvDJ_4f28N",
        "outputId": "a54e008f-a84f-4d5a-a874-7c3c860f55b0"
      },
      "outputs": [
        {
          "data": {
            "image/png": "[encoded data removed]",
            "text/plain": [
              "<Figure size 500x500 with 1 Axes>"
            ]
          },
          "metadata": {},
          "output_type": "display_data"
        }
      ],
      "source": [
        "#샘플 이미지 출력\n",
        "import matplotlib.pyplot as plt\n",
        "\n",
        "def plot_image(data, idx):\n",
        "  plt.figure(figsize=(5,5))\n",
        "  plt.imshow(data[idx], cmap='gray')\n",
        "  plt.axis('off')\n",
        "  plt.show()\n",
        "\n",
        "plot_image(x_train, 0)"
      ]
    },
    {
      "cell_type": "code",
      "execution_count": null,
      "metadata": {
        "colab": {
          "base_uri": "https://localhost:8080/"
        },
        "id": "B-3IHZpwgQ8z",
        "outputId": "6956c91d-72c3-4868-dda8-94a76e749700"
      },
      "outputs": [
        {
          "name": "stdout",
          "output_type": "stream",
          "text": [
            "0 255\n",
            "0 9\n"
          ]
        }
      ],
      "source": [
        "print(x_train.min(), x_train.max())\n",
        "print(x_valid.min(), y_valid.max())\n",
        "#이미지 픽셀이 0~255 범위의 숫자로 구성된 것을 알 수 있다"
      ]
    },
    {
      "cell_type": "markdown",
      "metadata": {
        "id": "P1lyG-OTgtVa"
      },
      "source": [
        "- mnist 데이터셋은 색상을 나타내는 채널이 1개인 모노 컬러 이미지로 구성됨. CNN 모델에 주입하기 위해서 색상을 나타내는 채널을 추가해 준다\n",
        "\n",
        "- 다음 코드는 tf.newaxis축을 텐서 배열에 직접 추가하는 방식이다. 따라서 (60000, 28, 28)형태의 텐서가 (60000, 28, 28, 1)형태로 변환됨\n"
      ]
    },
    {
      "cell_type": "code",
      "execution_count": null,
      "metadata": {
        "colab": {
          "base_uri": "https://localhost:8080/"
        },
        "id": "rVtr5pDBhHNk",
        "outputId": "ce367df5-4351-471b-f141-c33e988e0964"
      },
      "outputs": [
        {
          "name": "stdout",
          "output_type": "stream",
          "text": [
            "(60000, 28, 28) (10000, 28, 28)\n",
            "(60000, 28, 28, 1) (10000, 28, 28, 1)\n"
          ]
        }
      ],
      "source": [
        "#채널 추가\n",
        "print(x_train.shape, x_valid.shape)\n",
        "\n",
        "x_train_in=x_train[..., tf.newaxis]\n",
        "x_valid_in=x_valid[..., tf.newaxis]\n",
        "\n",
        "print(x_train_in.shape, x_valid_in.shape)"
      ]
    },
    {
      "cell_type": "markdown",
      "metadata": {
        "id": "p1tFV_OXhjbq"
      },
      "source": [
        "##2-2 Sequential API 로 모델 생성 및 학습\n",
        "\n",
        "- Sequential API를 이용해 합성곱 레이어 1개, 풀링 레이어 1개를 적용하는 간단한 모델을 만든다. 최종 분류기로 Dense 레이어를 적용하기 위해, Flatten층을 추가하여 2차원 배열로 펼쳐준다. 합성곱은 Conv2D레이어를 사용하고, (3,3)크기의 서로 다른 32가지 종류의 커널을 적용한다 ReLU활성화 함수를 적용한다. name 속성에 레이어의 이름을 'conv' 라고 지정해준다."
      ]
    },
    {
      "cell_type": "code",
      "execution_count": null,
      "metadata": {
        "id": "LzeHoxn4m92o"
      },
      "outputs": [],
      "source": [
        "#sequential API를 사용해 샘플 모델 생성\n",
        "model=tf.keras.Sequential([\n",
        "    # convolution 적용(32 filters)\n",
        "    tf.keras.layers.Conv2D(32, (3,3), activation='relu', input_shape=(28, 28, 1), name='conv'),\n",
        "    # Max Pooling 적용\n",
        "    tf.keras.layers.MaxPooling2D((2,2), name='pool'),\n",
        "    # Classifier 출력층\n",
        "    tf.keras.layers.Flatten(),\n",
        "    tf.keras.layers.Dense(10, activation='softmax')\n",
        "])"
      ]
    },
    {
      "cell_type": "markdown",
      "metadata": {
        "id": "pykHcVGDnWib"
      },
      "source": [
        "- 앞서 정의한 모델 구조에 옵키마이저, 손실함수, 평가지표를 설정한 후 컴파일하면 모델 인스턴스가 생성된다."
      ]
    },
    {
      "cell_type": "code",
      "execution_count": null,
      "metadata": {
        "colab": {
          "base_uri": "https://localhost:8080/"
        },
        "id": "Fw_3ZiEvne7w",
        "outputId": "45f0156e-29f6-4357-8676-104201381743"
      },
      "outputs": [
        {
          "name": "stdout",
          "output_type": "stream",
          "text": [
            "Epoch 1/10\n",
            "1875/1875 [==============================] - 33s 17ms/step - loss: 0.6043 - accuracy: 0.9390 - val_loss: 0.1187 - val_accuracy: 0.9688\n",
            "Epoch 2/10\n",
            "1875/1875 [==============================] - 37s 20ms/step - loss: 0.0861 - accuracy: 0.9750 - val_loss: 0.0943 - val_accuracy: 0.9747\n",
            "Epoch 3/10\n",
            "1875/1875 [==============================] - 30s 16ms/step - loss: 0.0701 - accuracy: 0.9788 - val_loss: 0.0902 - val_accuracy: 0.9752\n",
            "Epoch 4/10\n",
            "1875/1875 [==============================] - 31s 17ms/step - loss: 0.0630 - accuracy: 0.9806 - val_loss: 0.1142 - val_accuracy: 0.9732\n",
            "Epoch 5/10\n",
            "1875/1875 [==============================] - 34s 18ms/step - loss: 0.0543 - accuracy: 0.9835 - val_loss: 0.1106 - val_accuracy: 0.9749\n",
            "Epoch 6/10\n",
            "1875/1875 [==============================] - 30s 16ms/step - loss: 0.0463 - accuracy: 0.9856 - val_loss: 0.1187 - val_accuracy: 0.9750\n",
            "Epoch 7/10\n",
            "1875/1875 [==============================] - 31s 17ms/step - loss: 0.0385 - accuracy: 0.9879 - val_loss: 0.1877 - val_accuracy: 0.9684\n",
            "Epoch 8/10\n",
            "1875/1875 [==============================] - 36s 19ms/step - loss: 0.0396 - accuracy: 0.9888 - val_loss: 0.1525 - val_accuracy: 0.9725\n",
            "Epoch 9/10\n",
            "1875/1875 [==============================] - 30s 16ms/step - loss: 0.0346 - accuracy: 0.9902 - val_loss: 0.1634 - val_accuracy: 0.9712\n",
            "Epoch 10/10\n",
            "1875/1875 [==============================] - 32s 17ms/step - loss: 0.0298 - accuracy: 0.9916 - val_loss: 0.1836 - val_accuracy: 0.9730\n"
          ]
        }
      ],
      "source": [
        "#모델 컴파일\n",
        "model.compile(optimizer='adam', loss='sparse_categorical_crossentropy',metrics=['accuracy'])\n",
        "#모델 훈련\n",
        "history=model.fit(x_train_in, y_train, validation_data=(x_valid_in, y_valid), epochs=10)"
      ]
    },
    {
      "cell_type": "markdown",
      "metadata": {
        "id": "l48ctGYboBNe"
      },
      "source": [
        "- 훈련 셋과 검증 셋 모두 97%에 가까운 정확도를 보인다"
      ]
    },
    {
      "cell_type": "code",
      "execution_count": null,
      "metadata": {
        "colab": {
          "base_uri": "https://localhost:8080/"
        },
        "id": "rwU8enxDoGaI",
        "outputId": "23ae60e6-0439-4848-da18-64c2560b0ace"
      },
      "outputs": [
        {
          "name": "stdout",
          "output_type": "stream",
          "text": [
            "313/313 [==============================] - 3s 8ms/step - loss: 0.1836 - accuracy: 0.9730\n"
          ]
        },
        {
          "data": {
            "text/plain": [
              "[0.1835615038871765, 0.9729999899864197]"
            ]
          },
          "execution_count": 9,
          "metadata": {},
          "output_type": "execute_result"
        }
      ],
      "source": [
        "model.evaluate(x_valid_in,y_valid)\n",
        "#각각 loss와 accuracy"
      ]
    },
    {
      "cell_type": "markdown",
      "metadata": {
        "id": "0NbSksTDoQ47"
      },
      "source": [
        "- 훈련단계에서 훈련 결과를 history객체에 저장해 두었다. 10 epoch 동안 모델의 예측 정확도를 그래프로 그리는 함수를 정의하고 실행한다. 그래프를 보면 훈련 셋에 대한 손실은 계속 줄어드는데 검증셋의 손실은 어느 수준에서 더 이상 낮아지지 않는다. 4epoch 이후부터는 모델이 과대적합으로 진행되었다는 것을 파악할 수 있다"
      ]
    },
    {
      "cell_type": "code",
      "execution_count": null,
      "metadata": {
        "colab": {
          "base_uri": "https://localhost:8080/",
          "height": 391
        },
        "id": "sv0PXVE9onr0",
        "outputId": "b76c174b-f9a9-4f16-f922-c826266678fd"
      },
      "outputs": [
        {
          "data": {
            "image/png": "[encoded data removed]",
            "text/plain": [
              "<Figure size 1200x400 with 2 Axes>"
            ]
          },
          "metadata": {},
          "output_type": "display_data"
        }
      ],
      "source": [
        "def plot_loss_acc(history, epoch):\n",
        "  loss, val_loss = history.history['loss'], history.history['val_loss']\n",
        "  acc, val_acc = history.history['accuracy'], history.history['val_accuracy']\n",
        "\n",
        "  fig, axes = plt.subplots(1, 2, figsize=(12,4))\n",
        "  axes[0].plot(range(1, epoch+1), loss, label='Training') # x축은 epoch, y축은 loss\n",
        "  axes[0].plot(range(1, epoch+1), val_loss, label='Validation')# x축은 epoch, y축은 val_loss\n",
        "  axes[0].legend(loc='best')\n",
        "  axes[0].set_title('Loss')\n",
        "\n",
        "  axes[1].plot(range(1, epoch+1), acc, label='Training')\n",
        "  axes[1].plot(range(1, epoch+1), val_acc, label='Validation')\n",
        "  axes[1].legend(loc='best')\n",
        "  axes[1].set_title('Accuracy')\n",
        "\n",
        "  plt.show()\n",
        "\n",
        "plot_loss_acc(history, 10)"
      ]
    },
    {
      "cell_type": "markdown",
      "metadata": {
        "id": "KlU1vh6oosIH"
      },
      "source": [
        "## 2-3 모델 구조 파악\n",
        "\n",
        "- summary(): 모델의 구조를 요약해서 보여준다\n",
        "\n",
        "- (28,28,1)형태의 입력 텐서가 Conv2D를 거치면서 (26,26,32) 형태로 변환된다. (3,3)크기의 합성곱 필터를 사용하므로 이미지 가로,세로 크기가 2씩 줄어든다. 여기서 패딩은 적용되지 않는다. 서로 다른 32개의 필터를 적용했기 때문여 (26,26)크기의 특성맵이 32개 생성된다. 즉, (28,28,1)이미지에 서로 다른 32개 커널을 적용해서 32가지 종류의 피처를 추출하는 것이다.\n",
        "- (2,2)크기의 풀링 레이어를 적용했기 때문에 이미지 크기가 1/2로 줄어든다. 따라서 풀링 레이어를 거치면 (13,13,32)텐서로 변환되고, Flatten 중에서 3차원 텐서를 1차원 텐서로 펼치면 5408(13X13X32)개 원소를 갖는 1차원 벡터가 된다."
      ]
    },
    {
      "cell_type": "code",
      "execution_count": null,
      "metadata": {
        "colab": {
          "base_uri": "https://localhost:8080/"
        },
        "id": "dkYhiR6eo4jC",
        "outputId": "dfea8bc0-6886-4007-b571-8081c83dae89"
      },
      "outputs": [
        {
          "name": "stdout",
          "output_type": "stream",
          "text": [
            "Model: \"sequential\"\n",
            "_________________________________________________________________\n",
            " Layer (type)                Output Shape              Param #   \n",
            "=================================================================\n",
            " conv (Conv2D)               (None, 26, 26, 32)        320       \n",
            "                                                                 \n",
            " pool (MaxPooling2D)         (None, 13, 13, 32)        0         \n",
            "                                                                 \n",
            " flatten (Flatten)           (None, 5408)              0         \n",
            "                                                                 \n",
            " dense (Dense)               (None, 10)                54090     \n",
            "                                                                 \n",
            "=================================================================\n",
            "Total params: 54410 (212.54 KB)\n",
            "Trainable params: 54410 (212.54 KB)\n",
            "Non-trainable params: 0 (0.00 Byte)\n",
            "_________________________________________________________________\n"
          ]
        }
      ],
      "source": [
        "#모델 구조\n",
        "model.summary()"
      ]
    },
    {
      "cell_type": "code",
      "execution_count": null,
      "metadata": {
        "colab": {
          "base_uri": "https://localhost:8080/"
        },
        "id": "Yo1L2yVzpB56",
        "outputId": "9385eb90-4db8-481e-ab72-ec3b7c85a55a"
      },
      "outputs": [
        {
          "data": {
            "text/plain": [
              "<KerasTensor: shape=(None, 28, 28, 1) dtype=float32 (created by layer 'conv_input')>"
            ]
          },
          "execution_count": 12,
          "metadata": {},
          "output_type": "execute_result"
        }
      ],
      "source": [
        "#입력 텐서 형태\n",
        "model.input"
      ]
    },
    {
      "cell_type": "code",
      "execution_count": null,
      "metadata": {
        "colab": {
          "base_uri": "https://localhost:8080/"
        },
        "id": "9-cv4Mz8pHGb",
        "outputId": "16a58a6c-41cd-46b9-a3d0-30b1374f2889"
      },
      "outputs": [
        {
          "data": {
            "text/plain": [
              "<KerasTensor: shape=(None, 10) dtype=float32 (created by layer 'dense')>"
            ]
          },
          "execution_count": 13,
          "metadata": {},
          "output_type": "execute_result"
        }
      ],
      "source": [
        "#출력 텐서 형태\n",
        "model.output"
      ]
    },
    {
      "cell_type": "code",
      "execution_count": null,
      "metadata": {
        "colab": {
          "base_uri": "https://localhost:8080/"
        },
        "id": "e_mYjbP0pNL7",
        "outputId": "9cb099e7-7049-4485-bb2e-a03fd15d6316"
      },
      "outputs": [
        {
          "data": {
            "text/plain": [
              "[<keras.src.layers.convolutional.conv2d.Conv2D at 0x78138347c460>,\n",
              " <keras.src.layers.pooling.max_pooling2d.MaxPooling2D at 0x78138347d7e0>,\n",
              " <keras.src.layers.reshaping.flatten.Flatten at 0x781381134970>,\n",
              " <keras.src.layers.core.dense.Dense at 0x7813811345e0>]"
            ]
          },
          "execution_count": 14,
          "metadata": {},
          "output_type": "execute_result"
        }
      ],
      "source": [
        "#레이어\n",
        "model.layers\n",
        "#4개의 레이어로 구성된다"
      ]
    },
    {
      "cell_type": "code",
      "execution_count": null,
      "metadata": {
        "colab": {
          "base_uri": "https://localhost:8080/"
        },
        "id": "PQ4jg1ulpUzQ",
        "outputId": "470454b0-ecce-45d3-eae0-2cc21299a8bf"
      },
      "outputs": [
        {
          "data": {
            "text/plain": [
              "<keras.src.layers.convolutional.conv2d.Conv2D at 0x78138347c460>"
            ]
          },
          "execution_count": 15,
          "metadata": {},
          "output_type": "execute_result"
        }
      ],
      "source": [
        "#첫번째 레이어\n",
        "model.layers[0]\n",
        "#리스트 인덱싱을 통해 첫 레이어를 선택가능"
      ]
    },
    {
      "cell_type": "code",
      "execution_count": null,
      "metadata": {
        "colab": {
          "base_uri": "https://localhost:8080/"
        },
        "id": "efvKoXprpd7S",
        "outputId": "3216fa19-9cc3-463a-841b-95e1d745d9f5"
      },
      "outputs": [
        {
          "data": {
            "text/plain": [
              "<KerasTensor: shape=(None, 28, 28, 1) dtype=float32 (created by layer 'conv_input')>"
            ]
          },
          "execution_count": 16,
          "metadata": {},
          "output_type": "execute_result"
        }
      ],
      "source": [
        "#첫 번째 레이어 입력\n",
        "model.layers[0].input"
      ]
    },
    {
      "cell_type": "code",
      "execution_count": null,
      "metadata": {
        "colab": {
          "base_uri": "https://localhost:8080/"
        },
        "id": "Qq5mvpsHplSf",
        "outputId": "54d8d5d2-4f52-4645-e442-d3ed03874031"
      },
      "outputs": [
        {
          "data": {
            "text/plain": [
              "<KerasTensor: shape=(None, 26, 26, 32) dtype=float32 (created by layer 'conv')>"
            ]
          },
          "execution_count": 18,
          "metadata": {},
          "output_type": "execute_result"
        }
      ],
      "source": [
        "#첫 번째 레이어 출력\n",
        "model.layers[0].output"
      ]
    },
    {
      "cell_type": "code",
      "execution_count": null,
      "metadata": {
        "colab": {
          "base_uri": "https://localhost:8080/"
        },
        "id": "KRGbWyKYpweZ",
        "outputId": "f6675cca-2932-4fa6-af51-016ef5da5304"
      },
      "outputs": [
        {
          "data": {
            "text/plain": [
              "[<tf.Variable 'conv/kernel:0' shape=(3, 3, 1, 32) dtype=float32, numpy=\n",
              " array([[[[-3.60283814e-02, -1.01447120e-01, -3.50773497e-03,\n",
              "           -1.01924837e-02, -7.00204223e-02, -2.63825864e-01,\n",
              "           -1.61065996e-01,  2.82326639e-02, -1.51030153e-01,\n",
              "           -2.06383020e-02, -5.98631762e-02,  2.50179600e-02,\n",
              "           -2.05986891e-02, -3.42261232e-02, -6.49694949e-02,\n",
              "            4.93431045e-03, -1.24826372e-01, -8.28055944e-03,\n",
              "            2.65853610e-02, -1.91065952e-01, -2.00222239e-01,\n",
              "           -1.68395221e-01, -7.18403084e-04, -1.08718604e-01,\n",
              "           -3.25755738e-02, -3.54108401e-02, -5.25090471e-02,\n",
              "           -1.90677249e-03, -6.44282699e-02, -1.48794055e-01,\n",
              "           -1.38388544e-01, -2.09239766e-01]],\n",
              " \n",
              "         [[-1.35026783e-01,  1.46944821e-01, -4.60036956e-02,\n",
              "           -8.03158358e-02, -3.83810839e-03,  7.57054389e-02,\n",
              "            7.37412721e-02, -8.87937993e-02, -1.26485422e-01,\n",
              "           -4.32799235e-02, -8.09775591e-02, -1.89071089e-01,\n",
              "           -4.82544396e-03,  1.29618747e-02, -8.56840760e-02,\n",
              "            1.66011613e-03, -1.38577789e-01, -1.61055490e-01,\n",
              "           -7.51766749e-03,  9.37646925e-02,  1.01824649e-01,\n",
              "           -3.75733934e-02, -3.42988037e-02, -9.58546549e-02,\n",
              "           -3.91956829e-02,  1.29393548e-01, -3.73647772e-02,\n",
              "            2.19594277e-02, -2.22501159e-02,  1.19970590e-02,\n",
              "           -1.32754603e-02, -7.64366239e-02]],\n",
              " \n",
              "         [[-1.59212157e-01, -1.40955433e-01, -1.01599000e-01,\n",
              "           -1.15594424e-01, -4.43631187e-02, -2.59572789e-02,\n",
              "           -1.61539420e-01, -7.57306591e-02, -6.99448958e-02,\n",
              "           -1.18135044e-03, -1.03138136e-02, -6.32388517e-02,\n",
              "           -6.44192472e-02,  1.51449135e-02,  5.38601913e-02,\n",
              "           -1.22776739e-01, -1.75601795e-01, -1.84128821e-01,\n",
              "           -1.05043836e-01, -2.48590127e-01, -1.21317744e-01,\n",
              "            1.00302708e-03,  2.96265411e-04, -1.83857530e-01,\n",
              "           -1.65926412e-01, -6.35271370e-02, -1.06914334e-01,\n",
              "            2.51807831e-02, -4.66909744e-02,  2.44517997e-03,\n",
              "            3.42835076e-02, -2.59326790e-02]]],\n",
              " \n",
              " \n",
              "        [[[-1.71294123e-01, -1.89917222e-01, -1.75276041e-01,\n",
              "           -1.10299780e-03, -3.92277986e-02,  6.61023930e-02,\n",
              "           -2.21704796e-01, -1.10381469e-02, -2.23756880e-01,\n",
              "           -1.13713532e-03, -1.51849510e-02, -1.20411247e-01,\n",
              "           -2.35673087e-03, -2.09710851e-01, -3.97155382e-04,\n",
              "            4.31618392e-02, -4.21368554e-02, -1.45618260e-01,\n",
              "           -1.05192825e-01, -3.30289342e-02,  4.97003160e-02,\n",
              "           -5.01106083e-02,  4.87687721e-05,  1.67817891e-01,\n",
              "           -7.07999766e-02, -1.54311061e-01, -5.21870842e-03,\n",
              "           -1.59234013e-02, -2.84754038e-02,  6.48442656e-02,\n",
              "           -1.47086620e-01,  1.02572113e-01]],\n",
              " \n",
              "         [[ 1.16040520e-01, -1.31893203e-01, -2.22825110e-02,\n",
              "           -3.37840430e-03, -4.31048870e-02, -1.93474710e-01,\n",
              "           -5.53583680e-03, -6.23712279e-02,  1.52166367e-01,\n",
              "           -3.25574428e-02,  1.63626119e-01, -6.90122247e-02,\n",
              "            1.60551183e-02, -1.02191016e-01, -1.28168240e-01,\n",
              "            3.23957875e-02,  4.41721566e-02,  8.27768743e-02,\n",
              "           -9.47565362e-02, -1.63958222e-01, -1.95300177e-01,\n",
              "           -2.17660777e-02, -1.03811495e-01,  2.21307036e-02,\n",
              "           -1.06922723e-03,  2.31622811e-02, -2.47930586e-01,\n",
              "            8.91471840e-03, -4.53721173e-02,  8.75759125e-02,\n",
              "           -6.09561242e-02,  6.25015469e-03]],\n",
              " \n",
              "         [[-3.19279991e-02, -7.40762874e-02,  8.75279903e-02,\n",
              "           -1.19835004e-01, -5.70827536e-02, -1.08519644e-01,\n",
              "            9.48579386e-02, -6.63529709e-02,  5.93633130e-02,\n",
              "           -1.83644090e-02, -2.26611376e-01, -1.22885674e-01,\n",
              "           -1.27215728e-01, -5.45731485e-02, -1.49137720e-01,\n",
              "           -3.49296838e-01, -8.37877691e-02,  1.33650657e-02,\n",
              "           -6.81121945e-02, -4.89692762e-02, -4.87695225e-02,\n",
              "           -5.72719239e-03, -3.00580207e-02, -3.06653738e-01,\n",
              "            7.98359141e-02, -1.54172525e-01,  7.37550855e-02,\n",
              "           -5.82286082e-02, -1.27869576e-01, -9.21368971e-02,\n",
              "            5.28953411e-02, -2.85248011e-01]]],\n",
              " \n",
              " \n",
              "        [[[-8.42242222e-03,  3.86832692e-02, -1.66020185e-01,\n",
              "           -1.20689003e-02, -2.72319722e-03, -9.87729356e-02,\n",
              "            1.56304147e-02, -1.64716527e-01, -1.85743362e-01,\n",
              "           -7.18753859e-02, -6.26929030e-02, -1.27699628e-01,\n",
              "           -1.06528297e-01, -1.36776576e-02, -1.79270223e-01,\n",
              "           -7.22360611e-03, -8.75207130e-03, -5.76532595e-02,\n",
              "           -1.72060430e-02, -9.25825685e-02, -1.52745619e-02,\n",
              "           -6.09565713e-03, -6.51148660e-03, -1.82633281e-01,\n",
              "           -5.24096340e-02, -2.52029859e-02, -6.27067164e-02,\n",
              "           -2.84488410e-01,  6.58848211e-02, -4.09957021e-02,\n",
              "           -2.88809799e-02, -3.09101105e-01]],\n",
              " \n",
              "         [[-1.34707779e-01, -4.27521110e-01, -5.02363406e-02,\n",
              "           -6.63602352e-02, -1.26215005e-02, -1.45716280e-01,\n",
              "           -1.24878548e-01, -5.90213835e-02, -1.21899903e-01,\n",
              "           -1.05268061e-01, -1.24767303e-01, -1.38431802e-01,\n",
              "            1.10636316e-01,  9.49517488e-02, -1.30091563e-01,\n",
              "           -1.18132919e-01,  4.03940119e-02,  6.65036887e-02,\n",
              "           -8.11705142e-02,  2.20202445e-03, -2.19882369e-01,\n",
              "           -1.12434074e-01, -1.99716492e-03, -2.61498153e-01,\n",
              "           -2.68272579e-01, -2.90164798e-01, -1.08359963e-01,\n",
              "           -1.68519467e-01,  1.13589931e-02, -1.73958465e-01,\n",
              "           -9.08659771e-02, -4.31750380e-02]],\n",
              " \n",
              "         [[-1.07566575e-02, -2.24137139e-02,  1.89045537e-02,\n",
              "           -3.02384375e-03,  6.10758259e-04, -1.42007962e-01,\n",
              "           -1.84192181e-01, -6.89428598e-02, -4.61745560e-02,\n",
              "           -1.59858033e-01, -3.15275118e-02, -2.22399496e-02,\n",
              "           -1.13423221e-01, -1.21339850e-01, -2.45844334e-01,\n",
              "           -4.37178016e-02, -1.06351152e-02, -1.99987348e-02,\n",
              "           -2.39570647e-01,  3.76434661e-02, -1.02379583e-01,\n",
              "           -1.18609052e-03, -1.42980716e-03, -4.08578664e-02,\n",
              "           -4.89783622e-02, -2.92092022e-02, -7.30115026e-02,\n",
              "           -2.16882327e-03, -1.00498781e-01, -1.68276295e-01,\n",
              "           -8.19953457e-02, -7.89650753e-02]]]], dtype=float32)>,\n",
              " <tf.Variable 'conv/bias:0' shape=(32,) dtype=float32, numpy=\n",
              " array([-0.11068477, -0.01290403, -0.03931517, -0.15432115, -0.27728656,\n",
              "        -0.01012437, -0.01122423, -0.0080237 , -0.01913277, -0.21226756,\n",
              "        -0.32686073, -0.02247887, -0.4135727 , -0.05464425, -0.00728778,\n",
              "        -0.20530397, -0.2846177 , -0.32985112, -0.15803406, -0.01228422,\n",
              "        -0.02554493, -0.3829007 , -0.51020837, -0.01189274, -0.04715313,\n",
              "         0.00234449, -0.1588792 , -0.68911105, -0.00769689, -0.41829947,\n",
              "        -0.02395094, -0.22065333], dtype=float32)>]"
            ]
          },
          "execution_count": 19,
          "metadata": {},
          "output_type": "execute_result"
        }
      ],
      "source": [
        "# 첫 번째 레이어 가중치\n",
        "model.layers[0].weights\n",
        "# 커널 가중치의 shape는 (3,3,1,32)로, (3,3)은 필터의 크기, (1)은 입력층 채널 개수, (32)는 출력층의 채널 개수이다.\n",
        "# layer[0]커널의 학습(업데이트) 가능한 파라미터 수는 3*3*1*32 = 288개이다.\n",
        "# 상수항 가중치의 shape는(32, )이고, 이는 출력층의 채널 수를 말한다.\n",
        "# layer[0]의 총 학습가능한 파라미터 수는 커널과 상수항을 더해서 288+32=320 개가 된다."
      ]
    },
    {
      "cell_type": "code",
      "execution_count": null,
      "metadata": {
        "colab": {
          "base_uri": "https://localhost:8080/"
        },
        "id": "y_nkG7fmpz-g",
        "outputId": "6cee9c3e-809c-4ef9-c57c-e1ea882264b8"
      },
      "outputs": [
        {
          "data": {
            "text/plain": [
              "<tf.Variable 'conv/kernel:0' shape=(3, 3, 1, 32) dtype=float32, numpy=\n",
              "array([[[[-3.60283814e-02, -1.01447120e-01, -3.50773497e-03,\n",
              "          -1.01924837e-02, -7.00204223e-02, -2.63825864e-01,\n",
              "          -1.61065996e-01,  2.82326639e-02, -1.51030153e-01,\n",
              "          -2.06383020e-02, -5.98631762e-02,  2.50179600e-02,\n",
              "          -2.05986891e-02, -3.42261232e-02, -6.49694949e-02,\n",
              "           4.93431045e-03, -1.24826372e-01, -8.28055944e-03,\n",
              "           2.65853610e-02, -1.91065952e-01, -2.00222239e-01,\n",
              "          -1.68395221e-01, -7.18403084e-04, -1.08718604e-01,\n",
              "          -3.25755738e-02, -3.54108401e-02, -5.25090471e-02,\n",
              "          -1.90677249e-03, -6.44282699e-02, -1.48794055e-01,\n",
              "          -1.38388544e-01, -2.09239766e-01]],\n",
              "\n",
              "        [[-1.35026783e-01,  1.46944821e-01, -4.60036956e-02,\n",
              "          -8.03158358e-02, -3.83810839e-03,  7.57054389e-02,\n",
              "           7.37412721e-02, -8.87937993e-02, -1.26485422e-01,\n",
              "          -4.32799235e-02, -8.09775591e-02, -1.89071089e-01,\n",
              "          -4.82544396e-03,  1.29618747e-02, -8.56840760e-02,\n",
              "           1.66011613e-03, -1.38577789e-01, -1.61055490e-01,\n",
              "          -7.51766749e-03,  9.37646925e-02,  1.01824649e-01,\n",
              "          -3.75733934e-02, -3.42988037e-02, -9.58546549e-02,\n",
              "          -3.91956829e-02,  1.29393548e-01, -3.73647772e-02,\n",
              "           2.19594277e-02, -2.22501159e-02,  1.19970590e-02,\n",
              "          -1.32754603e-02, -7.64366239e-02]],\n",
              "\n",
              "        [[-1.59212157e-01, -1.40955433e-01, -1.01599000e-01,\n",
              "          -1.15594424e-01, -4.43631187e-02, -2.59572789e-02,\n",
              "          -1.61539420e-01, -7.57306591e-02, -6.99448958e-02,\n",
              "          -1.18135044e-03, -1.03138136e-02, -6.32388517e-02,\n",
              "          -6.44192472e-02,  1.51449135e-02,  5.38601913e-02,\n",
              "          -1.22776739e-01, -1.75601795e-01, -1.84128821e-01,\n",
              "          -1.05043836e-01, -2.48590127e-01, -1.21317744e-01,\n",
              "           1.00302708e-03,  2.96265411e-04, -1.83857530e-01,\n",
              "          -1.65926412e-01, -6.35271370e-02, -1.06914334e-01,\n",
              "           2.51807831e-02, -4.66909744e-02,  2.44517997e-03,\n",
              "           3.42835076e-02, -2.59326790e-02]]],\n",
              "\n",
              "\n",
              "       [[[-1.71294123e-01, -1.89917222e-01, -1.75276041e-01,\n",
              "          -1.10299780e-03, -3.92277986e-02,  6.61023930e-02,\n",
              "          -2.21704796e-01, -1.10381469e-02, -2.23756880e-01,\n",
              "          -1.13713532e-03, -1.51849510e-02, -1.20411247e-01,\n",
              "          -2.35673087e-03, -2.09710851e-01, -3.97155382e-04,\n",
              "           4.31618392e-02, -4.21368554e-02, -1.45618260e-01,\n",
              "          -1.05192825e-01, -3.30289342e-02,  4.97003160e-02,\n",
              "          -5.01106083e-02,  4.87687721e-05,  1.67817891e-01,\n",
              "          -7.07999766e-02, -1.54311061e-01, -5.21870842e-03,\n",
              "          -1.59234013e-02, -2.84754038e-02,  6.48442656e-02,\n",
              "          -1.47086620e-01,  1.02572113e-01]],\n",
              "\n",
              "        [[ 1.16040520e-01, -1.31893203e-01, -2.22825110e-02,\n",
              "          -3.37840430e-03, -4.31048870e-02, -1.93474710e-01,\n",
              "          -5.53583680e-03, -6.23712279e-02,  1.52166367e-01,\n",
              "          -3.25574428e-02,  1.63626119e-01, -6.90122247e-02,\n",
              "           1.60551183e-02, -1.02191016e-01, -1.28168240e-01,\n",
              "           3.23957875e-02,  4.41721566e-02,  8.27768743e-02,\n",
              "          -9.47565362e-02, -1.63958222e-01, -1.95300177e-01,\n",
              "          -2.17660777e-02, -1.03811495e-01,  2.21307036e-02,\n",
              "          -1.06922723e-03,  2.31622811e-02, -2.47930586e-01,\n",
              "           8.91471840e-03, -4.53721173e-02,  8.75759125e-02,\n",
              "          -6.09561242e-02,  6.25015469e-03]],\n",
              "\n",
              "        [[-3.19279991e-02, -7.40762874e-02,  8.75279903e-02,\n",
              "          -1.19835004e-01, -5.70827536e-02, -1.08519644e-01,\n",
              "           9.48579386e-02, -6.63529709e-02,  5.93633130e-02,\n",
              "          -1.83644090e-02, -2.26611376e-01, -1.22885674e-01,\n",
              "          -1.27215728e-01, -5.45731485e-02, -1.49137720e-01,\n",
              "          -3.49296838e-01, -8.37877691e-02,  1.33650657e-02,\n",
              "          -6.81121945e-02, -4.89692762e-02, -4.87695225e-02,\n",
              "          -5.72719239e-03, -3.00580207e-02, -3.06653738e-01,\n",
              "           7.98359141e-02, -1.54172525e-01,  7.37550855e-02,\n",
              "          -5.82286082e-02, -1.27869576e-01, -9.21368971e-02,\n",
              "           5.28953411e-02, -2.85248011e-01]]],\n",
              "\n",
              "\n",
              "       [[[-8.42242222e-03,  3.86832692e-02, -1.66020185e-01,\n",
              "          -1.20689003e-02, -2.72319722e-03, -9.87729356e-02,\n",
              "           1.56304147e-02, -1.64716527e-01, -1.85743362e-01,\n",
              "          -7.18753859e-02, -6.26929030e-02, -1.27699628e-01,\n",
              "          -1.06528297e-01, -1.36776576e-02, -1.79270223e-01,\n",
              "          -7.22360611e-03, -8.75207130e-03, -5.76532595e-02,\n",
              "          -1.72060430e-02, -9.25825685e-02, -1.52745619e-02,\n",
              "          -6.09565713e-03, -6.51148660e-03, -1.82633281e-01,\n",
              "          -5.24096340e-02, -2.52029859e-02, -6.27067164e-02,\n",
              "          -2.84488410e-01,  6.58848211e-02, -4.09957021e-02,\n",
              "          -2.88809799e-02, -3.09101105e-01]],\n",
              "\n",
              "        [[-1.34707779e-01, -4.27521110e-01, -5.02363406e-02,\n",
              "          -6.63602352e-02, -1.26215005e-02, -1.45716280e-01,\n",
              "          -1.24878548e-01, -5.90213835e-02, -1.21899903e-01,\n",
              "          -1.05268061e-01, -1.24767303e-01, -1.38431802e-01,\n",
              "           1.10636316e-01,  9.49517488e-02, -1.30091563e-01,\n",
              "          -1.18132919e-01,  4.03940119e-02,  6.65036887e-02,\n",
              "          -8.11705142e-02,  2.20202445e-03, -2.19882369e-01,\n",
              "          -1.12434074e-01, -1.99716492e-03, -2.61498153e-01,\n",
              "          -2.68272579e-01, -2.90164798e-01, -1.08359963e-01,\n",
              "          -1.68519467e-01,  1.13589931e-02, -1.73958465e-01,\n",
              "          -9.08659771e-02, -4.31750380e-02]],\n",
              "\n",
              "        [[-1.07566575e-02, -2.24137139e-02,  1.89045537e-02,\n",
              "          -3.02384375e-03,  6.10758259e-04, -1.42007962e-01,\n",
              "          -1.84192181e-01, -6.89428598e-02, -4.61745560e-02,\n",
              "          -1.59858033e-01, -3.15275118e-02, -2.22399496e-02,\n",
              "          -1.13423221e-01, -1.21339850e-01, -2.45844334e-01,\n",
              "          -4.37178016e-02, -1.06351152e-02, -1.99987348e-02,\n",
              "          -2.39570647e-01,  3.76434661e-02, -1.02379583e-01,\n",
              "          -1.18609052e-03, -1.42980716e-03, -4.08578664e-02,\n",
              "          -4.89783622e-02, -2.92092022e-02, -7.30115026e-02,\n",
              "          -2.16882327e-03, -1.00498781e-01, -1.68276295e-01,\n",
              "          -8.19953457e-02, -7.89650753e-02]]]], dtype=float32)>"
            ]
          },
          "execution_count": 20,
          "metadata": {},
          "output_type": "execute_result"
        }
      ],
      "source": [
        "# 첫 번째 레이어 커널 가중치\n",
        "model.layers[0].kernel\n",
        "# 이와 같이 커널 행렬의 가중치 또는 상수항을 따로 선택할 수 있다."
      ]
    },
    {
      "cell_type": "code",
      "execution_count": null,
      "metadata": {
        "colab": {
          "base_uri": "https://localhost:8080/"
        },
        "id": "rwc43DGzp5ZR",
        "outputId": "ab809613-2390-442a-a482-bd51b1590977"
      },
      "outputs": [
        {
          "data": {
            "text/plain": [
              "<tf.Variable 'conv/bias:0' shape=(32,) dtype=float32, numpy=\n",
              "array([-0.11068477, -0.01290403, -0.03931517, -0.15432115, -0.27728656,\n",
              "       -0.01012437, -0.01122423, -0.0080237 , -0.01913277, -0.21226756,\n",
              "       -0.32686073, -0.02247887, -0.4135727 , -0.05464425, -0.00728778,\n",
              "       -0.20530397, -0.2846177 , -0.32985112, -0.15803406, -0.01228422,\n",
              "       -0.02554493, -0.3829007 , -0.51020837, -0.01189274, -0.04715313,\n",
              "        0.00234449, -0.1588792 , -0.68911105, -0.00769689, -0.41829947,\n",
              "       -0.02395094, -0.22065333], dtype=float32)>"
            ]
          },
          "execution_count": 21,
          "metadata": {},
          "output_type": "execute_result"
        }
      ],
      "source": [
        "# 첫 번째 레이어 bias 가중치\n",
        "model.layers[0].bias"
      ]
    },
    {
      "cell_type": "code",
      "execution_count": null,
      "metadata": {
        "colab": {
          "base_uri": "https://localhost:8080/"
        },
        "id": "xM78LdKlp6mE",
        "outputId": "cf08c438-1fcf-4ec2-b694-c7c07c4b7f26"
      },
      "outputs": [
        {
          "data": {
            "text/plain": [
              "<keras.src.layers.convolutional.conv2d.Conv2D at 0x78138347c460>"
            ]
          },
          "execution_count": 22,
          "metadata": {},
          "output_type": "execute_result"
        }
      ],
      "source": [
        "# 레이어 이름 사용하여 레이어 선택\n",
        "model.get_layer('conv')"
      ]
    },
    {
      "cell_type": "markdown",
      "metadata": {
        "id": "sPaDnj8dp-kU"
      },
      "source": [
        "- 모델에 입력 데이터를 넣어주고 모델의 첫 번째와 두번째 레이어의 출력을 최종 출력으로 갖는 activator모델을 정의한다. 첫번째 샘플에 대하여 각 레이어의 출력을 예측한다."
      ]
    },
    {
      "cell_type": "code",
      "execution_count": null,
      "metadata": {
        "colab": {
          "base_uri": "https://localhost:8080/"
        },
        "id": "hg7DgYNUqBWw",
        "outputId": "2e0060c6-1adb-4121-8c78-53f8b694dbc9"
      },
      "outputs": [
        {
          "name": "stdout",
          "output_type": "stream",
          "text": [
            "1/1 [==============================] - 0s 101ms/step\n"
          ]
        },
        {
          "data": {
            "text/plain": [
              "2"
            ]
          },
          "execution_count": 23,
          "metadata": {},
          "output_type": "execute_result"
        }
      ],
      "source": [
        "# 샘플 이미지의 레이어별 출력을 리스트에 추가(첫번쨰, 두번째 레이어)\n",
        "activator = tf.keras.Model(inputs= model.input,\n",
        "                           outputs = [layer.output for layer in model.layers[:2]])\n",
        "activations = activator.predict(x_train_in[0][tf.newaxis,...])\n",
        "len(activations)"
      ]
    },
    {
      "cell_type": "markdown",
      "metadata": {
        "id": "CEheRBTZqDhz"
      },
      "source": [
        "- 2개의 출력 텐서 중에서 첫번째 텐서는 Conv2D레이어의 출력이다. 텐서의 형태는 (1,26,26,32)인데, 여기서 1은 입력 이미지의 개수를 나타낸다. 샘플이 1개라는 뜻이다."
      ]
    },
    {
      "cell_type": "code",
      "execution_count": null,
      "metadata": {
        "colab": {
          "base_uri": "https://localhost:8080/"
        },
        "id": "TI9btKD4qGnr",
        "outputId": "92efd1f7-0067-431c-d142-1597a8726c94"
      },
      "outputs": [
        {
          "data": {
            "text/plain": [
              "(1, 26, 26, 32)"
            ]
          },
          "execution_count": 24,
          "metadata": {},
          "output_type": "execute_result"
        }
      ],
      "source": [
        "# 첫번째 레이어(conv) 출력층\n",
        "conv_activation = activations[0]\n",
        "conv_activation.shape"
      ]
    },
    {
      "cell_type": "code",
      "execution_count": null,
      "metadata": {
        "colab": {
          "base_uri": "https://localhost:8080/",
          "height": 508
        },
        "id": "pXWoIAsXqJlM",
        "outputId": "17a1ac6e-2109-4d69-dda1-049c8b3f468b"
      },
      "outputs": [
        {
          "data": {
            "image/png": "[encoded data removed]",
            "text/plain": [
              "<Figure size 1000x500 with 32 Axes>"
            ]
          },
          "metadata": {},
          "output_type": "display_data"
        }
      ],
      "source": [
        "# Convolution 시각화\n",
        "import matplotlib.pyplot as plt\n",
        "fig, axes = plt.subplots(4,8)\n",
        "fig.set_size_inches(10,5)\n",
        "\n",
        "for i in range(32):\n",
        "  axes[i//8, i%8].matshow(conv_activation[0,:,:,i], cmap='viridis')\n",
        "  axes[i//8, i%8].set_title('kernel %s '%str(i),fontsize=10)\n",
        "  plt.setp(axes[i//8, i%8].get_xticklabels(), visible=False)\n",
        "  plt.setp(axes[i//8, i%8].get_yticklabels(), visible=False)\n",
        "\n",
        "plt.tight_layout()\n",
        "plt.show()"
      ]
    },
    {
      "cell_type": "markdown",
      "metadata": {
        "id": "RJdoIOtrqNe4"
      },
      "source": [
        "- 두번째 레이어는 maxpooling 레이어이다. 여기서 출력하는 텐서는 (1,13,13,32)형태를 갖는다."
      ]
    },
    {
      "cell_type": "code",
      "execution_count": null,
      "metadata": {
        "colab": {
          "base_uri": "https://localhost:8080/"
        },
        "id": "3WDsEDcPqP8e",
        "outputId": "4d39fb28-5c5f-44b7-bfed-c57042c1be9e"
      },
      "outputs": [
        {
          "name": "stdout",
          "output_type": "stream",
          "text": [
            "(1, 13, 13, 32)\n"
          ]
        }
      ],
      "source": [
        "pooling_activation = activations[1]\n",
        "print(pooling_activation.shape)"
      ]
    },
    {
      "cell_type": "markdown",
      "metadata": {
        "id": "kuR3qZVxqUF3"
      },
      "source": [
        "- 각 커널별로 출력되는 특성맵 이미지를 시각화하면 앞서 Conv2D출력 이미지에 비해 화소 크기가 굵어진 것을 볼 수 있다. 최대 풀링은 인근 픽셀들을 모아서 최대값으로 고정하기 때문에 픽셀 수는 줄이면서 특징을 더욱 강하게 드러낼 수 있다."
      ]
    },
    {
      "cell_type": "code",
      "execution_count": null,
      "metadata": {
        "colab": {
          "base_uri": "https://localhost:8080/",
          "height": 508
        },
        "id": "zxDc6022qWPj",
        "outputId": "02bc0e6d-6afd-484b-d11d-eb9cca481c2d"
      },
      "outputs": [
        {
          "data": {
            "image/png": "[encoded data removed]",
            "text/plain": [
              "<Figure size 1000x500 with 32 Axes>"
            ]
          },
          "metadata": {},
          "output_type": "display_data"
        }
      ],
      "source": [
        "# 시각화\n",
        "fig,axes = plt.subplots(4,8)\n",
        "fig.set_size_inches(10,5)\n",
        "\n",
        "for i in range(32):\n",
        "  axes[i//8, i%8].matshow(pooling_activation[0,:,:,i], cmap='viridis')\n",
        "  axes[i//8, i%8].set_title('kernel %s '%str(i),fontsize=10)\n",
        "  plt.setp(axes[i//8, i%8].get_xticklabels(), visible=False)\n",
        "  plt.setp(axes[i//8, i%8].get_yticklabels(), visible=False)\n",
        "\n",
        "plt.tight_layout()\n",
        "plt.show()"
      ]
    },
    {
      "cell_type": "markdown",
      "metadata": {
        "id": "th_4zXFdqamI"
      },
      "source": [
        "## 3-1 데이터셋 준비\n",
        "\n",
        "- 필요한 라이브러리와 mnist 데이터셋을 불러와서 훈련 데이터셋과 검증 데이터셋으로 구분하여 저장한다"
      ]
    },
    {
      "cell_type": "code",
      "execution_count": null,
      "metadata": {
        "colab": {
          "base_uri": "https://localhost:8080/"
        },
        "id": "zS7MsHFsqkWr",
        "outputId": "5d859b7c-4dcb-457a-e2ce-0c4ecc22432c"
      },
      "outputs": [
        {
          "name": "stdout",
          "output_type": "stream",
          "text": [
            "(60000, 28, 28) (60000,)\n",
            "(10000, 28, 28) (10000,)\n"
          ]
        }
      ],
      "source": [
        "import numpy as np\n",
        "import tensorflow as tf\n",
        "\n",
        "# mnist 손글씨 이미지 데이터 로드\n",
        "mnist = tf.keras.datasets.mnist\n",
        "(x_train, y_train), (x_valid, y_valid) = mnist.load_data()\n",
        "\n",
        "print(x_train.shape, y_train.shape)\n",
        "print(x_valid.shape, y_valid.shape)"
      ]
    },
    {
      "cell_type": "markdown",
      "metadata": {
        "id": "IoLwEW48qnuJ"
      },
      "source": [
        "- 원본 mnist 데이터셋은 0~9의 숫자를 손글씨로 쓴 이미지(x)와 정답 (y)로 구성되어 있다. 우리는 홀짝을 맞추는 y_odd를 새로 만들어 추가한다. 다음과 같이 y_train값이 홀수이면 1, 짝수이면 0으로 하는 y_train_odd 배열을 새로 만든다."
      ]
    },
    {
      "cell_type": "code",
      "execution_count": null,
      "metadata": {
        "colab": {
          "base_uri": "https://localhost:8080/"
        },
        "id": "kEkkZ3eeqqsY",
        "outputId": "df59af4f-da8f-42f1-c944-d58d218a847e"
      },
      "outputs": [
        {
          "data": {
            "text/plain": [
              "(60000,)"
            ]
          },
          "execution_count": 29,
          "metadata": {},
          "output_type": "execute_result"
        }
      ],
      "source": [
        "y_train_odd = []\n",
        "for y in y_train:\n",
        "  if y%2==0:\n",
        "    y_train_odd.append(0)\n",
        "  else:\n",
        "    y_train_odd.append(1)\n",
        "y_train_odd = np.array(y_train_odd)\n",
        "y_train_odd.shape"
      ]
    },
    {
      "cell_type": "code",
      "execution_count": null,
      "metadata": {
        "colab": {
          "base_uri": "https://localhost:8080/"
        },
        "id": "IC-D0ALZqtvZ",
        "outputId": "f73dd567-e84c-40bc-ebb7-59047f0b274c"
      },
      "outputs": [
        {
          "name": "stdout",
          "output_type": "stream",
          "text": [
            "[5 0 4 1 9 2 1 3 1 4]\n",
            "[1 0 0 1 1 0 1 1 1 0]\n"
          ]
        }
      ],
      "source": [
        "print(y_train[:10]) # 0~9 사이 숫자\n",
        "print(y_train_odd[:10]) # 0 또는 1"
      ]
    },
    {
      "cell_type": "markdown",
      "metadata": {
        "id": "-jsuK_X0qw-Y"
      },
      "source": [
        "- 검증 데이터셋에 대해서도 홀짝을 나타내는 y_valid_odd배열을 만든다."
      ]
    },
    {
      "cell_type": "code",
      "execution_count": null,
      "metadata": {
        "colab": {
          "base_uri": "https://localhost:8080/"
        },
        "id": "x3t6j_qaqzto",
        "outputId": "92e028ab-7d5e-4907-f750-b2552a5d0ed5"
      },
      "outputs": [
        {
          "data": {
            "text/plain": [
              "(10000,)"
            ]
          },
          "execution_count": 31,
          "metadata": {},
          "output_type": "execute_result"
        }
      ],
      "source": [
        "# validation 데이터셋 처리\n",
        "y_valid_odd = []\n",
        "for y in y_valid:\n",
        "    if y % 2 == 0:\n",
        "        y_valid_odd.append(0)\n",
        "    else:\n",
        "        y_valid_odd.append(1)\n",
        "\n",
        "y_valid_odd = np.array(y_valid_odd)\n",
        "y_valid_odd.shape"
      ]
    },
    {
      "cell_type": "markdown",
      "metadata": {
        "id": "rWQUsaAQq4QX"
      },
      "source": [
        "- 입력 이미지 데이터를 255로 나누어 정규화한다. 색상이 하나뿐인 이미지이므로 새로운 축을 추가하고 채널 개수를 1개로 지정한다.\n",
        "\n",
        "- 텐서플로 expand_dims()함수에 원본 배열을 입력하고 새롭게 추가하려는 축의 인덱스를 지정하면 해당 인덱스에 새로운 축이 추가된다. 여기서는 축의 인덱스로 -1을 지정했기 때문에 새로운 축은 끝에 추가된다. 즉, (60000,28,28)배열이 (60000,28,28,1)배열이 된다."
      ]
    },
    {
      "cell_type": "code",
      "execution_count": null,
      "metadata": {
        "colab": {
          "base_uri": "https://localhost:8080/"
        },
        "id": "NFSTrtwWq7wz",
        "outputId": "e969281c-df50-4e20-9be2-0de113c0610c"
      },
      "outputs": [
        {
          "name": "stdout",
          "output_type": "stream",
          "text": [
            "(60000, 28, 28, 1) (10000, 28, 28, 1)\n"
          ]
        }
      ],
      "source": [
        "# 정규화(normalization)\n",
        "x_train = x_train / 255.0\n",
        "x_valid = x_valid / 255.0\n",
        "\n",
        "# 채널 추가\n",
        "x_train_in = tf.expand_dims(x_train, -1)\n",
        "x_valid_in = tf.expand_dims(x_valid, -1)\n",
        "\n",
        "print(x_train_in.shape, x_valid_in.shape)"
      ]
    },
    {
      "cell_type": "markdown",
      "metadata": {
        "id": "135HcVAKq_IT"
      },
      "source": [
        "##3-2. Function API로 다중 입력, 다중출력 레이어 생성\n",
        "\n",
        "- Function API를 사용하면 사용자가 원하는 복잡한 구조의 모델을 만들 수 있다. 앞에서 다룬 Sequential API의 경우 레이어를 층층이 한 줄로 연결할 수밖에 없지만, Function API를 사용하면 다중 입력 또는 다중 출력 같은 구조를 만들 수 있다.\n",
        "\n",
        "- 다음 코드에서 입력 레이어 input의 경우, Conv2D 레이어와 Flatten레이어의 입력으로 사용된다. 따라서 입력 레이어는 2개의 출력을 갖게 된다. 서로 다른 2개의 출력은 각각 다른 레이어의 입력으로 사용되고, 최종적으로 Concatenate레이어에서 합쳐진 다음에 Dense 레이어를 통과한다. 이처럼 함수의 입력과 출력으로 표현할 수 있어서 자유롭게 모델 구조를 정의할 수 있는 장점이 있다."
      ]
    },
    {
      "cell_type": "code",
      "execution_count": null,
      "metadata": {
        "colab": {
          "base_uri": "https://localhost:8080/"
        },
        "id": "Kgke6_KWrG9n",
        "outputId": "0bbfa8d8-81dd-46c1-96eb-8a7616ff8adf"
      },
      "outputs": [
        {
          "name": "stdout",
          "output_type": "stream",
          "text": [
            "Model: \"model_1\"\n",
            "__________________________________________________________________________________________________\n",
            " Layer (type)                Output Shape                 Param #   Connected to                  \n",
            "==================================================================================================\n",
            " input_1 (InputLayer)        [(None, 28, 28, 1)]          0         []                            \n",
            "                                                                                                  \n",
            " conv2d (Conv2D)             (None, 26, 26, 16)           160       ['input_1[0][0]']             \n",
            "                                                                                                  \n",
            " max_pooling2d (MaxPooling2  (None, 13, 13, 16)           0         ['conv2d[0][0]']              \n",
            " D)                                                                                               \n",
            "                                                                                                  \n",
            " flatten_1 (Flatten)         (None, 2704)                 0         ['max_pooling2d[0][0]']       \n",
            "                                                                                                  \n",
            " flatten_2 (Flatten)         (None, 784)                  0         ['input_1[0][0]']             \n",
            "                                                                                                  \n",
            " concatenate (Concatenate)   (None, 3488)                 0         ['flatten_1[0][0]',           \n",
            "                                                                     'flatten_2[0][0]']           \n",
            "                                                                                                  \n",
            " dense_1 (Dense)             (None, 10)                   34890     ['concatenate[0][0]']         \n",
            "                                                                                                  \n",
            "==================================================================================================\n",
            "Total params: 35050 (136.91 KB)\n",
            "Trainable params: 35050 (136.91 KB)\n",
            "Non-trainable params: 0 (0.00 Byte)\n",
            "__________________________________________________________________________________________________\n"
          ]
        }
      ],
      "source": [
        "# Functional API 를 사용하여 모델 생성\n",
        "\n",
        "inputs = tf.keras.layers.Input(shape=(28,28,1))\n",
        "\n",
        "conv = tf.keras.layers.Conv2D(16, (3,3), activation='relu')(inputs)\n",
        "pool = tf.keras.layers.MaxPool2D(2,2)(conv)\n",
        "flat = tf.keras.layers.Flatten()(pool)\n",
        "\n",
        "flat_inputs = tf.keras.layers.Flatten()(inputs)\n",
        "concat = tf.keras.layers.Concatenate()([flat, flat_inputs])\n",
        "outputs = tf.keras.layers.Dense(10, activation='softmax')(concat)\n",
        "\n",
        "model = tf.keras.Model(inputs=inputs, outputs=outputs)\n",
        "model.summary()"
      ]
    },
    {
      "cell_type": "markdown",
      "metadata": {
        "id": "Z2NQoJ3crJ4_"
      },
      "source": [
        "- 앞서 정의한 모델 구조를 그래프로 출력하면 다음과 같다. 케라스 utils모듈의 plot_model을 사용하고, 모델을 입력하면 모델 구조를 그려준다."
      ]
    },
    {
      "cell_type": "code",
      "execution_count": null,
      "metadata": {
        "colab": {
          "base_uri": "https://localhost:8080/",
          "height": 644
        },
        "id": "asl10-vmrMdE",
        "outputId": "99ae2b48-f9e4-486e-bede-4d45694fa2b8"
      },
      "outputs": [
        {
          "data": {
            "image/png": "[encoded data removed]",
            "text/plain": [
              "<IPython.core.display.Image object>"
            ]
          },
          "execution_count": 34,
          "metadata": {},
          "output_type": "execute_result"
        }
      ],
      "source": [
        "# 모델 구조 출력 및 이미지 파일로 저장\n",
        "from tensorflow.keras.utils import plot_model\n",
        "plot_model(model, show_shapes=True, show_layer_names=True, to_file='functional_cnn.png')"
      ]
    },
    {
      "cell_type": "code",
      "execution_count": null,
      "metadata": {
        "colab": {
          "base_uri": "https://localhost:8080/"
        },
        "id": "GVTEs_32rRPS",
        "outputId": "0c85f5ec-9328-4ebc-e4a0-67726bea52fc"
      },
      "outputs": [
        {
          "name": "stdout",
          "output_type": "stream",
          "text": [
            "Epoch 1/10\n",
            "1875/1875 [==============================] - 28s 14ms/step - loss: 0.2200 - accuracy: 0.9382 - val_loss: 0.0971 - val_accuracy: 0.9718\n",
            "Epoch 2/10\n",
            "1875/1875 [==============================] - 27s 15ms/step - loss: 0.0855 - accuracy: 0.9753 - val_loss: 0.0788 - val_accuracy: 0.9743\n",
            "Epoch 3/10\n",
            "1875/1875 [==============================] - 24s 13ms/step - loss: 0.0645 - accuracy: 0.9811 - val_loss: 0.0656 - val_accuracy: 0.9783\n",
            "Epoch 4/10\n",
            "1875/1875 [==============================] - 27s 14ms/step - loss: 0.0546 - accuracy: 0.9838 - val_loss: 0.0620 - val_accuracy: 0.9800\n",
            "Epoch 5/10\n",
            "1875/1875 [==============================] - 23s 12ms/step - loss: 0.0468 - accuracy: 0.9859 - val_loss: 0.0576 - val_accuracy: 0.9813\n",
            "Epoch 6/10\n",
            "1875/1875 [==============================] - 26s 14ms/step - loss: 0.0413 - accuracy: 0.9873 - val_loss: 0.0619 - val_accuracy: 0.9797\n",
            "Epoch 7/10\n",
            "1875/1875 [==============================] - 25s 13ms/step - loss: 0.0360 - accuracy: 0.9891 - val_loss: 0.0558 - val_accuracy: 0.9833\n",
            "Epoch 8/10\n",
            "1875/1875 [==============================] - 25s 14ms/step - loss: 0.0317 - accuracy: 0.9904 - val_loss: 0.0538 - val_accuracy: 0.9831\n",
            "Epoch 9/10\n",
            "1875/1875 [==============================] - 24s 13ms/step - loss: 0.0281 - accuracy: 0.9913 - val_loss: 0.0604 - val_accuracy: 0.9818\n",
            "Epoch 10/10\n",
            "1875/1875 [==============================] - 23s 13ms/step - loss: 0.0251 - accuracy: 0.9921 - val_loss: 0.0665 - val_accuracy: 0.9803\n",
            "313/313 [==============================] - 2s 5ms/step - loss: 0.0665 - accuracy: 0.9803\n",
            "0.06651144474744797 0.9803000092506409\n"
          ]
        }
      ],
      "source": [
        "# 모델 컴파일\n",
        "model.compile(optimizer= 'adam', loss='sparse_categorical_crossentropy',metrics = ['accuracy'])\n",
        "\n",
        "# 모델 훈력\n",
        "history = model.fit(x_train_in, y_train,\n",
        "                    validation_data = (x_valid_in, y_valid),\n",
        "                    epochs=10)\n",
        "\n",
        "# 모델 성능\n",
        "val_loss, val_acc = model.evaluate(x_valid_in, y_valid)\n",
        "print(val_loss, val_acc)"
      ]
    },
    {
      "cell_type": "markdown",
      "metadata": {
        "id": "5R_joS7UrUSt"
      },
      "source": [
        "##3-3 다중 출력 분류 모델\n",
        "\n",
        "- 이번에는 두가지 서로 다른 분류 문제를 예측하는 출력모델을 만들어본다. 이진분류를 했던 앞과 달리 이번에는 0~9까지 숫자를 맞추는 분류 문제와 홀수,짝수를 맞추는 분류문제를 동시에 풀어내는 모델의 정의한다. 각기 다른 문제에 맞도록 최종 분류기의 출력 레이어를 2개 만드는 것이 핵심이다."
      ]
    },
    {
      "cell_type": "code",
      "execution_count": null,
      "metadata": {
        "colab": {
          "base_uri": "https://localhost:8080/"
        },
        "id": "3UQfa3IgrZ1j",
        "outputId": "2a1cd979-c573-4135-e65b-75d7a5c0123b"
      },
      "outputs": [
        {
          "name": "stdout",
          "output_type": "stream",
          "text": [
            "Model: \"model_2\"\n",
            "__________________________________________________________________________________________________\n",
            " Layer (type)                Output Shape                 Param #   Connected to                  \n",
            "==================================================================================================\n",
            " inputs (InputLayer)         [(None, 28, 28, 1)]          0         []                            \n",
            "                                                                                                  \n",
            " conv2d_layer (Conv2D)       (None, 26, 26, 32)           320       ['inputs[0][0]']              \n",
            "                                                                                                  \n",
            " maxpool_layer (MaxPooling2  (None, 13, 13, 32)           0         ['conv2d_layer[0][0]']        \n",
            " D)                                                                                               \n",
            "                                                                                                  \n",
            " flatten_layer (Flatten)     (None, 5408)                 0         ['maxpool_layer[0][0]']       \n",
            "                                                                                                  \n",
            " flatten_3 (Flatten)         (None, 784)                  0         ['inputs[0][0]']              \n",
            "                                                                                                  \n",
            " concatenate_1 (Concatenate  (None, 6192)                 0         ['flatten_layer[0][0]',       \n",
            " )                                                                   'flatten_3[0][0]']           \n",
            "                                                                                                  \n",
            " digit_dense (Dense)         (None, 10)                   61930     ['concatenate_1[0][0]']       \n",
            "                                                                                                  \n",
            " odd_dense (Dense)           (None, 1)                    785       ['flatten_3[0][0]']           \n",
            "                                                                                                  \n",
            "==================================================================================================\n",
            "Total params: 63035 (246.23 KB)\n",
            "Trainable params: 63035 (246.23 KB)\n",
            "Non-trainable params: 0 (0.00 Byte)\n",
            "__________________________________________________________________________________________________\n"
          ]
        }
      ],
      "source": [
        "# Functional API 를 사용해 모델 생성\n",
        "inputs = tf.keras.layers.Input(shape=(28,28,1), name='inputs')\n",
        "\n",
        "conv = tf.keras.layers.Conv2D(32, (3,3), activation='relu', name='conv2d_layer')(inputs)\n",
        "pool = tf.keras.layers.MaxPool2D((2,2), name='maxpool_layer')(conv)\n",
        "flat = tf.keras.layers.Flatten(name='flatten_layer')(pool)\n",
        "\n",
        "flat_inputs = tf.keras.layers.Flatten()(inputs)\n",
        "concat = tf.keras.layers.Concatenate()([flat, flat_inputs])\n",
        "digit_outputs = tf.keras.layers.Dense(10, activation='softmax', name='digit_dense')(concat) # 다중분류\n",
        "odd_outputs = tf.keras.layers.Dense(1, activation='sigmoid', name='odd_dense')(flat_inputs) # 이진분류\n",
        "\n",
        "model = tf.keras.Model(inputs=inputs, outputs=[digit_outputs, odd_outputs])\n",
        "model.summary()\n",
        "\n",
        "# 입력은 하나이다. 출력은 10개인 텐서와 1개인 텐서로, 총 2개가 확인된다."
      ]
    },
    {
      "cell_type": "code",
      "execution_count": null,
      "metadata": {
        "colab": {
          "base_uri": "https://localhost:8080/",
          "height": 644
        },
        "id": "WQ1dWBYirfBk",
        "outputId": "4189d827-962c-4a2d-c243-04c10b2dac1a"
      },
      "outputs": [
        {
          "data": {
            "image/png": "[encoded data removed]",
            "text/plain": [
              "<IPython.core.display.Image object>"
            ]
          },
          "execution_count": 37,
          "metadata": {},
          "output_type": "execute_result"
        }
      ],
      "source": [
        "# 모델 구조 그리기\n",
        "plot_model(model, show_shapes=True, show_layer_names=True, to_file='multi_output_cnn.png')"
      ]
    },
    {
      "cell_type": "code",
      "execution_count": null,
      "metadata": {
        "colab": {
          "background_save": true,
          "base_uri": "https://localhost:8080/"
        },
        "id": "dJBqAMymrhny",
        "outputId": "3c4c5194-dfae-4923-9c60-4d32770df88a"
      },
      "outputs": [
        {
          "name": "stdout",
          "output_type": "stream",
          "text": [
            "Epoch 1/10\n",
            "1875/1875 [==============================] - 38s 19ms/step - loss: 0.3647 - digit_dense_loss: 0.2022 - odd_dense_loss: 0.3250 - digit_dense_accuracy: 0.9424 - odd_dense_accuracy: 0.8642 - val_loss: 0.2258 - val_digit_dense_loss: 0.0872 - val_odd_dense_loss: 0.2772 - val_digit_dense_accuracy: 0.9739 - val_odd_dense_accuracy: 0.8883\n",
            "Epoch 2/10\n",
            "1875/1875 [==============================] - 32s 17ms/step - loss: 0.2130 - digit_dense_loss: 0.0774 - odd_dense_loss: 0.2712 - digit_dense_accuracy: 0.9776 - odd_dense_accuracy: 0.8907 - val_loss: 0.1925 - val_digit_dense_loss: 0.0614 - val_odd_dense_loss: 0.2623 - val_digit_dense_accuracy: 0.9803 - val_odd_dense_accuracy: 0.8967\n",
            "Epoch 3/10\n",
            "1875/1875 [==============================] - 30s 16ms/step - loss: 0.1905 - digit_dense_loss: 0.0592 - odd_dense_loss: 0.2627 - digit_dense_accuracy: 0.9824 - odd_dense_accuracy: 0.8963 - val_loss: 0.1923 - val_digit_dense_loss: 0.0620 - val_odd_dense_loss: 0.2606 - val_digit_dense_accuracy: 0.9799 - val_odd_dense_accuracy: 0.8986\n",
            "Epoch 4/10\n",
            "1875/1875 [==============================] - 28s 15ms/step - loss: 0.1789 - digit_dense_loss: 0.0495 - odd_dense_loss: 0.2590 - digit_dense_accuracy: 0.9853 - odd_dense_accuracy: 0.8978 - val_loss: 0.1856 - val_digit_dense_loss: 0.0565 - val_odd_dense_loss: 0.2583 - val_digit_dense_accuracy: 0.9810 - val_odd_dense_accuracy: 0.8995\n",
            "Epoch 5/10\n",
            "1875/1875 [==============================] - 29s 15ms/step - loss: 0.1693 - digit_dense_loss: 0.0408 - odd_dense_loss: 0.2570 - digit_dense_accuracy: 0.9876 - odd_dense_accuracy: 0.8992 - val_loss: 0.1918 - val_digit_dense_loss: 0.0634 - val_odd_dense_loss: 0.2568 - val_digit_dense_accuracy: 0.9798 - val_odd_dense_accuracy: 0.9006\n",
            "Epoch 6/10\n",
            "1875/1875 [==============================] - 31s 16ms/step - loss: 0.1624 - digit_dense_loss: 0.0345 - odd_dense_loss: 0.2557 - digit_dense_accuracy: 0.9890 - odd_dense_accuracy: 0.8997 - val_loss: 0.1806 - val_digit_dense_loss: 0.0515 - val_odd_dense_loss: 0.2582 - val_digit_dense_accuracy: 0.9826 - val_odd_dense_accuracy: 0.9011\n",
            "Epoch 7/10\n",
            "1875/1875 [==============================] - 29s 16ms/step - loss: 0.1557 - digit_dense_loss: 0.0283 - odd_dense_loss: 0.2549 - digit_dense_accuracy: 0.9912 - odd_dense_accuracy: 0.9004 - val_loss: 0.1887 - val_digit_dense_loss: 0.0604 - val_odd_dense_loss: 0.2565 - val_digit_dense_accuracy: 0.9812 - val_odd_dense_accuracy: 0.8998\n",
            "Epoch 8/10\n",
            "1875/1875 [==============================] - 31s 17ms/step - loss: 0.1514 - digit_dense_loss: 0.0244 - odd_dense_loss: 0.2540 - digit_dense_accuracy: 0.9927 - odd_dense_accuracy: 0.9008 - val_loss: 0.1851 - val_digit_dense_loss: 0.0573 - val_odd_dense_loss: 0.2556 - val_digit_dense_accuracy: 0.9835 - val_odd_dense_accuracy: 0.9010\n",
            "Epoch 9/10\n",
            "1875/1875 [==============================] - 29s 16ms/step - loss: 0.1484 - digit_dense_loss: 0.0215 - odd_dense_loss: 0.2537 - digit_dense_accuracy: 0.9933 - odd_dense_accuracy: 0.9012 - val_loss: 0.1894 - val_digit_dense_loss: 0.0604 - val_odd_dense_loss: 0.2580 - val_digit_dense_accuracy: 0.9820 - val_odd_dense_accuracy: 0.9024\n",
            "Epoch 10/10\n",
            "1875/1875 [==============================] - 30s 16ms/step - loss: 0.1443 - digit_dense_loss: 0.0177 - odd_dense_loss: 0.2533 - digit_dense_accuracy: 0.9945 - odd_dense_accuracy: 0.9010 - val_loss: 0.1950 - val_digit_dense_loss: 0.0670 - val_odd_dense_loss: 0.2561 - val_digit_dense_accuracy: 0.9822 - val_odd_dense_accuracy: 0.9020\n"
          ]
        }
      ],
      "source": [
        "model.compile(optimizer= 'adam', loss={'digit_dense':'sparse_categorical_crossentropy',\n",
        "                                       'odd_dense':'binary_crossentropy'},\n",
        "              loss_weights = {'digit_dense': 1, 'odd_dense':0.5},\n",
        "              #  loss = 1.0 * sparse_categorical_crossentropy + 0.5*binary_crossentropy\n",
        "              metrics = ['accuracy'])\n",
        "\n",
        "# 모델 훈련\n",
        "history = model.fit({'inputs':x_train_in},\n",
        "                    {'digit_dense':y_train,'odd_dense':y_train_odd},\n",
        "                    validation_data=({'inputs':x_valid_in},\n",
        "                    {'digit_dense':y_valid,'odd_dense':y_valid_odd}),\n",
        "                    epochs=10)\n",
        "# digit_dense, odd_dense 같은 이름을 지정하고 레이어 이름 속성을 key로 하는 딕셔너리 형태로\n",
        "# 각각의 출력에 맞는 정답 배열을 입력해야 한다.\n",
        "# 검증 데이터셋에 대해서도 마찬가지로 구분해 지정한다."
      ]
    },
    {
      "cell_type": "markdown",
      "metadata": {
        "id": "o2LTpOKermVV"
      },
      "source": [
        "- 숫자를 맞추는 문제는 98%의 정확도를 보이는 반면, 홀수여부를 판단하는 문제는 약 90%의 정확도를 보인다.\n",
        "\n",
        "- 검증 데이터셋의 인덱스0에 해당하는 이미지 출력"
      ]
    },
    {
      "cell_type": "code",
      "execution_count": null,
      "metadata": {
        "colab": {
          "background_save": true
        },
        "id": "euKxkboirpdS",
        "outputId": "3c5bc51d-6526-4756-8cdc-306fb3450fdb"
      },
      "outputs": [
        {
          "data": {
            "image/png": "[encoded data removed]",
            "text/plain": [
              "<Figure size 500x500 with 1 Axes>"
            ]
          },
          "metadata": {},
          "output_type": "display_data"
        }
      ],
      "source": [
        "# 샘플 이미지 출력\n",
        "import matplotlib.pyplot as plt\n",
        "\n",
        "def plot_image(data, idx):\n",
        "  plt.figure(figsize=(5,5))\n",
        "  plt.imshow(data[idx])\n",
        "  plt.axis('off')\n",
        "  plt.show()\n",
        "\n",
        "plot_image(x_valid, 0)"
      ]
    },
    {
      "cell_type": "code",
      "execution_count": null,
      "metadata": {
        "colab": {
          "background_save": true
        },
        "id": "mNDt9jfDrtBj",
        "outputId": "b51569f2-8404-405c-b834-ece8049fccb6"
      },
      "outputs": [
        {
          "name": "stdout",
          "output_type": "stream",
          "text": [
            "313/313 [==============================] - 3s 8ms/step\n",
            "[2.9230099e-12 2.5544633e-09 1.7732980e-08 3.5361566e-07 1.8004476e-11\n",
            " 1.6626751e-12 4.5442362e-20 9.9999958e-01 2.8235544e-10 1.2847007e-08]\n",
            "[0.999491]\n"
          ]
        }
      ],
      "source": [
        "# 검증 데이터셋의 모든 이미지 데이터를 입력해 2개의 분류(다중,이진)에 대한 예측확률을 구하면 다음과 같다\n",
        "digit_preds, odd_preds = model.predict(x_valid_in)\n",
        "print(digit_preds[0]) # 10개 분류레이블에 대한 확률\n",
        "print(odd_preds[0]) # 홀수일 확률"
      ]
    },
    {
      "cell_type": "code",
      "execution_count": null,
      "metadata": {
        "colab": {
          "background_save": true
        },
        "id": "ArFK3GSBrwHI",
        "outputId": "24a35819-560b-40f7-d784-434a0c36e3e7"
      },
      "outputs": [
        {
          "name": "stdout",
          "output_type": "stream",
          "text": [
            "[7 2 1 0 4 1 4 9 6 9]\n"
          ]
        }
      ],
      "source": [
        "digit_labels = np.argmax(digit_preds, axis=-1)\n",
        "print(digit_labels[0:10])"
      ]
    },
    {
      "cell_type": "code",
      "execution_count": null,
      "metadata": {
        "colab": {
          "background_save": true
        },
        "id": "od-GhCL0r0Y2",
        "outputId": "d07efa89-c4dc-4c09-fa06-3faa0a24da8f"
      },
      "outputs": [
        {
          "name": "stdout",
          "output_type": "stream",
          "text": [
            "[1 0 1 0 0 1 0 1 0 1]\n"
          ]
        }
      ],
      "source": [
        "odd_labels = (odd_preds > 0.5).astype(np.int64).reshape(1,-1)[0]\n",
        "print(odd_labels[0:10])"
      ]
    },
    {
      "cell_type": "markdown",
      "metadata": {
        "id": "YaAk2d9Mr1Y-"
      },
      "source": [
        "##3-4 전이학습\n",
        "\n",
        "- 전이학습(Transfer Training) : 기존에 학습된 모델을 활용해 새로운 모델을 만들어내는 개념\n",
        "\n",
        "- 앞에서 학습한 모델에서 입력 레이어부터 'flatten_layer'라는 name속성을 갖는 Flatten 층까지 해당하는 부분을 따로 추출하여, base_model 객체를 만든다. 모델 개요를 출력해서 확인해보면 (28,28,1) 이미지를 받아서 5408개의 피처로 특징을 추출해 출력하는 모델이다."
      ]
    },
    {
      "cell_type": "code",
      "execution_count": null,
      "metadata": {
        "colab": {
          "background_save": true
        },
        "id": "DX5vpQPVr9-J",
        "outputId": "2aae1de0-1058-4d2e-c571-5b4655dc03d1"
      },
      "outputs": [
        {
          "name": "stdout",
          "output_type": "stream",
          "text": [
            "Model: \"base\"\n",
            "_________________________________________________________________\n",
            " Layer (type)                Output Shape              Param #   \n",
            "=================================================================\n",
            " inputs (InputLayer)         [(None, 28, 28, 1)]       0         \n",
            "                                                                 \n",
            " conv2d_layer (Conv2D)       (None, 26, 26, 32)        320       \n",
            "                                                                 \n",
            " maxpool_layer (MaxPooling2  (None, 13, 13, 32)        0         \n",
            " D)                                                              \n",
            "                                                                 \n",
            " flatten_layer (Flatten)     (None, 5408)              0         \n",
            "                                                                 \n",
            "=================================================================\n",
            "Total params: 320 (1.25 KB)\n",
            "Trainable params: 320 (1.25 KB)\n",
            "Non-trainable params: 0 (0.00 Byte)\n",
            "_________________________________________________________________\n"
          ]
        }
      ],
      "source": [
        "# 앞의 모델에서 flatten_layer 출력을 추출\n",
        "base_model_output = model.get_layer('flatten_layer').output\n",
        "\n",
        "# 앞의 출력을 출력으로 하는 모델 정의\n",
        "base_model = tf.keras.Model(inputs=model.input, outputs=base_model_output, name='base')\n",
        "base_model.summary()"
      ]
    },
    {
      "cell_type": "code",
      "execution_count": null,
      "metadata": {
        "colab": {
          "background_save": true
        },
        "id": "kPVAPGCesBPL",
        "outputId": "7b02154b-2a4a-453a-e2e4-c36c0dfcb0b8"
      },
      "outputs": [
        {
          "data": {
            "image/png": "[encoded data removed]",
            "text/plain": [
              "<IPython.core.display.Image object>"
            ]
          },
          "execution_count": 44,
          "metadata": {},
          "output_type": "execute_result"
        }
      ],
      "source": [
        "# 모델 구조 시각화\n",
        "plot_model(base_model, show_shapes=True, show_layer_names=True, to_file='base_model.png')"
      ]
    },
    {
      "cell_type": "code",
      "execution_count": null,
      "metadata": {
        "colab": {
          "background_save": true
        },
        "id": "Aa-X-RtPsFqT",
        "outputId": "508ae653-e960-43d8-f77b-11f88e5ebcb9"
      },
      "outputs": [
        {
          "name": "stdout",
          "output_type": "stream",
          "text": [
            "Model: \"sequential_1\"\n",
            "_________________________________________________________________\n",
            " Layer (type)                Output Shape              Param #   \n",
            "=================================================================\n",
            " base (Functional)           (None, 5408)              320       \n",
            "                                                                 \n",
            " dense_2 (Dense)             (None, 10)                54090     \n",
            "                                                                 \n",
            "=================================================================\n",
            "Total params: 54410 (212.54 KB)\n",
            "Trainable params: 54410 (212.54 KB)\n",
            "Non-trainable params: 0 (0.00 Byte)\n",
            "_________________________________________________________________\n"
          ]
        }
      ],
      "source": [
        "# Sequential API 적용\n",
        "\n",
        "# 새로 정의한 base_model을 레이어로 추가한 후 최종 분류기 역할을 하는 Dense레이어를 새롭게 이어준다.\n",
        "digit_model = tf.keras.Sequential([\n",
        "    base_model,\n",
        "    tf.keras.layers.Dense(10, activation='softmax')\n",
        "    ])\n",
        "digit_model.summary()"
      ]
    },
    {
      "cell_type": "code",
      "execution_count": null,
      "metadata": {
        "colab": {
          "background_save": true
        },
        "id": "-awN-F8LsKqv",
        "outputId": "666671f4-2f7a-484e-f662-c061766b1b5b"
      },
      "outputs": [
        {
          "data": {
            "image/png": "[encoded data removed]",
            "text/plain": [
              "<IPython.core.display.Image object>"
            ]
          },
          "execution_count": 46,
          "metadata": {},
          "output_type": "execute_result"
        }
      ],
      "source": [
        "# 모델 구조 출력 => 최종적으로 노드 10개를 가진 분류기 역할을 하는 Dense 레이어가 추가됨을 알 수 있다\n",
        "plot_model(digit_model, show_shapes=True, show_layer_names=True, to_file='digit_model.png')"
      ]
    },
    {
      "cell_type": "code",
      "execution_count": null,
      "metadata": {
        "colab": {
          "background_save": true
        },
        "id": "pmzXr7besNNY",
        "outputId": "d3cfd170-2530-4918-f5dc-3b44acd3e4be"
      },
      "outputs": [
        {
          "name": "stdout",
          "output_type": "stream",
          "text": [
            "Epoch 1/10\n",
            "1875/1875 [==============================] - 30s 16ms/step - loss: 0.1308 - accuracy: 0.9632 - val_loss: 0.0657 - val_accuracy: 0.9780\n",
            "Epoch 2/10\n",
            "1875/1875 [==============================] - 28s 15ms/step - loss: 0.0590 - accuracy: 0.9816 - val_loss: 0.0552 - val_accuracy: 0.9820\n",
            "Epoch 3/10\n",
            "1875/1875 [==============================] - 28s 15ms/step - loss: 0.0451 - accuracy: 0.9858 - val_loss: 0.0507 - val_accuracy: 0.9839\n",
            "Epoch 4/10\n",
            "1875/1875 [==============================] - 28s 15ms/step - loss: 0.0355 - accuracy: 0.9892 - val_loss: 0.0528 - val_accuracy: 0.9828\n",
            "Epoch 5/10\n",
            "1875/1875 [==============================] - 28s 15ms/step - loss: 0.0288 - accuracy: 0.9909 - val_loss: 0.0631 - val_accuracy: 0.9812\n",
            "Epoch 6/10\n",
            "1875/1875 [==============================] - 26s 14ms/step - loss: 0.0246 - accuracy: 0.9920 - val_loss: 0.0631 - val_accuracy: 0.9816\n",
            "Epoch 7/10\n",
            "1875/1875 [==============================] - 27s 15ms/step - loss: 0.0200 - accuracy: 0.9942 - val_loss: 0.0516 - val_accuracy: 0.9845\n",
            "Epoch 8/10\n",
            "1875/1875 [==============================] - 27s 14ms/step - loss: 0.0164 - accuracy: 0.9948 - val_loss: 0.0608 - val_accuracy: 0.9830\n",
            "Epoch 9/10\n",
            "1875/1875 [==============================] - 27s 15ms/step - loss: 0.0140 - accuracy: 0.9955 - val_loss: 0.0577 - val_accuracy: 0.9839\n",
            "Epoch 10/10\n",
            "1875/1875 [==============================] - 26s 14ms/step - loss: 0.0114 - accuracy: 0.9967 - val_loss: 0.0611 - val_accuracy: 0.9839\n"
          ]
        }
      ],
      "source": [
        "# 모델 컴파일\n",
        "digit_model.compile(optimizer='adam', loss='sparse_categorical_crossentropy', metrics=['accuracy'])\n",
        "# 모델 훈련\n",
        "history = digit_model.fit(x_train_in, y_train,\n",
        "                          validation_data=(x_valid_in, y_valid),\n",
        "                          epochs=10)"
      ]
    },
    {
      "cell_type": "code",
      "execution_count": null,
      "metadata": {
        "colab": {
          "background_save": true
        },
        "id": "FzvcKcozsRdO",
        "outputId": "85f23ac5-b3f5-4a8c-f523-908beb7bb465"
      },
      "outputs": [
        {
          "name": "stdout",
          "output_type": "stream",
          "text": [
            "Model: \"base_frozen\"\n",
            "_________________________________________________________________\n",
            " Layer (type)                Output Shape              Param #   \n",
            "=================================================================\n",
            " inputs (InputLayer)         [(None, 28, 28, 1)]       0         \n",
            "                                                                 \n",
            " conv2d_layer (Conv2D)       (None, 26, 26, 32)        320       \n",
            "                                                                 \n",
            " maxpool_layer (MaxPooling2  (None, 13, 13, 32)        0         \n",
            " D)                                                              \n",
            "                                                                 \n",
            " flatten_layer (Flatten)     (None, 5408)              0         \n",
            "                                                                 \n",
            "=================================================================\n",
            "Total params: 320 (1.25 KB)\n",
            "Trainable params: 0 (0.00 Byte)\n",
            "Non-trainable params: 320 (1.25 KB)\n",
            "_________________________________________________________________\n"
          ]
        }
      ],
      "source": [
        "# 베이스 모델의 가중치 고정(freeze model)\n",
        "'''\n",
        "모델 인스턴스는 trainable 속성을 가지고 있다.\n",
        "이 속성을 False로 지정하면 모델의 파라미터 값이 고정되어 훈련을 통해 업데이트되지 않는다.\n",
        "이런 방식으로 base_model_frozen을 구성한다. trainable params 개수가 0인 것을 아래서 확인 가능하다.\n",
        "'''\n",
        "base_model_frozen = tf.keras.Model(inputs=model.input,\n",
        "                                   outputs=base_model_output,\n",
        "                                   name='base_frozen')\n",
        "base_model_frozen.trainable = False #\n",
        "base_model_frozen.summary()"
      ]
    },
    {
      "cell_type": "markdown",
      "metadata": {
        "id": "Z3blODeAsVC_"
      },
      "source": [
        "- 이제, 파라미터를 고정한 base_model_input 모델과 새로운 분류기 역할을 하는 Dense 레이어를 Functional API를 적용하여 구성해본다. Sequential API로 구성하는 방식과의 차이점에 유의한다.\n",
        "\n",
        "\n",
        "- 총 파라미터 개수는 54410개이고 앞서 고정한 파라미터는 훈련 불가능하다는 것이 표시되어 있다. 훈련 가능한 파라미터는 Flatten 레이어의 출력 5408개와 Dense 레이어의 10개 노드 사이의 가중치만 해당된다. 즉, Flatten레이어 이전에 존재하는 Conv2D레이어의 파라미터 320개는 포함되지 않는다."
      ]
    },
    {
      "cell_type": "code",
      "execution_count": null,
      "metadata": {
        "colab": {
          "background_save": true
        },
        "id": "PcQuWL07sZUF",
        "outputId": "4961a8a2-26f3-4838-a093-0114922e3d80"
      },
      "outputs": [
        {
          "name": "stdout",
          "output_type": "stream",
          "text": [
            "Model: \"model_3\"\n",
            "_________________________________________________________________\n",
            " Layer (type)                Output Shape              Param #   \n",
            "=================================================================\n",
            " inputs (InputLayer)         [(None, 28, 28, 1)]       0         \n",
            "                                                                 \n",
            " conv2d_layer (Conv2D)       (None, 26, 26, 32)        320       \n",
            "                                                                 \n",
            " maxpool_layer (MaxPooling2  (None, 13, 13, 32)        0         \n",
            " D)                                                              \n",
            "                                                                 \n",
            " flatten_layer (Flatten)     (None, 5408)              0         \n",
            "                                                                 \n",
            " dense_3 (Dense)             (None, 10)                54090     \n",
            "                                                                 \n",
            "=================================================================\n",
            "Total params: 54410 (212.54 KB)\n",
            "Trainable params: 54090 (211.29 KB)\n",
            "Non-trainable params: 320 (1.25 KB)\n",
            "_________________________________________________________________\n"
          ]
        }
      ],
      "source": [
        "# functional API 적용\n",
        "dense_output = tf.keras.layers.Dense(10, activation='softmax')(base_model_frozen.output)\n",
        "digit_model_frozen = tf.keras.models.Model(inputs=base_model_frozen.input, outputs=dense_output)\n",
        "digit_model_frozen.summary()"
      ]
    },
    {
      "cell_type": "code",
      "execution_count": null,
      "metadata": {
        "colab": {
          "background_save": true
        },
        "id": "MrLeMe1jscjH",
        "outputId": "824cae9c-8c7b-4910-ddc9-7956ff32d35a"
      },
      "outputs": [
        {
          "name": "stdout",
          "output_type": "stream",
          "text": [
            "Epoch 1/10\n",
            "1875/1875 [==============================] - 15s 8ms/step - loss: 0.1173 - accuracy: 0.9682 - val_loss: 0.0579 - val_accuracy: 0.9825\n",
            "Epoch 2/10\n",
            "1875/1875 [==============================] - 16s 8ms/step - loss: 0.0487 - accuracy: 0.9857 - val_loss: 0.0628 - val_accuracy: 0.9801\n",
            "Epoch 3/10\n",
            "1875/1875 [==============================] - 14s 7ms/step - loss: 0.0364 - accuracy: 0.9889 - val_loss: 0.0496 - val_accuracy: 0.9835\n",
            "Epoch 4/10\n",
            "1875/1875 [==============================] - 14s 7ms/step - loss: 0.0290 - accuracy: 0.9914 - val_loss: 0.0557 - val_accuracy: 0.9822\n",
            "Epoch 5/10\n",
            "1875/1875 [==============================] - 15s 8ms/step - loss: 0.0224 - accuracy: 0.9928 - val_loss: 0.0504 - val_accuracy: 0.9844\n",
            "Epoch 6/10\n",
            "1875/1875 [==============================] - 15s 8ms/step - loss: 0.0191 - accuracy: 0.9938 - val_loss: 0.0576 - val_accuracy: 0.9834\n",
            "Epoch 7/10\n",
            "1875/1875 [==============================] - 15s 8ms/step - loss: 0.0147 - accuracy: 0.9957 - val_loss: 0.0573 - val_accuracy: 0.9835\n",
            "Epoch 8/10\n",
            "1875/1875 [==============================] - 15s 8ms/step - loss: 0.0129 - accuracy: 0.9961 - val_loss: 0.0617 - val_accuracy: 0.9833\n",
            "Epoch 9/10\n",
            "1875/1875 [==============================] - 15s 8ms/step - loss: 0.0108 - accuracy: 0.9970 - val_loss: 0.0815 - val_accuracy: 0.9801\n",
            "Epoch 10/10\n",
            "1875/1875 [==============================] - 15s 8ms/step - loss: 0.0092 - accuracy: 0.9973 - val_loss: 0.0584 - val_accuracy: 0.9841\n"
          ]
        }
      ],
      "source": [
        "# 모델 컴파일\n",
        "digit_model_frozen.compile(optimizer='adam',\n",
        "                           loss='sparse_categorical_crossentropy',\n",
        "                           metrics=['accuracy'])\n",
        "\n",
        "# 모델 훈련\n",
        "history = digit_model_frozen.fit(x_train_in, y_train,\n",
        "                                 validation_data=(x_valid_in, y_valid),\n",
        "                                 epochs=10)"
      ]
    },
    {
      "cell_type": "code",
      "source": [
        "# 베이스 모델의 conv2d 레이어의 가중치만 고정(freeze layer)\n",
        "base_model_frozen2 = tf.keras.Model(inputs=model.input, outputs=base_model_output, name='base_frozen2')\n",
        "base_model_frozen2.get_layer('conv2d_layer').trainable = False\n",
        "base_model_frozen2.summary()"
      ],
      "metadata": {
        "colab": {
          "base_uri": "https://localhost:8080/"
        },
        "id": "3GsneQEV1a8k",
        "outputId": "ae1f29a4-d861-474b-a54e-8183b43cd28e"
      },
      "execution_count": 53,
      "outputs": [
        {
          "output_type": "stream",
          "name": "stdout",
          "text": [
            "Model: \"base_frozen2\"\n",
            "_________________________________________________________________\n",
            " Layer (type)                Output Shape              Param #   \n",
            "=================================================================\n",
            " inputs (InputLayer)         [(None, 28, 28, 1)]       0         \n",
            "                                                                 \n",
            " conv2d_layer (Conv2D)       (None, 26, 26, 32)        320       \n",
            "                                                                 \n",
            " maxpool_layer (MaxPooling2  (None, 13, 13, 32)        0         \n",
            " D)                                                              \n",
            "                                                                 \n",
            " flatten_layer (Flatten)     (None, 5408)              0         \n",
            "                                                                 \n",
            "=================================================================\n",
            "Total params: 320 (1.25 KB)\n",
            "Trainable params: 0 (0.00 Byte)\n",
            "Non-trainable params: 320 (1.25 KB)\n",
            "_________________________________________________________________\n"
          ]
        }
      ]
    },
    {
      "cell_type": "markdown",
      "metadata": {
        "id": "CE2pE_GDsgID"
      },
      "source": [
        "- 위에서 고정한 모델에 새로운 분류기 역할을 하는 Dense레이어를 연결하여 모델을 구성한다."
      ]
    },
    {
      "cell_type": "code",
      "execution_count": 54,
      "metadata": {
        "colab": {
          "base_uri": "https://localhost:8080/"
        },
        "id": "ZwrEBh5hsilw",
        "outputId": "543f6a8f-f77e-415b-ed69-9f9a3d7250ff"
      },
      "outputs": [
        {
          "output_type": "stream",
          "name": "stdout",
          "text": [
            "Model: \"model_4\"\n",
            "_________________________________________________________________\n",
            " Layer (type)                Output Shape              Param #   \n",
            "=================================================================\n",
            " inputs (InputLayer)         [(None, 28, 28, 1)]       0         \n",
            "                                                                 \n",
            " conv2d_layer (Conv2D)       (None, 26, 26, 32)        320       \n",
            "                                                                 \n",
            " maxpool_layer (MaxPooling2  (None, 13, 13, 32)        0         \n",
            " D)                                                              \n",
            "                                                                 \n",
            " flatten_layer (Flatten)     (None, 5408)              0         \n",
            "                                                                 \n",
            " dense_6 (Dense)             (None, 10)                54090     \n",
            "                                                                 \n",
            "=================================================================\n",
            "Total params: 54410 (212.54 KB)\n",
            "Trainable params: 54090 (211.29 KB)\n",
            "Non-trainable params: 320 (1.25 KB)\n",
            "_________________________________________________________________\n"
          ]
        }
      ],
      "source": [
        "#functional API 적용\n",
        "dense_output2 = tf.keras.layers.Dense(10,activation='softmax')(base_model_frozen2.output)\n",
        "digit_model_frozen2 = tf.keras.models.Model(inputs=base_model_frozen2.input, outputs=dense_output2)\n",
        "digit_model_frozen2.summary()"
      ]
    },
    {
      "cell_type": "code",
      "execution_count": 56,
      "metadata": {
        "id": "PnoPL_4isnTc",
        "colab": {
          "base_uri": "https://localhost:8080/"
        },
        "outputId": "86e18674-0644-4408-a3c9-bb536b1d3252"
      },
      "outputs": [
        {
          "output_type": "stream",
          "name": "stdout",
          "text": [
            "Epoch 1/10\n",
            "1875/1875 [==============================] - 22s 10ms/step - loss: 0.1151 - accuracy: 0.9691 - val_loss: 0.0560 - val_accuracy: 0.9836\n",
            "Epoch 2/10\n",
            "1875/1875 [==============================] - 13s 7ms/step - loss: 0.0501 - accuracy: 0.9850 - val_loss: 0.0505 - val_accuracy: 0.9840\n",
            "Epoch 3/10\n",
            "1875/1875 [==============================] - 15s 8ms/step - loss: 0.0363 - accuracy: 0.9887 - val_loss: 0.0497 - val_accuracy: 0.9838\n",
            "Epoch 4/10\n",
            "1875/1875 [==============================] - 15s 8ms/step - loss: 0.0281 - accuracy: 0.9914 - val_loss: 0.0516 - val_accuracy: 0.9825\n",
            "Epoch 5/10\n",
            "1875/1875 [==============================] - 15s 8ms/step - loss: 0.0231 - accuracy: 0.9927 - val_loss: 0.0557 - val_accuracy: 0.9831\n",
            "Epoch 6/10\n",
            "1875/1875 [==============================] - 15s 8ms/step - loss: 0.0182 - accuracy: 0.9945 - val_loss: 0.0524 - val_accuracy: 0.9846\n",
            "Epoch 7/10\n",
            "1875/1875 [==============================] - 14s 8ms/step - loss: 0.0155 - accuracy: 0.9955 - val_loss: 0.0608 - val_accuracy: 0.9822\n",
            "Epoch 8/10\n",
            "1875/1875 [==============================] - 15s 8ms/step - loss: 0.0132 - accuracy: 0.9962 - val_loss: 0.0687 - val_accuracy: 0.9808\n",
            "Epoch 9/10\n",
            "1875/1875 [==============================] - 15s 8ms/step - loss: 0.0100 - accuracy: 0.9973 - val_loss: 0.0546 - val_accuracy: 0.9848\n",
            "Epoch 10/10\n",
            "1875/1875 [==============================] - 14s 7ms/step - loss: 0.0095 - accuracy: 0.9972 - val_loss: 0.0633 - val_accuracy: 0.9825\n"
          ]
        }
      ],
      "source": [
        "# 모델 컴파일\n",
        "digit_model_frozen2.compile(optimizer='adam',\n",
        "                            loss='sparse_categorical_crossentropy',\n",
        "                            metrics=['accuracy'])\n",
        "\n",
        "# 모델 훈련\n",
        "history = digit_model_frozen2.fit(x_train_in, y_train,\n",
        "                                  validation_data=(x_valid_in, y_valid),\n",
        "                                  epochs=10)"
      ]
    }
  ],
  "metadata": {
    "colab": {
      "provenance": [],
      "authorship_tag": "ABX9TyM6LQTmDt1ibNopTPIlfPF7",
      "include_colab_link": true
    },
    "kernelspec": {
      "display_name": "Python 3",
      "name": "python3"
    },
    "language_info": {
      "name": "python"
    }
  },
  "nbformat": 4,
  "nbformat_minor": 0
}