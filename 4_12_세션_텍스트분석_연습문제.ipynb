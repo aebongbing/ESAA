{
  "nbformat": 4,
  "nbformat_minor": 0,
  "metadata": {
    "colab": {
      "provenance": [],
      "include_colab_link": true
    },
    "kernelspec": {
      "name": "python3",
      "display_name": "Python 3"
    },
    "language_info": {
      "name": "python"
    }
  },
  "cells": [
    {
      "cell_type": "markdown",
      "metadata": {
        "id": "view-in-github",
        "colab_type": "text"
      },
      "source": [
        "<a href=\"https://colab.research.google.com/github/aebongbing/ESAA/blob/main/4_12_%EC%84%B8%EC%85%98_%ED%85%8D%EC%8A%A4%ED%8A%B8%EB%B6%84%EC%84%9D_%EC%97%B0%EC%8A%B5%EB%AC%B8%EC%A0%9C.ipynb\" target=\"_parent\"><img src=\"https://colab.research.google.com/assets/colab-badge.svg\" alt=\"Open In Colab\"/></a>"
      ]
    },
    {
      "cell_type": "markdown",
      "source": [
        "# 1. 아래의 데이터를 이용하여 공부한 내용을 바탕으로 문제 2개를 만들고 답하세요."
      ],
      "metadata": {
        "id": "MbDTRcUQrUS3"
      }
    },
    {
      "cell_type": "code",
      "source": [
        "import nltk\n",
        "nltk.download(\"book\", quiet=True)\n",
        "from nltk.book import *"
      ],
      "metadata": {
        "id": "PNjdc83Bqdpd",
        "colab": {
          "base_uri": "https://localhost:8080/"
        },
        "outputId": "9dd9ff25-a85e-4bbb-d85b-941850ba28e2"
      },
      "execution_count": 1,
      "outputs": [
        {
          "output_type": "stream",
          "name": "stdout",
          "text": [
            "*** Introductory Examples for the NLTK Book ***\n",
            "Loading text1, ..., text9 and sent1, ..., sent9\n",
            "Type the name of the text or sentence to view it.\n",
            "Type: 'texts()' or 'sents()' to list the materials.\n",
            "text1: Moby Dick by Herman Melville 1851\n",
            "text2: Sense and Sensibility by Jane Austen 1811\n",
            "text3: The Book of Genesis\n",
            "text4: Inaugural Address Corpus\n",
            "text5: Chat Corpus\n",
            "text6: Monty Python and the Holy Grail\n",
            "text7: Wall Street Journal\n",
            "text8: Personals Corpus\n",
            "text9: The Man Who Was Thursday by G . K . Chesterton 1908\n"
          ]
        }
      ]
    },
    {
      "cell_type": "code",
      "source": [
        "# 파일 목록 확인\n",
        "nltk.corpus.gutenberg.fileids()"
      ],
      "metadata": {
        "colab": {
          "base_uri": "https://localhost:8080/"
        },
        "id": "K9xoXfKzrbKv",
        "outputId": "f9d328c2-dd65-43e2-e79a-16ab49f14ad1"
      },
      "execution_count": 2,
      "outputs": [
        {
          "output_type": "execute_result",
          "data": {
            "text/plain": [
              "['austen-emma.txt',\n",
              " 'austen-persuasion.txt',\n",
              " 'austen-sense.txt',\n",
              " 'bible-kjv.txt',\n",
              " 'blake-poems.txt',\n",
              " 'bryant-stories.txt',\n",
              " 'burgess-busterbrown.txt',\n",
              " 'carroll-alice.txt',\n",
              " 'chesterton-ball.txt',\n",
              " 'chesterton-brown.txt',\n",
              " 'chesterton-thursday.txt',\n",
              " 'edgeworth-parents.txt',\n",
              " 'melville-moby_dick.txt',\n",
              " 'milton-paradise.txt',\n",
              " 'shakespeare-caesar.txt',\n",
              " 'shakespeare-hamlet.txt',\n",
              " 'shakespeare-macbeth.txt',\n",
              " 'whitman-leaves.txt']"
            ]
          },
          "metadata": {},
          "execution_count": 2
        }
      ]
    },
    {
      "cell_type": "code",
      "source": [
        "hamlet = nltk.corpus.gutenberg.raw('shakespeare-hamlet.txt')\n",
        "print(hamlet[:10000])"
      ],
      "metadata": {
        "colab": {
          "base_uri": "https://localhost:8080/"
        },
        "id": "jo9kzrrqqaNc",
        "outputId": "bbc98de2-a8ee-4d60-b1f3-09dce3a895b5"
      },
      "execution_count": 3,
      "outputs": [
        {
          "output_type": "stream",
          "name": "stdout",
          "text": [
            "[The Tragedie of Hamlet by William Shakespeare 1599]\n",
            "\n",
            "\n",
            "Actus Primus. Scoena Prima.\n",
            "\n",
            "Enter Barnardo and Francisco two Centinels.\n",
            "\n",
            "  Barnardo. Who's there?\n",
            "  Fran. Nay answer me: Stand & vnfold\n",
            "your selfe\n",
            "\n",
            "   Bar. Long liue the King\n",
            "\n",
            "   Fran. Barnardo?\n",
            "  Bar. He\n",
            "\n",
            "   Fran. You come most carefully vpon your houre\n",
            "\n",
            "   Bar. 'Tis now strook twelue, get thee to bed Francisco\n",
            "\n",
            "   Fran. For this releefe much thankes: 'Tis bitter cold,\n",
            "And I am sicke at heart\n",
            "\n",
            "   Barn. Haue you had quiet Guard?\n",
            "  Fran. Not a Mouse stirring\n",
            "\n",
            "   Barn. Well, goodnight. If you do meet Horatio and\n",
            "Marcellus, the Riuals of my Watch, bid them make hast.\n",
            "Enter Horatio and Marcellus.\n",
            "\n",
            "  Fran. I thinke I heare them. Stand: who's there?\n",
            "  Hor. Friends to this ground\n",
            "\n",
            "   Mar. And Leige-men to the Dane\n",
            "\n",
            "   Fran. Giue you good night\n",
            "\n",
            "   Mar. O farwel honest Soldier, who hath relieu'd you?\n",
            "  Fra. Barnardo ha's my place: giue you goodnight.\n",
            "\n",
            "Exit Fran.\n",
            "\n",
            "  Mar. Holla Barnardo\n",
            "\n",
            "   Bar. Say, what is Horatio there?\n",
            "  Hor. A peece of him\n",
            "\n",
            "   Bar. Welcome Horatio, welcome good Marcellus\n",
            "\n",
            "   Mar. What, ha's this thing appear'd againe to night\n",
            "\n",
            "   Bar. I haue seene nothing\n",
            "\n",
            "   Mar. Horatio saies, 'tis but our Fantasie,\n",
            "And will not let beleefe take hold of him\n",
            "Touching this dreaded sight, twice seene of vs,\n",
            "Therefore I haue intreated him along\n",
            "With vs, to watch the minutes of this Night,\n",
            "That if againe this Apparition come,\n",
            "He may approue our eyes, and speake to it\n",
            "\n",
            "   Hor. Tush, tush, 'twill not appeare\n",
            "\n",
            "   Bar. Sit downe a-while,\n",
            "And let vs once againe assaile your eares,\n",
            "That are so fortified against our Story,\n",
            "What we two Nights haue seene\n",
            "\n",
            "   Hor. Well, sit we downe,\n",
            "And let vs heare Barnardo speake of this\n",
            "\n",
            "   Barn. Last night of all,\n",
            "When yond same Starre that's Westward from the Pole\n",
            "Had made his course t' illume that part of Heauen\n",
            "Where now it burnes, Marcellus and my selfe,\n",
            "The Bell then beating one\n",
            "\n",
            "   Mar. Peace, breake thee of:\n",
            "Enter the Ghost.\n",
            "\n",
            "Looke where it comes againe\n",
            "\n",
            "   Barn. In the same figure, like the King that's dead\n",
            "\n",
            "   Mar. Thou art a Scholler; speake to it Horatio\n",
            "\n",
            "   Barn. Lookes it not like the King? Marke it Horatio\n",
            "\n",
            "   Hora. Most like: It harrowes me with fear & wonder\n",
            "  Barn. It would be spoke too\n",
            "\n",
            "   Mar. Question it Horatio\n",
            "\n",
            "   Hor. What art thou that vsurp'st this time of night,\n",
            "Together with that Faire and Warlike forme\n",
            "In which the Maiesty of buried Denmarke\n",
            "Did sometimes march: By Heauen I charge thee speake\n",
            "\n",
            "   Mar. It is offended\n",
            "\n",
            "   Barn. See, it stalkes away\n",
            "\n",
            "   Hor. Stay: speake; speake: I Charge thee, speake.\n",
            "\n",
            "Exit the Ghost.\n",
            "\n",
            "  Mar. 'Tis gone, and will not answer\n",
            "\n",
            "   Barn. How now Horatio? You tremble & look pale:\n",
            "Is not this something more then Fantasie?\n",
            "What thinke you on't?\n",
            "  Hor. Before my God, I might not this beleeue\n",
            "Without the sensible and true auouch\n",
            "Of mine owne eyes\n",
            "\n",
            "   Mar. Is it not like the King?\n",
            "  Hor. As thou art to thy selfe,\n",
            "Such was the very Armour he had on,\n",
            "When th' Ambitious Norwey combatted:\n",
            "So frown'd he once, when in an angry parle\n",
            "He smot the sledded Pollax on the Ice.\n",
            "'Tis strange\n",
            "\n",
            "   Mar. Thus twice before, and iust at this dead houre,\n",
            "With Martiall stalke, hath he gone by our Watch\n",
            "\n",
            "   Hor. In what particular thought to work, I know not:\n",
            "But in the grosse and scope of my Opinion,\n",
            "This boades some strange erruption to our State\n",
            "\n",
            "   Mar. Good now sit downe, & tell me he that knowes\n",
            "Why this same strict and most obseruant Watch,\n",
            "So nightly toyles the subiect of the Land,\n",
            "And why such dayly Cast of Brazon Cannon\n",
            "And Forraigne Mart for Implements of warre:\n",
            "Why such impresse of Ship-wrights, whose sore Taske\n",
            "Do's not diuide the Sunday from the weeke,\n",
            "What might be toward, that this sweaty hast\n",
            "Doth make the Night ioynt-Labourer with the day:\n",
            "Who is't that can informe me?\n",
            "  Hor. That can I,\n",
            "At least the whisper goes so: Our last King,\n",
            "Whose Image euen but now appear'd to vs,\n",
            "Was (as you know) by Fortinbras of Norway,\n",
            "(Thereto prick'd on by a most emulate Pride)\n",
            "Dar'd to the Combate. In which, our Valiant Hamlet,\n",
            "(For so this side of our knowne world esteem'd him)\n",
            "Did slay this Fortinbras: who by a Seal'd Compact,\n",
            "Well ratified by Law, and Heraldrie,\n",
            "Did forfeite (with his life) all those his Lands\n",
            "Which he stood seiz'd on, to the Conqueror:\n",
            "Against the which, a Moity competent\n",
            "Was gaged by our King: which had return'd\n",
            "To the Inheritance of Fortinbras,\n",
            "Had he bin Vanquisher, as by the same Cou'nant\n",
            "And carriage of the Article designe,\n",
            "His fell to Hamlet. Now sir, young Fortinbras,\n",
            "Of vnimproued Mettle, hot and full,\n",
            "Hath in the skirts of Norway, heere and there,\n",
            "Shark'd vp a List of Landlesse Resolutes,\n",
            "For Foode and Diet, to some Enterprize\n",
            "That hath a stomacke in't: which is no other\n",
            "(And it doth well appeare vnto our State)\n",
            "But to recouer of vs by strong hand\n",
            "And termes Compulsatiue, those foresaid Lands\n",
            "So by his Father lost: and this (I take it)\n",
            "Is the maine Motiue of our Preparations,\n",
            "The Sourse of this our Watch, and the cheefe head\n",
            "Of this post-hast, and Romage in the Land.\n",
            "Enter Ghost againe.\n",
            "\n",
            "But soft, behold: Loe, where it comes againe:\n",
            "Ile crosse it, though it blast me. Stay Illusion:\n",
            "If thou hast any sound, or vse of Voyce,\n",
            "Speake to me. If there be any good thing to be done,\n",
            "That may to thee do ease, and grace to me; speak to me.\n",
            "If thou art priuy to thy Countries Fate\n",
            "(Which happily foreknowing may auoyd) Oh speake.\n",
            "Or, if thou hast vp-hoorded in thy life\n",
            "Extorted Treasure in the wombe of Earth,\n",
            "(For which, they say, you Spirits oft walke in death)\n",
            "Speake of it. Stay, and speake. Stop it Marcellus\n",
            "\n",
            "   Mar. Shall I strike at it with my Partizan?\n",
            "  Hor. Do, if it will not stand\n",
            "\n",
            "   Barn. 'Tis heere\n",
            "\n",
            "   Hor. 'Tis heere\n",
            "\n",
            "   Mar. 'Tis gone.\n",
            "\n",
            "Exit Ghost.\n",
            "\n",
            "We do it wrong, being so Maiesticall\n",
            "To offer it the shew of Violence,\n",
            "For it is as the Ayre, invulnerable,\n",
            "And our vaine blowes, malicious Mockery\n",
            "\n",
            "   Barn. It was about to speake, when the Cocke crew\n",
            "\n",
            "   Hor. And then it started, like a guilty thing\n",
            "Vpon a fearfull Summons. I haue heard,\n",
            "The Cocke that is the Trumpet to the day,\n",
            "Doth with his lofty and shrill-sounding Throate\n",
            "Awake the God of Day: and at his warning,\n",
            "Whether in Sea, or Fire, in Earth, or Ayre,\n",
            "Th' extrauagant, and erring Spirit, hyes\n",
            "To his Confine. And of the truth heerein,\n",
            "This present Obiect made probation\n",
            "\n",
            "   Mar. It faded on the crowing of the Cocke.\n",
            "Some sayes, that euer 'gainst that Season comes\n",
            "Wherein our Sauiours Birch is celebrated,\n",
            "The Bird of Dawning singeth all night long:\n",
            "And then (they say) no Spirit can walke abroad,\n",
            "The nights are wholsome, then no Planets strike,\n",
            "No Faiery talkes, nor Witch hath power to Charme:\n",
            "So hallow'd, and so gracious is the time\n",
            "\n",
            "   Hor. So haue I heard, and do in part beleeue it.\n",
            "But looke, the Morne in Russet mantle clad,\n",
            "Walkes o're the dew of yon high Easterne Hill,\n",
            "Breake we our Watch vp, and by my aduice\n",
            "Let vs impart what we haue seene to night\n",
            "Vnto yong Hamlet. For vpon my life,\n",
            "This Spirit dumbe to vs, will speake to him:\n",
            "Do you consent we shall acquaint him with it,\n",
            "As needfull in our Loues, fitting our Duty?\n",
            "  Mar. Let do't I pray, and I this morning know\n",
            "Where we shall finde him most conueniently.\n",
            "\n",
            "Exeunt.\n",
            "\n",
            "Scena Secunda.\n",
            "\n",
            "Enter Claudius King of Denmarke, Gertrude the Queene, Hamlet,\n",
            "Polonius,\n",
            "Laertes, and his Sister Ophelia, Lords Attendant.\n",
            "\n",
            "  King. Though yet of Hamlet our deere Brothers death\n",
            "The memory be greene: and that it vs befitted\n",
            "To beare our hearts in greefe, and our whole Kingdome\n",
            "To be contracted in one brow of woe:\n",
            "Yet so farre hath Discretion fought with Nature,\n",
            "That we with wisest sorrow thinke on him,\n",
            "Together with remembrance of our selues.\n",
            "Therefore our sometimes Sister, now our Queene,\n",
            "Th' imperiall Ioyntresse of this warlike State,\n",
            "Haue we, as 'twere, with a defeated ioy,\n",
            "With one Auspicious, and one Dropping eye,\n",
            "With mirth in Funerall, and with Dirge in Marriage,\n",
            "In equall Scale weighing Delight and Dole\n",
            "Taken to Wife; nor haue we heerein barr'd\n",
            "Your better Wisedomes, which haue freely gone\n",
            "With this affaire along, for all our Thankes.\n",
            "Now followes, that you know young Fortinbras,\n",
            "Holding a weake supposall of our worth;\n",
            "Or thinking by our late deere Brothers death,\n",
            "Our State to be disioynt, and out of Frame,\n",
            "Colleagued with the dreame of his Aduantage;\n",
            "He hath not fayl'd to pester vs with Message,\n",
            "Importing the surrender of those Lands\n",
            "Lost by his Father: with all Bonds of Law\n",
            "To our most valiant Brother. So much for him.\n",
            "Enter Voltemand and Cornelius.\n",
            "\n",
            "Now for our selfe, and for this time of meeting\n",
            "Thus much the businesse is. We haue heere writ\n",
            "To Norway, Vncle of young Fortinbras,\n",
            "Who Impotent and Bedrid, scarsely heares\n",
            "Of this his Nephewes purpose, to suppresse\n",
            "His further gate heerein. In that the Leuies,\n",
            "The Lists, and full proportions are all made\n",
            "Out of his subiect: and we heere dispatch\n",
            "You good Cornelius, and you Voltemand,\n",
            "For bearing of this greeting to old Norway,\n",
            "Giuing to you no further personall power\n",
            "To businesse with the King, more then the scope\n",
            "Of these dilated Articles allow:\n",
            "Farewell, and let your hast commend your duty\n",
            "\n",
            "   Volt. In that, and all things, will we shew our duty\n",
            "\n",
            "   King. We doubt it nothing, heartily farewell.\n",
            "\n",
            "Exit Voltemand and Cornelius.\n",
            "\n",
            "And now Laertes, what's the newes with you?\n",
            "You told vs of some suite. What is't Laertes?\n",
            "You cannot speake of Reason to the Dane,\n",
            "And loose your voyce. What would'st thou beg Laertes,\n",
            "That shall not be my Offer, not thy Asking?\n",
            "The Head is not more Natiue to the Heart,\n",
            "The Hand more instrumentall to the Mouth,\n",
            "Then is the Throne of Denmarke to thy Father.\n",
            "What would'st thou haue Laertes?\n",
            "  Laer. Dread my Lord,\n",
            "Your leaue and fauour to returne to France,\n",
            "From whence, though willingly I came to Denmarke\n",
            "To shew my duty in your Coronation,\n",
            "Yet now I must confesse, that duty done,\n",
            "My thoughts and wishes bend againe towards France,\n",
            "And bow them to your gracious leaue and pardon\n",
            "\n",
            "   King. Haue you your Fathers leaue?\n",
            "What sayes Pollonius?\n",
            "  Pol. He hath my Lord:\n",
            "I do beseech you giue him leaue to go\n",
            "\n",
            "   King. Take thy\n"
          ]
        }
      ]
    },
    {
      "cell_type": "markdown",
      "source": [
        "### (1) 문제 1 :"
      ],
      "metadata": {
        "id": "iNftR22-riz3"
      }
    },
    {
      "cell_type": "markdown",
      "source": [
        "해당 데이터를 지도학습 기반 방법으로 감성분석 하세요"
      ],
      "metadata": {
        "id": "NTQMzbprsHVK"
      }
    },
    {
      "cell_type": "code",
      "source": [
        "nltk.download('vader_lexicon')"
      ],
      "metadata": {
        "colab": {
          "base_uri": "https://localhost:8080/"
        },
        "id": "dwWov8Youmlg",
        "outputId": "7cd5fc6c-e3d7-4789-9944-3ecfde4eaa75"
      },
      "execution_count": 6,
      "outputs": [
        {
          "output_type": "stream",
          "name": "stderr",
          "text": [
            "[nltk_data] Downloading package vader_lexicon to /root/nltk_data...\n"
          ]
        },
        {
          "output_type": "execute_result",
          "data": {
            "text/plain": [
              "True"
            ]
          },
          "metadata": {},
          "execution_count": 6
        }
      ]
    },
    {
      "cell_type": "code",
      "source": [
        "from nltk.sentiment import SentimentIntensityAnalyzer\n",
        "\n",
        "# NLTK의 감정 분석기 초기화\n",
        "sia = SentimentIntensityAnalyzer()\n",
        "\n",
        "# Hamlet 텍스트 불러오기\n",
        "hamlet = nltk.corpus.gutenberg.raw('shakespeare-hamlet.txt')\n",
        "\n",
        "# 문장 단위로 분리\n",
        "sentences = nltk.sent_tokenize(hamlet)\n",
        "\n",
        "# 각 문장의 감정 점수 계산\n",
        "sentiment_scores = []\n",
        "for sentence in sentences:\n",
        "    sentiment_score = sia.polarity_scores(sentence)\n",
        "    sentiment_scores.append(sentiment_score)\n",
        "\n",
        "# 결과 출력\n",
        "for i, score in enumerate(sentiment_scores[:10]):  # 처음 10개 문장만 출력\n",
        "    print(f\"Sentence {i+1}: {sentences[i]}\")\n",
        "    print(f\"Sentiment Score: {score}\")\n",
        "    print()"
      ],
      "metadata": {
        "colab": {
          "base_uri": "https://localhost:8080/"
        },
        "id": "IZGB_Rg2uGJR",
        "outputId": "fe5710a4-259f-4532-ee71-e208ba34bc6b"
      },
      "execution_count": 7,
      "outputs": [
        {
          "output_type": "stream",
          "name": "stdout",
          "text": [
            "Sentence 1: [The Tragedie of Hamlet by William Shakespeare 1599]\n",
            "\n",
            "\n",
            "Actus Primus.\n",
            "Sentiment Score: {'neg': 0.0, 'neu': 1.0, 'pos': 0.0, 'compound': 0.0}\n",
            "\n",
            "Sentence 2: Scoena Prima.\n",
            "Sentiment Score: {'neg': 0.0, 'neu': 1.0, 'pos': 0.0, 'compound': 0.0}\n",
            "\n",
            "Sentence 3: Enter Barnardo and Francisco two Centinels.\n",
            "Sentiment Score: {'neg': 0.0, 'neu': 1.0, 'pos': 0.0, 'compound': 0.0}\n",
            "\n",
            "Sentence 4: Barnardo.\n",
            "Sentiment Score: {'neg': 0.0, 'neu': 1.0, 'pos': 0.0, 'compound': 0.0}\n",
            "\n",
            "Sentence 5: Who's there?\n",
            "Sentiment Score: {'neg': 0.0, 'neu': 1.0, 'pos': 0.0, 'compound': 0.0}\n",
            "\n",
            "Sentence 6: Fran.\n",
            "Sentiment Score: {'neg': 0.0, 'neu': 1.0, 'pos': 0.0, 'compound': 0.0}\n",
            "\n",
            "Sentence 7: Nay answer me: Stand & vnfold\n",
            "your selfe\n",
            "\n",
            "   Bar.\n",
            "Sentiment Score: {'neg': 0.0, 'neu': 1.0, 'pos': 0.0, 'compound': 0.0}\n",
            "\n",
            "Sentence 8: Long liue the King\n",
            "\n",
            "   Fran.\n",
            "Sentiment Score: {'neg': 0.0, 'neu': 1.0, 'pos': 0.0, 'compound': 0.0}\n",
            "\n",
            "Sentence 9: Barnardo?\n",
            "Sentiment Score: {'neg': 0.0, 'neu': 1.0, 'pos': 0.0, 'compound': 0.0}\n",
            "\n",
            "Sentence 10: Bar.\n",
            "Sentiment Score: {'neg': 0.0, 'neu': 1.0, 'pos': 0.0, 'compound': 0.0}\n",
            "\n"
          ]
        }
      ]
    },
    {
      "cell_type": "markdown",
      "source": [
        "레이블(긍정, 부정, 중립)이 없기 때문에 이를 지정해주는 작업을 먼저 한다 번거롭다"
      ],
      "metadata": {
        "id": "swvZbAZrwG4L"
      }
    },
    {
      "cell_type": "markdown",
      "source": [
        "### (2) 문제 2"
      ],
      "metadata": {
        "id": "F6fES2kkrmP0"
      }
    },
    {
      "cell_type": "markdown",
      "source": [
        "해당 데이터를 비지도학습 기반 방법으로 감성분석 하세요"
      ],
      "metadata": {
        "id": "IvcE56ossVev"
      }
    },
    {
      "cell_type": "code",
      "source": [
        "!pip install afinn"
      ],
      "metadata": {
        "colab": {
          "base_uri": "https://localhost:8080/"
        },
        "id": "cvBcf_JEvZjA",
        "outputId": "49d9718c-6e66-4d4c-a34a-e18d0383e269"
      },
      "execution_count": 9,
      "outputs": [
        {
          "output_type": "stream",
          "name": "stdout",
          "text": [
            "Collecting afinn\n",
            "  Downloading afinn-0.1.tar.gz (52 kB)\n",
            "\u001b[?25l     \u001b[90m━━━━━━━━━━━━━━━━━━━━━━━━━━━━━━━━━━━━━━━━\u001b[0m \u001b[32m0.0/52.6 kB\u001b[0m \u001b[31m?\u001b[0m eta \u001b[36m-:--:--\u001b[0m\r\u001b[2K     \u001b[90m━━━━━━━━━━━━━━━━━━━━━━━━━━━━━━━━━━━━━━━━\u001b[0m \u001b[32m52.6/52.6 kB\u001b[0m \u001b[31m1.8 MB/s\u001b[0m eta \u001b[36m0:00:00\u001b[0m\n",
            "\u001b[?25h  Preparing metadata (setup.py) ... \u001b[?25l\u001b[?25hdone\n",
            "Building wheels for collected packages: afinn\n",
            "  Building wheel for afinn (setup.py) ... \u001b[?25l\u001b[?25hdone\n",
            "  Created wheel for afinn: filename=afinn-0.1-py3-none-any.whl size=53430 sha256=76e364ad13061eb6ad4f44df64eeb47a9c4ad594ed6946b692a53d6c1385d7ce\n",
            "  Stored in directory: /root/.cache/pip/wheels/b0/05/90/43f79196199a138fb486902fceca30a2d1b5228e6d2db8eb90\n",
            "Successfully built afinn\n",
            "Installing collected packages: afinn\n",
            "Successfully installed afinn-0.1\n"
          ]
        }
      ]
    },
    {
      "cell_type": "code",
      "source": [
        "from afinn import Afinn\n",
        "\n",
        "# AFINN 감정 사전 초기화\n",
        "afinn = Afinn()\n",
        "\n",
        "# 문장 단위로 분리\n",
        "sentences = nltk.sent_tokenize(hamlet)\n",
        "\n",
        "# 각 문장의 감정 점수 계산\n",
        "sentiment_scores = []\n",
        "for sentence in sentences:\n",
        "    sentiment_score = afinn.score(sentence)\n",
        "    sentiment_scores.append(sentiment_score)\n",
        "\n",
        "# 전체 문서의 감정 점수 계산\n",
        "total_score = sum(sentiment_scores)\n",
        "\n",
        "# 결과 출력\n",
        "print(\"Total Sentiment Score:\", total_score)\n",
        "if total_score > 0:\n",
        "    print(\"Overall sentiment: Positive\")\n",
        "elif total_score == 0:\n",
        "    print(\"Overall sentiment: Neutral\")\n",
        "else:\n",
        "    print(\"Overall sentiment: Negative\")"
      ],
      "metadata": {
        "colab": {
          "base_uri": "https://localhost:8080/"
        },
        "id": "s1Iw6cyPu-pP",
        "outputId": "c182e3b0-2950-4547-efdc-066ff296d59e"
      },
      "execution_count": 10,
      "outputs": [
        {
          "output_type": "stream",
          "name": "stdout",
          "text": [
            "Total Sentiment Score: 209.0\n",
            "Overall sentiment: Positive\n"
          ]
        }
      ]
    },
    {
      "cell_type": "markdown",
      "source": [
        "이미 존재하는 감정 사전을 이용하여 점수를 내기 때문에 지도학습에 비해 편리하다"
      ],
      "metadata": {
        "id": "alSBWWqswU_h"
      }
    },
    {
      "cell_type": "markdown",
      "source": [
        "# 2. 조원들과 만든 문제와 답을 공유해보세요."
      ],
      "metadata": {
        "id": "2EvgMg6VsMz0"
      }
    },
    {
      "cell_type": "code",
      "source": [],
      "metadata": {
        "id": "a_l-4BAwsPlL"
      },
      "execution_count": null,
      "outputs": []
    }
  ]
}