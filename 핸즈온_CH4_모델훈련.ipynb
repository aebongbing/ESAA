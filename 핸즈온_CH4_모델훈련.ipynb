{
  "nbformat": 4,
  "nbformat_minor": 0,
  "metadata": {
    "colab": {
      "provenance": [],
      "authorship_tag": "ABX9TyOMrk8I1yfXJhi2Nzjdbr9n",
      "include_colab_link": true
    },
    "kernelspec": {
      "name": "python3",
      "display_name": "Python 3"
    },
    "language_info": {
      "name": "python"
    }
  },
  "cells": [
    {
      "cell_type": "markdown",
      "metadata": {
        "id": "view-in-github",
        "colab_type": "text"
      },
      "source": [
        "<a href=\"https://colab.research.google.com/github/aebongbing/ESAA/blob/main/%ED%95%B8%EC%A6%88%EC%98%A8_CH4_%EB%AA%A8%EB%8D%B8%ED%9B%88%EB%A0%A8.ipynb\" target=\"_parent\"><img src=\"https://colab.research.google.com/assets/colab-badge.svg\" alt=\"Open In Colab\"/></a>"
      ]
    },
    {
      "cell_type": "markdown",
      "source": [
        "# 4.1 선형 회귀\n",
        "\n",
        "선형 모델\n",
        "\n",
        "- 입력 특성의 가중치 합과 편향이라는 상수를 더해 예측을 만든다\n",
        "\n",
        "모델 훈련\n",
        "\n",
        "- 모델이 훈련 세트에 가장 잘 맞도록 모델 파라미터를 설정하는 것\n",
        "\n",
        "- 선형 회귀 모델을 훈련시키려면 MSE를 최소화하는 세타를 찾아야\n",
        "\n",
        "\n",
        "# 4.1.1 정규방정식\n",
        "\n",
        "정규방정식\n",
        "\n",
        "- 비용함수를 최소화하는 세타값을 찾기 위한 해석적인 방법\n"
      ],
      "metadata": {
        "id": "knXmllREFRng"
      }
    },
    {
      "cell_type": "code",
      "execution_count": 1,
      "metadata": {
        "id": "m2NEhvrIFJac"
      },
      "outputs": [],
      "source": [
        "import numpy as np\n",
        "\n",
        "X=2*np.random.rand(100,1)\n",
        "y=4+3*X+np.random.randn(100,1)"
      ]
    },
    {
      "cell_type": "markdown",
      "source": [
        "- 선형처럼 보이는 데이터 생성"
      ],
      "metadata": {
        "id": "I_sNlGR0GWPZ"
      }
    },
    {
      "cell_type": "code",
      "source": [
        "X_b = np.c_[np.ones((100,1)), X]\n",
        "theta_best=np.linalg.inv(X_b.T.dot(X_b)).dot(X_b.T).dot(y)"
      ],
      "metadata": {
        "id": "QrY9anPUGZ1x"
      },
      "execution_count": 2,
      "outputs": []
    },
    {
      "cell_type": "markdown",
      "source": [
        "- 정규방정식을 사용해 theta hat 계산\n",
        "- np.linalg.inv() 함수를 통해 역행렬 계산\n",
        "- dot() 매서드를 사용해 행렬 곱셈"
      ],
      "metadata": {
        "id": "AH3SJfidGy78"
      }
    },
    {
      "cell_type": "code",
      "source": [
        "theta_best"
      ],
      "metadata": {
        "colab": {
          "base_uri": "https://localhost:8080/"
        },
        "id": "op9E03ljHBbQ",
        "outputId": "09935acb-6a69-4e8b-a3be-ec00c701eeff"
      },
      "execution_count": 3,
      "outputs": [
        {
          "output_type": "execute_result",
          "data": {
            "text/plain": [
              "array([[4.10603685],\n",
              "       [2.72507327]])"
            ]
          },
          "metadata": {},
          "execution_count": 3
        }
      ]
    },
    {
      "cell_type": "markdown",
      "source": [
        "- 정규 방정식으로 계산한 값 확인\n",
        "- 매우 비슷하지만 잡음 때문에 원래 함수의 파라미터를 정확하게 재현하지 못함"
      ],
      "metadata": {
        "id": "qDu9NvGLHGvF"
      }
    },
    {
      "cell_type": "code",
      "source": [
        "X_new=np.array([[0],[2]])\n",
        "X_new_b = np.c_[np.ones((2,1)), X_new]\n",
        "y_predict=X_new_b.dot(theta_best)\n",
        "y_predict"
      ],
      "metadata": {
        "colab": {
          "base_uri": "https://localhost:8080/"
        },
        "id": "z62GApvGHR2h",
        "outputId": "67140547-6ea9-411a-d719-86d0c1fb48a7"
      },
      "execution_count": 4,
      "outputs": [
        {
          "output_type": "execute_result",
          "data": {
            "text/plain": [
              "array([[4.10603685],\n",
              "       [9.55618339]])"
            ]
          },
          "metadata": {},
          "execution_count": 4
        }
      ]
    },
    {
      "cell_type": "markdown",
      "source": [
        "- theta hat을 사용하여 예측"
      ],
      "metadata": {
        "id": "GfLWYUZgHp__"
      }
    },
    {
      "cell_type": "code",
      "source": [
        "import matplotlib.pyplot as plt\n",
        "plt.plot (X_new, y_predict,\"r-\")\n",
        "plt.plot(X,y,\"b.\")\n",
        "plt.axis([0,2,0,15])\n",
        "plt.show()"
      ],
      "metadata": {
        "colab": {
          "base_uri": "https://localhost:8080/",
          "height": 430
        },
        "id": "3Y6IU214Htsf",
        "outputId": "cbd8f182-3398-44b0-ba97-ec9a75435104"
      },
      "execution_count": 5,
      "outputs": [
        {
          "output_type": "display_data",
          "data": {
            "text/plain": [
              "<Figure size 640x480 with 1 Axes>"
            ],
            "image/png": "[encoded data removed]"
          },
          "metadata": {}
        }
      ]
    },
    {
      "cell_type": "markdown",
      "source": [
        "사이킷런에서 선형 회귀 수행"
      ],
      "metadata": {
        "id": "WEVto6-EICUo"
      }
    },
    {
      "cell_type": "code",
      "source": [
        "from sklearn.linear_model import LinearRegression\n",
        "lin_reg=LinearRegression()\n",
        "lin_reg.fit(X,y)\n",
        "lin_reg.intercept_, lin_reg.coef_"
      ],
      "metadata": {
        "colab": {
          "base_uri": "https://localhost:8080/"
        },
        "id": "0-FGc3ARIFem",
        "outputId": "4018bcc4-18a4-4e68-e6b3-78b41f58ce58"
      },
      "execution_count": 6,
      "outputs": [
        {
          "output_type": "execute_result",
          "data": {
            "text/plain": [
              "(array([4.10603685]), array([[2.72507327]]))"
            ]
          },
          "metadata": {},
          "execution_count": 6
        }
      ]
    },
    {
      "cell_type": "code",
      "source": [
        "lin_reg.predict(X_new)"
      ],
      "metadata": {
        "colab": {
          "base_uri": "https://localhost:8080/"
        },
        "id": "w4TmYQuPIbsQ",
        "outputId": "19676a8d-bc69-428b-cb3f-9c182b60c9c8"
      },
      "execution_count": 7,
      "outputs": [
        {
          "output_type": "execute_result",
          "data": {
            "text/plain": [
              "array([[4.10603685],\n",
              "       [9.55618339]])"
            ]
          },
          "metadata": {},
          "execution_count": 7
        }
      ]
    },
    {
      "cell_type": "code",
      "source": [
        "theta_best_svd, residuals, rank, s=np.linalg.lstsq(X_b, y, rcond=1e-6)\n",
        "theta_best_svd"
      ],
      "metadata": {
        "colab": {
          "base_uri": "https://localhost:8080/"
        },
        "id": "Vx4MiMI_Ijwi",
        "outputId": "47c647c0-961f-47a3-84d1-2f33bd50ebc1"
      },
      "execution_count": 8,
      "outputs": [
        {
          "output_type": "execute_result",
          "data": {
            "text/plain": [
              "array([[4.10603685],\n",
              "       [2.72507327]])"
            ]
          },
          "metadata": {},
          "execution_count": 8
        }
      ]
    },
    {
      "cell_type": "markdown",
      "source": [
        "- LinearRegression 클래스는 spicy.linalg.lstsq() 함수를 기반으로"
      ],
      "metadata": {
        "id": "cZa4YKkGI0WV"
      }
    },
    {
      "cell_type": "code",
      "source": [
        "np.linalg.pinv(X_b).dot(y)"
      ],
      "metadata": {
        "colab": {
          "base_uri": "https://localhost:8080/"
        },
        "id": "CvImOnpbI9GI",
        "outputId": "5f8ec1a7-a670-43e4-8ee3-780738cadb42"
      },
      "execution_count": 9,
      "outputs": [
        {
          "output_type": "execute_result",
          "data": {
            "text/plain": [
              "array([[4.10603685],\n",
              "       [2.72507327]])"
            ]
          },
          "metadata": {},
          "execution_count": 9
        }
      ]
    },
    {
      "cell_type": "markdown",
      "source": [
        "- 이 함수는 theta hat= (X)+y 계산\n",
        "- (X)+는 X의 유사 역행렬 -> np.linalg.pinv()함수를 사용해 직접 구할 수 있다\n",
        "\n",
        "유사 역행렬\n",
        "\n",
        "- 특잇값 분해(SVD)라 부르는 표준 행렬 분해 기법을 사용해 계산\n",
        "  \n",
        "  - X=U * sigma * V.T 로 분해\n",
        "  - X+=V * (sigma)+ * U.T로 계산\n",
        "  - 실제로 m<n 이거나 어떤 특성이 중복되어 행렬 X.T*X 의 역행렬이 없다면 정규방정식은 작동하지 않는다\n",
        "  - 유사역행렬은 하상 구할 수 있다\n",
        "\n",
        "\n",
        "# 4.1.2 계산 복잡도\n",
        "\n",
        "정규 방정식은 (n+1)x(n+1) 크기가 되는 X.T*X 의 역행렬을 계산한다.\n",
        "\n",
        "-> 역행렬을 계산하는 계산 복잡도는 일반적으로 O(n^2.4) ~ O(n^3) 사이이다.\n",
        "\n",
        "- 사이킷런의 LinearRegression 클래스가 사용하는 SVD 방법은 약 O(n^2) 이다.\n",
        "\n",
        "\n",
        "# 4.2 경사 하강법\n",
        "\n",
        "경사 하강법(GD)\n",
        "\n",
        "- 여러 종류의 문제에서 최적의 해법을 찾을 수 있는 일반적인 최적화 알고리즘\n",
        "\n",
        "- 기본 아이디어: 비용 함수를 최소화하기 위해 반복해서 파라미터를 조정하는 것\n",
        "\n",
        "- 무작위 초기화: theta를 임의의 값으로 시작\n",
        "\n",
        "\n",
        "학습률\n",
        "\n",
        "- 경사 하강법에서 중요한 파라미터로 스텝의 크기\n",
        "- 너무 작으면 반복을 많이 해야 해서 시간이 오래 걸림\n",
        "- 너무 크면 이전보다 높은 곳으로 올라갈 수도\n",
        "\n",
        "경사하강법의 두 가지 문제점\n",
        "\n",
        "1. 왼쪽에서 시작하면 전역 최솟값보다 덜 좋은 지역 최솟값에 수렴\n",
        "2. 오른쪽에서 시작하면 평탄한 지역을 지나기 위해 시간이 오래 걸리고 일찍 멈추게 되어 전역 최솟값에 도달하지 못한다\n",
        "\n",
        "선형 회귀를 위한 MSE 비용 함수는 곡선에서 어떤 두 점을 선택해 그어도 곡선을 가로지르지 않는 볼록함수이다.\n",
        "\n",
        "- 이는 지역최속값이 없고 하나의 전역 최솟값만 있다는 뜻\n",
        "- 또한 연속된 함수, 기울기가 갑자기 변하지 않음\n",
        "\n",
        "-> 경사 하강법이 전역 최솟값에 가깝게 접근할 수 있다는 것을 보장\n",
        "\n",
        "- 스케일에 따라 모양과 시간이 달라짐\n",
        "\n",
        "\n",
        "# 4.2.1 배치 경사 하강법\n",
        "\n",
        "편도함수\n",
        "\n",
        "- 경사하강법을 구현하려면 각 모델 파라미터 theta(j)에 대해 비용 함수의 그레디언트를 계산해야 한다\n",
        "- 다시 말해, theta(j)가 조금 변경될 때 비용함수가 얼마나 바뀌는 지 계산해야 한다\n"
      ],
      "metadata": {
        "id": "XxGa9K5_JI5_"
      }
    },
    {
      "cell_type": "code",
      "source": [
        "eta=0.1\n",
        "n_iterations=1000\n",
        "m=100\n",
        "\n",
        "theta=np.random.randn(2,1)\n",
        "\n",
        "for iteration in range(n_iterations):\n",
        "  gradients=2/m*X_b.T.dot(X_b.dot(theta)-y)\n",
        "  theta=theta=eta*gradients"
      ],
      "metadata": {
        "id": "b_XBHU9pMuF2"
      },
      "execution_count": 11,
      "outputs": []
    },
    {
      "cell_type": "code",
      "source": [
        "theta"
      ],
      "metadata": {
        "colab": {
          "base_uri": "https://localhost:8080/"
        },
        "id": "fRAY6bceNMyo",
        "outputId": "fa7aa44f-a43d-4fa1-9e6e-7a2bdc0a5442"
      },
      "execution_count": 12,
      "outputs": [
        {
          "output_type": "execute_result",
          "data": {
            "text/plain": [
              "array([[-2.2154417 ],\n",
              "       [-2.37982909]])"
            ]
          },
          "metadata": {},
          "execution_count": 12
        }
      ]
    },
    {
      "cell_type": "markdown",
      "source": [
        "적절한 학습률을 찾으려면 그리드 참색을 사용\n",
        "\n",
        "-> 그리드 탐색에서 수렴하는 데 너무 오래 걸리는 모델을 막기 위해 반복 횟수를 제한 해야함\n",
        "\n",
        "반복 횟수 지정 방법\n",
        "\n",
        "-> 반복 횟수를 아주 크게 지정하고 크레디언트 벡터가 아주 작아지면, 즉 벡터의 노름이 어떤 허용오차보다 작아지면 경사 하겅법이 최솟값에 도달한 것이므로 알고리즘 중지\n",
        "\n",
        "\n",
        "# 4.2.2 확률적 경사 하강법\n",
        "\n",
        "배치 경사 하강법의 가장 큰 문제\n",
        "\n",
        "- 매 스텝에서 전체 훈련 세트를 사용해 그레이디언트를 계싼\n",
        "- 훈련 세트가 커지면 매우 느려진다\n",
        "\n",
        "확률적 경사 하강법\n",
        "\n",
        "- 매 스텝에서 한 개의 샘플을 무작위로 선택\n",
        "- 그 하나의 샘플에 대한 그레이디언트를 계산\n",
        "- 매 반복에서 다뤄야 할 데이터가 매우 적기 때문에 한 번에 하나의 샘플을 처리하면 알고리즘이 훨씬 빠르다\n",
        "- 매우 큰 훈련 세트도 훈련시킬 수 있다 (매 반복에서 하나의 샘플만 메모리에 있으면 되므로)\n",
        "- 확률적이기 때문에 배치 경사 하강법보다 훨씬 불안정 -> 요동치며 평균족으로 감소\n",
        "- 비용 함수가 불규칙할 경우-> 지역 최솟값을 건너뛸 수 있도록 도와주므로 확률적 경사 하강법이 배치 경사 하강법보다 전역 최솟값을 찾을 가능성이 높다\n",
        "- 무작위성\n",
        "- 학습 스케쥴\n",
        "  - 지역 최솟값에서 탈출시켜줘서 좋지만 알고리즘은 전역 최솟값에 다다르지 못하게 한다는 점에서 좋지 않다\n",
        "  - 해결 방법: 학습률을 점진적으로 감소 -> 담금질 기법알고리즘과 유사\n",
        "  - 매 반복에서 학습률을 결정하는 함수\n",
        "  - 너무 빨리 줄어들면 지역 최솟값에 갇히거나 중간에 멈춰버릴 수 있다\n",
        "  - 너무 천천히 줄어들면 오랫동안 주변을 맴돌거나 훈련을 너무 일찍 중지할 수 있다"
      ],
      "metadata": {
        "id": "qUKYhBqwNSh3"
      }
    },
    {
      "cell_type": "code",
      "source": [
        "n_epochs=50\n",
        "t0, t1 = 5, 50\n",
        "\n",
        "def learning_schedule(t):\n",
        "  return t0/(t+t1)\n",
        "\n",
        "theta=np.random.randn(2,1)\n",
        "\n",
        "for epoch in range(n_epochs):\n",
        "  for i in range(m):\n",
        "    random_index=np.random.randint(m)\n",
        "    xi=X_b[random_index:random_index+1]\n",
        "    yi=y[random_index:random_index+1]\n",
        "    gradients=2*xi.T.dot(xi.dot(theta)-yi)\n",
        "    eta=learning_schedule(epoch*m+i)\n",
        "    theta=theta-eta*gradients"
      ],
      "metadata": {
        "id": "Ay63wytMPI55"
      },
      "execution_count": 13,
      "outputs": []
    },
    {
      "cell_type": "markdown",
      "source": [
        "- 학습 스케쥴 사용한 확률적 경사 하강법의 구현\n",
        "- 일반적으로 한 반복에서 m번 되풀이 되고 이때 각 반복으로 에포크라고 한다\n"
      ],
      "metadata": {
        "id": "M-l2ZyiQQMcb"
      }
    },
    {
      "cell_type": "code",
      "source": [
        "theta"
      ],
      "metadata": {
        "colab": {
          "base_uri": "https://localhost:8080/"
        },
        "id": "cNziqnXsQY6h",
        "outputId": "25fefbae-979d-44f6-b31a-14ffe71fada9"
      },
      "execution_count": 14,
      "outputs": [
        {
          "output_type": "execute_result",
          "data": {
            "text/plain": [
              "array([[4.08779375],\n",
              "       [2.67922962]])"
            ]
          },
          "metadata": {},
          "execution_count": 14
        }
      ]
    },
    {
      "cell_type": "markdown",
      "source": [
        "샘플을 무작위로 선택하기 때문에 어떤 샘플은 한 에포크에서 여러 번 선택될 수 있고 어떤 샘플은 전혀 선택되지 못할 수도 있다\n",
        "\n",
        "-> 모든 샘플을 사용하게 하려면 훈련 세트를 섞은 후 차례대로 하나씩 선택하고 ㄷ음 에포크에서 다시 섞는 식의 방법을 사용할 수 있다\n",
        "\n",
        "-> 그러나 이렇게 하면 보통 더 늦게 수렴한다"
      ],
      "metadata": {
        "id": "aRroSRknQcD1"
      }
    },
    {
      "cell_type": "code",
      "source": [
        "from sklearn.linear_model import SGDRegressor\n",
        "sgd_reg = SGDRegressor(max_iter = 1000, tol = 1e-3, penalty = None, eta0 = 0.1)  # max_iter : 최대 에포크 횟수. tol : 손실이 줄어들 때까지 실행되는 기준. eta0 : 학습률. penalty : 규제\n",
        "sgd_reg.fit(X, y.ravel())"
      ],
      "metadata": {
        "colab": {
          "base_uri": "https://localhost:8080/",
          "height": 74
        },
        "id": "r_jM4EXtQyry",
        "outputId": "dc0c0934-2a0d-4041-de5c-01a1a413eddb"
      },
      "execution_count": 15,
      "outputs": [
        {
          "output_type": "execute_result",
          "data": {
            "text/plain": [
              "SGDRegressor(eta0=0.1, penalty=None)"
            ],
            "text/html": [
              "<style>#sk-container-id-1 {color: black;background-color: white;}#sk-container-id-1 pre{padding: 0;}#sk-container-id-1 div.sk-toggleable {background-color: white;}#sk-container-id-1 label.sk-toggleable__label {cursor: pointer;display: block;width: 100%;margin-bottom: 0;padding: 0.3em;box-sizing: border-box;text-align: center;}#sk-container-id-1 label.sk-toggleable__label-arrow:before {content: \"▸\";float: left;margin-right: 0.25em;color: #696969;}#sk-container-id-1 label.sk-toggleable__label-arrow:hover:before {color: black;}#sk-container-id-1 div.sk-estimator:hover label.sk-toggleable__label-arrow:before {color: black;}#sk-container-id-1 div.sk-toggleable__content {max-height: 0;max-width: 0;overflow: hidden;text-align: left;background-color: #f0f8ff;}#sk-container-id-1 div.sk-toggleable__content pre {margin: 0.2em;color: black;border-radius: 0.25em;background-color: #f0f8ff;}#sk-container-id-1 input.sk-toggleable__control:checked~div.sk-toggleable__content {max-height: 200px;max-width: 100%;overflow: auto;}#sk-container-id-1 input.sk-toggleable__control:checked~label.sk-toggleable__label-arrow:before {content: \"▾\";}#sk-container-id-1 div.sk-estimator input.sk-toggleable__control:checked~label.sk-toggleable__label {background-color: #d4ebff;}#sk-container-id-1 div.sk-label input.sk-toggleable__control:checked~label.sk-toggleable__label {background-color: #d4ebff;}#sk-container-id-1 input.sk-hidden--visually {border: 0;clip: rect(1px 1px 1px 1px);clip: rect(1px, 1px, 1px, 1px);height: 1px;margin: -1px;overflow: hidden;padding: 0;position: absolute;width: 1px;}#sk-container-id-1 div.sk-estimator {font-family: monospace;background-color: #f0f8ff;border: 1px dotted black;border-radius: 0.25em;box-sizing: border-box;margin-bottom: 0.5em;}#sk-container-id-1 div.sk-estimator:hover {background-color: #d4ebff;}#sk-container-id-1 div.sk-parallel-item::after {content: \"\";width: 100%;border-bottom: 1px solid gray;flex-grow: 1;}#sk-container-id-1 div.sk-label:hover label.sk-toggleable__label {background-color: #d4ebff;}#sk-container-id-1 div.sk-serial::before {content: \"\";position: absolute;border-left: 1px solid gray;box-sizing: border-box;top: 0;bottom: 0;left: 50%;z-index: 0;}#sk-container-id-1 div.sk-serial {display: flex;flex-direction: column;align-items: center;background-color: white;padding-right: 0.2em;padding-left: 0.2em;position: relative;}#sk-container-id-1 div.sk-item {position: relative;z-index: 1;}#sk-container-id-1 div.sk-parallel {display: flex;align-items: stretch;justify-content: center;background-color: white;position: relative;}#sk-container-id-1 div.sk-item::before, #sk-container-id-1 div.sk-parallel-item::before {content: \"\";position: absolute;border-left: 1px solid gray;box-sizing: border-box;top: 0;bottom: 0;left: 50%;z-index: -1;}#sk-container-id-1 div.sk-parallel-item {display: flex;flex-direction: column;z-index: 1;position: relative;background-color: white;}#sk-container-id-1 div.sk-parallel-item:first-child::after {align-self: flex-end;width: 50%;}#sk-container-id-1 div.sk-parallel-item:last-child::after {align-self: flex-start;width: 50%;}#sk-container-id-1 div.sk-parallel-item:only-child::after {width: 0;}#sk-container-id-1 div.sk-dashed-wrapped {border: 1px dashed gray;margin: 0 0.4em 0.5em 0.4em;box-sizing: border-box;padding-bottom: 0.4em;background-color: white;}#sk-container-id-1 div.sk-label label {font-family: monospace;font-weight: bold;display: inline-block;line-height: 1.2em;}#sk-container-id-1 div.sk-label-container {text-align: center;}#sk-container-id-1 div.sk-container {/* jupyter's `normalize.less` sets `[hidden] { display: none; }` but bootstrap.min.css set `[hidden] { display: none !important; }` so we also need the `!important` here to be able to override the default hidden behavior on the sphinx rendered scikit-learn.org. See: https://github.com/scikit-learn/scikit-learn/issues/21755 */display: inline-block !important;position: relative;}#sk-container-id-1 div.sk-text-repr-fallback {display: none;}</style><div id=\"sk-container-id-1\" class=\"sk-top-container\"><div class=\"sk-text-repr-fallback\"><pre>SGDRegressor(eta0=0.1, penalty=None)</pre><b>In a Jupyter environment, please rerun this cell to show the HTML representation or trust the notebook. <br />On GitHub, the HTML representation is unable to render, please try loading this page with nbviewer.org.</b></div><div class=\"sk-container\" hidden><div class=\"sk-item\"><div class=\"sk-estimator sk-toggleable\"><input class=\"sk-toggleable__control sk-hidden--visually\" id=\"sk-estimator-id-1\" type=\"checkbox\" checked><label for=\"sk-estimator-id-1\" class=\"sk-toggleable__label sk-toggleable__label-arrow\">SGDRegressor</label><div class=\"sk-toggleable__content\"><pre>SGDRegressor(eta0=0.1, penalty=None)</pre></div></div></div></div></div>"
            ]
          },
          "metadata": {},
          "execution_count": 15
        }
      ]
    },
    {
      "cell_type": "code",
      "source": [
        "sgd_reg.intercept_, sgd_reg.coef_"
      ],
      "metadata": {
        "colab": {
          "base_uri": "https://localhost:8080/"
        },
        "id": "4R1MsT-DRMBl",
        "outputId": "a06e20b9-d9fd-4e68-904a-5c288fcc7003"
      },
      "execution_count": 16,
      "outputs": [
        {
          "output_type": "execute_result",
          "data": {
            "text/plain": [
              "(array([4.11707703]), array([2.74879639]))"
            ]
          },
          "metadata": {},
          "execution_count": 16
        }
      ]
    },
    {
      "cell_type": "markdown",
      "source": [
        "- 정규방정식으로 구한 것과 매우 비슷한 값을 얻음\n",
        "\n",
        "\n",
        "# 4.2.3 미니배치 경사 하강법\n",
        "\n",
        "각 스텝에서 전체 훈련 세트나 하나의 샘플을 기반으로 그레이디언트를 계산하는 것이 아니라 미니배치라 부르는 임의의 작은 샘플 세트에 대해 그레이디언트를 계산한다.\n",
        "\n",
        "- 주요 장점 : 행렬 연산에 최적화된 하드웨어, 특히 GPU를 사용해서 얻는 성능 향상\n",
        "\n",
        "- 미니배치를 어느 정도 크게 하면 SGD보다 덜 불규칙하게 움직인다. -> 지역 최솟값에서 빠져나오기는 더 힘들수도 있다.\n",
        "\n",
        "세 가지 경사 하강법 알고리즘 훈련 과정동안 파라미터 공간에서 움직인 경로\n",
        "\n",
        "- 모두 최솟값 근처에 도달\n",
        "- 배치 경사 하강법 -> 실제로 최솟값에서 멈춤, 시간이 많이 걸림\n",
        "- 확률적/미니배치 경사 하강법 -> 근처에서 맴돌고 있음, 적절한 학습 스케쥴 사용\n",
        "\n",
        "\n",
        "# 4.3 다항 회귀\n",
        "\n",
        "다항 회귀\n",
        "\n",
        "- 비선형 데이터를 학습하는데 선형 모델을 사용\n",
        "- 각 특성의 거듭제곱을 새로운 특성으로 추가하고, 이 확장된 특성을 포함한 데이터셋에 선형 모델을 훈련시티는 것"
      ],
      "metadata": {
        "id": "Skvc7I5yRV20"
      }
    },
    {
      "cell_type": "code",
      "source": [
        "m=100\n",
        "X=6*np.random.rand(m,1)-3\n",
        "y=0.5*X+X+2+np.random.randn(m,1)"
      ],
      "metadata": {
        "id": "qsP7QWbCSMJU"
      },
      "execution_count": 17,
      "outputs": []
    },
    {
      "cell_type": "markdown",
      "source": [
        "- 2차방정식으로 잡음이 포함된 비선형 데이터 생성\n",
        "\n",
        "-> 직선은 이 데이터에 잘 맞지 않음\n",
        "\n",
        "-> 사이킷런의 PolynimialFeatures를 사용해 훈련 데이터를 변환"
      ],
      "metadata": {
        "id": "POn3d-7xScOz"
      }
    },
    {
      "cell_type": "code",
      "source": [
        "from sklearn.preprocessing import PolynomialFeatures\n",
        "poly_features=PolynomialFeatures(degree=2, include_bias=False)\n",
        "X_poly=poly_features.fit_transform(X)\n",
        "X[0]"
      ],
      "metadata": {
        "colab": {
          "base_uri": "https://localhost:8080/"
        },
        "id": "4U1hU0kOSsG3",
        "outputId": "29bce937-edfe-450d-c8a4-870c909d8fc8"
      },
      "execution_count": 18,
      "outputs": [
        {
          "output_type": "execute_result",
          "data": {
            "text/plain": [
              "array([-1.76903724])"
            ]
          },
          "metadata": {},
          "execution_count": 18
        }
      ]
    },
    {
      "cell_type": "markdown",
      "source": [
        "- 훈련 세트에 있는 각 특성을 제곱하여 새로운 특성으로 추가"
      ],
      "metadata": {
        "id": "6IHq9DzRTC5O"
      }
    },
    {
      "cell_type": "code",
      "source": [
        "X_poly[0]"
      ],
      "metadata": {
        "colab": {
          "base_uri": "https://localhost:8080/"
        },
        "id": "GPYfNGPiTJCC",
        "outputId": "b156a672-5407-4fee-aa58-85ae829d7c06"
      },
      "execution_count": 19,
      "outputs": [
        {
          "output_type": "execute_result",
          "data": {
            "text/plain": [
              "array([-1.76903724,  3.12949277])"
            ]
          },
          "metadata": {},
          "execution_count": 19
        }
      ]
    },
    {
      "cell_type": "code",
      "source": [
        "lin_reg=LinearRegression()\n",
        "lin_reg.fit(X_poly, y)\n",
        "lin_reg.intercept_, lin_reg.coef_"
      ],
      "metadata": {
        "colab": {
          "base_uri": "https://localhost:8080/"
        },
        "id": "Sx5-T7crTp5t",
        "outputId": "906280be-7305-4d4f-ad42-506d12cfd852"
      },
      "execution_count": 20,
      "outputs": [
        {
          "output_type": "execute_result",
          "data": {
            "text/plain": [
              "(array([1.96827732]), array([[ 1.55952539, -0.005687  ]]))"
            ]
          },
          "metadata": {},
          "execution_count": 20
        }
      ]
    },
    {
      "cell_type": "markdown",
      "source": [
        "- 확장된 훈련 데이터에 linearregression 적용\n",
        "\n",
        "측성이 여러 개 일때 다항 회귀는 이 특서 사이의 관곌 찾는다\n",
        "\n",
        "- PolynomialFeatures가 주어진 차수까지 특성 간의 모든 교차항을 추가한다\n",
        "\n",
        "\n",
        "# 4.4 학습곡선\n",
        "\n",
        "고차 다항 회귀를 적용하면 보통의 선형 회귀에서보다 훨씬 더 훈련 데이터에 잘 맞추려 할 것이다\n",
        "\n",
        "- 고차 다항 회귀 모델은 심각하게 훈련 데이터에 과대적합\n",
        "- 선형 모델은 과소적합\n",
        "\n",
        "모델이 데이터에 과대적합/과소적합 되었는지 아는 방법\n",
        "\n",
        "1. 교차 검증 사용\n",
        "\n",
        "- 훈련 데이터에서 성능이 좋지만 교차 검증 점수가 나쁘다면 과대적합된 것 (복잡하다)\n",
        "\n",
        "2. 학습 곡선을 살펴보는 것\n",
        "\n",
        "- 훈련 세트와 검증 세트의 모델 성능을 훈련 세트 크기의 함수로 나타낸다\n",
        "\n",
        "- 단순히 훈련 세트에서 크기가 다른 서브 세트를 만들어 모델을 여러번 훈련 시키면 된다"
      ],
      "metadata": {
        "id": "u9Mq1CRoT5VB"
      }
    },
    {
      "cell_type": "code",
      "source": [
        "from sklearn.metrics import mean_squared_error\n",
        "from sklearn.model_selection import train_test_split\n",
        "\n",
        "def plot_learning_curves(model, X, y):\n",
        "  X_train, X_val, y_train, y_val=train_test_split(X, y, test_size=0.2)\n",
        "  train_errors, val_errors=[],[]\n",
        "  for m in range(1, len(X_train)):\n",
        "    model.fit(X_train[:m],y_train[:m])\n",
        "    y_train_predict=model.predict(X_train[:m])\n",
        "    y_val_predict=model.predict(X_val)\n",
        "    train_errors.append(mean_squared_error(y_train[:m],y_train_predict))\n",
        "    val_errors.append(mean_squared_error(y_val, y_val_predict))\n",
        "    plt.plot(np.sqrt(train_errors),\"r-+\",linewidth=2,label=\"훈련 세트\")\n",
        "    plt.plot(np.sqrt(val_errors),\"b-\",linewidth=3, label=\"검증 세트\")"
      ],
      "metadata": {
        "id": "WV6eIU1AU343"
      },
      "execution_count": 21,
      "outputs": []
    },
    {
      "cell_type": "markdown",
      "source": [
        "- 훈련 데이터에서 학습 곡선을 그리는 함수 정의\n"
      ],
      "metadata": {
        "id": "YB3iZO-UWbIj"
      }
    },
    {
      "cell_type": "code",
      "source": [
        "lin_reg=LinearRegression()\n",
        "plot_learning_curves(lin_reg, X, y)"
      ],
      "metadata": {
        "colab": {
          "base_uri": "https://localhost:8080/",
          "height": 430
        },
        "id": "M7pkW8T2Wgcc",
        "outputId": "9a889646-996b-499d-d083-63caeb19174a"
      },
      "execution_count": 22,
      "outputs": [
        {
          "output_type": "display_data",
          "data": {
            "text/plain": [
              "<Figure size 640x480 with 1 Axes>"
            ],
            "image/png": "[encoded data removed]"
          },
          "metadata": {}
        }
      ]
    },
    {
      "cell_type": "markdown",
      "source": [
        "- 단순 선형 회귀 모델의 학습 곡선\n",
        "\n",
        "1. 훈련 데이터의 성능\n",
        "- 그래프가 0에서 시작하므로 훈련 세트에 하나 혹은 두개의 샘플이 있을땐 모델이 완벽하게 작동\n",
        "- 하지만 훈련 세트에 샘플이 추가됨에 따라 답음도 있고 비선형이기 때문에 모델이 훈련 데이터를 완벽히 학습하는ㄱ 서은 불가능\n",
        "\n",
        "2. 검증 데이터에 대한 모델의 성능 0 모댈이 적은 수의 샘플로 훈련될 때는 제대로 일반화x\n",
        "-> 검증 오차가 초기에 매우 크다\n",
        "- 샘플이 추가됨에 따라 학습이 되고 검증 오차가 천천히 감소한다\n",
        "\n",
        "과소적합 모델= 두 곡선이 수평한 구간을 만들고 꽤 높은 오차에서 매우 가까이 근접"
      ],
      "metadata": {
        "id": "YcqFCrKIWuA9"
      }
    },
    {
      "cell_type": "code",
      "source": [
        "from sklearn.pipeline import Pipeline\n",
        "polynomial_regression=Pipeline([\n",
        "    (\"poly_features\",PolynomialFeatures(degree=10,include_bias=False)),\n",
        "    (\"lin_reg\", LinearRegression()),\n",
        "])\n",
        "plot_learning_curves(polynomial_regression, X, y)"
      ],
      "metadata": {
        "colab": {
          "base_uri": "https://localhost:8080/",
          "height": 430
        },
        "id": "EAnZTmmcXXTu",
        "outputId": "be2e6439-e8ad-4f22-fa85-ede14c3caa75"
      },
      "execution_count": 23,
      "outputs": [
        {
          "output_type": "display_data",
          "data": {
            "text/plain": [
              "<Figure size 640x480 with 1 Axes>"
            ],
            "image/png": "[encoded data removed]"
          },
          "metadata": {}
        }
      ]
    },
    {
      "cell_type": "markdown",
      "source": [
        "- 10차 다항 최귀 모델의 학습 곡선\n",
        "\n",
        "중요한 차이점\n",
        "\n",
        "1. 훈련 데이터의 오차가 선형 회귀 모델보다 훨씬 낮다\n",
        "2. 두 곡선 사이에 공간이 있다 -> 훈련 데이터에서의 모델 성능이 검증 데이터에서보다 훨씬 낫다는 뜻이고 이는 과대적합 모델의 특징\n",
        "\n",
        "편향/ 분산 트레이드 오프\n",
        "\n",
        "모델의 일반화 오차는 세 가지 다른 종류의 오차의 합으로 표현할 수 있다\n",
        "\n",
        "1. 편향\n",
        "2. 분산\n",
        "3. 줄일 수 없는 오차\n",
        "\n",
        "모델의 복잡도가 커지면 분산이 커지고 편향이 줄어든다\n",
        "\n",
        "반대로 모델의 복잡도가 줄어들면 편향이 커지고 분산이 작아진다\n",
        "\n",
        "# 4.5 규제가 있는 선형 모델\n",
        "\n",
        "과대 적합을 감소시키는 조은 방법: 모델 규제\n",
        "\n",
        "## 4.5.1 릿지 회귀\n",
        "\n",
        "- 규제가 추가된 선형 회귀 버전\n",
        "- 규제항이 비용 함수에 추가\n",
        "- 학습 알고리즘을 데이터에 맞추는 것뿐만이 아니라 모델의 가중치가 가능한 작게 유지되도록 노력\n",
        "- 규제항: 훈련하는 동안에만 비용 함수 추가\n",
        "- 모델의 훈련이 끝나면 모델의 성능을 규제가 없는 성능 지표로 평가\n",
        "\n",
        "하이퍼파라미터 알파\n",
        "\n",
        "- 모델을 얼마나 규제할 지 조절\n",
        "- 0이면 릿지 회귀는 선형 회귀와 같아진다\n",
        "- 알파가 아주 크면 모든 가중치가 거의 0에 가까워지고 결국 데이터의 평균을 지나는 수평선이 된다\n",
        "\n",
        "\n",
        "릿지 회귀를 계산하기 위해 정규방정식을 사용할 수도 있고 경사 하강법을 사용할 수도 있다\n"
      ],
      "metadata": {
        "id": "YP109VVgYAhj"
      }
    },
    {
      "cell_type": "code",
      "source": [
        "from sklearn.linear_model import Ridge\n",
        "ridge_reg=Ridge(alpha=1, solver=\"cholesky\")\n",
        "ridge_reg.fit(X,y)\n",
        "ridge_reg.predict([[1.5]])"
      ],
      "metadata": {
        "colab": {
          "base_uri": "https://localhost:8080/"
        },
        "id": "aVPofySMZnGe",
        "outputId": "e76dadf0-37da-49bc-fe7d-dbd794e6387f"
      },
      "execution_count": 25,
      "outputs": [
        {
          "output_type": "execute_result",
          "data": {
            "text/plain": [
              "array([[4.28449757]])"
            ]
          },
          "metadata": {},
          "execution_count": 25
        }
      ]
    },
    {
      "cell_type": "code",
      "source": [
        "sgd_reg=SGDRegressor(penalty=\"l2\")\n",
        "sgd_reg.fit(X,y.ravel())\n",
        "sgd_reg.predict([[1.5]])"
      ],
      "metadata": {
        "colab": {
          "base_uri": "https://localhost:8080/"
        },
        "id": "278TFWVqaBtj",
        "outputId": "23c205e1-921d-47a6-ec93-d58caa9b6912"
      },
      "execution_count": 27,
      "outputs": [
        {
          "output_type": "execute_result",
          "data": {
            "text/plain": [
              "array([4.24091601])"
            ]
          },
          "metadata": {},
          "execution_count": 27
        }
      ]
    },
    {
      "cell_type": "markdown",
      "source": [
        "# 라쏘 회귀\n",
        "\n",
        "- 선형 회귀의 또 다른 규제된 버전\n",
        "- 릿지 회귀처럼 비용 함수에 규제항을 더하지만, 가중치 벡터의 l1노름을 사용\n",
        "\n",
        "라쏘 회귀의 중요한 특징: 덜 중요한 특성의 가중치를 제거하려고 한다는 점 (즉, 가중치가 0이 된다)\n",
        "\n",
        "-> 라쏘 회귀는 자동으로 특성 선택을 하고 희소 모델을 만든다\n",
        "\n",
        "- 라쏘와 다른 점\n",
        "\n",
        "1. 첫째 파라미터가 전역 최적점에 가까워질수록 그레이디언트가 작이진다\n",
        "-> 경사 하강법이 자동으로 느려지고 수렴에 도움이 된다\n",
        "\n",
        "2. 알파를 증가시킬수록 최적의 파라미터가 원점에 더 가까워진다. 하지만 완전히 0이 되지는 않는다\n",
        "\n",
        "- 라쏘를 사용할 때 경사 하강법이 최적점 근처헤서 진동하는 것을 막으려면 훈련하는 동안 점진적으로 학습률을 감소시켜야 한다"
      ],
      "metadata": {
        "id": "_QsLkOMBaYV7"
      }
    },
    {
      "cell_type": "code",
      "source": [
        "from sklearn.linear_model import Lasso\n",
        "lasso_reg=Lasso(alpha=0.1)\n",
        "lasso_reg.fit(X,y)\n",
        "lasso_reg.predict([[1.5]])"
      ],
      "metadata": {
        "colab": {
          "base_uri": "https://localhost:8080/"
        },
        "id": "GZN8dAL2bSMA",
        "outputId": "bc439bfa-b593-48ee-d209-8ddabc7662ed"
      },
      "execution_count": 28,
      "outputs": [
        {
          "output_type": "execute_result",
          "data": {
            "text/plain": [
              "array([4.24177216])"
            ]
          },
          "metadata": {},
          "execution_count": 28
        }
      ]
    },
    {
      "cell_type": "markdown",
      "source": [
        "# 4.5.3 엘라스틱넷\n",
        "\n",
        "- 릿지 회귀와 라쏘 회귀를 절충한 모델\n",
        "- 규제항은 릿지와 회귀의 규제항을 단순히 더해서 사용하며 혼합 저도는 혼합 비율 r을 사용하여 조절\n",
        "\n",
        "보통의 선형회귀, 릿지, 라쏘, 엘라스틱넷을 언제 사용해야 할까?\n",
        "\n",
        "- 규제가 약간 있는 것이 대부분의 경우에 좋기 때문에 일반적으로 평범한 선형 회귀는 피할 것\n",
        "- 릿지가 기본이 되지만 쓰이는 특성이 몇 개 뿐이라고 의심되면 라쏘나 엘라스틱넷이 낫다\n",
        "- 특성 수가 훈련 샘플 수보다 많거나 특성 몇개가 강헥 연관되어 있을 때는 보통 라쏘가 문제를 일으키므로 엘라스틱넷을 선호한다\n"
      ],
      "metadata": {
        "id": "1wn0a0NGbiEy"
      }
    },
    {
      "cell_type": "code",
      "source": [
        "from sklearn.linear_model import ElasticNet\n",
        "elastic_net=ElasticNet(alpha=0.1, l1_ratio=0.5)\n",
        "elastic_net.fit(X,y)\n",
        "elastic_net.predict([[1.5]])"
      ],
      "metadata": {
        "colab": {
          "base_uri": "https://localhost:8080/"
        },
        "id": "SUfzm6HUcSvg",
        "outputId": "3614cfe4-69b9-4041-d852-f11f34f901dd"
      },
      "execution_count": 29,
      "outputs": [
        {
          "output_type": "execute_result",
          "data": {
            "text/plain": [
              "array([4.22859734])"
            ]
          },
          "metadata": {},
          "execution_count": 29
        }
      ]
    },
    {
      "cell_type": "markdown",
      "source": [
        "# 4.5.4 조기 종료\n",
        "\n",
        "- 경사 하강법과 같은 반볻적인 학습 알고리즘을 규제하는 아주 색다른 방식은 검증 에러가 최솟값에 도달하면 바로 훈련을 중지시키는 것\n",
        "- 에포크가 진행됨에 따라 알고리즘이 점차 학습되어 훈련 세트에 대한 예측에러(RMSE)와 검증 세트에 대한 예측 에러 줄어든다\n",
        "- 그러나 다시 상승한다 -> 모델이 훈련 데이터에 과대적합하기 시작하는 것의 의미\n",
        "\n",
        "조기종료는 검증 에러가 최소에 도달하는 즉시 훈련을 멈추는"
      ],
      "metadata": {
        "id": "-1gVcVj0cqTl"
      }
    },
    {
      "cell_type": "code",
      "source": [
        "from sklearn.base import clone\n",
        "from sklearn.preprocessing import StandardScaler\n",
        "X_train, X_val, y_train, y_val=train_test_split(X, y, test_size=0.2)\n",
        "\n",
        "# 데이터 준비\n",
        "poly_scaler = Pipeline([\n",
        "    (\"poly_features\", PolynomialFeatures(degree=90, include_bias = False)),\n",
        "    (\"std_scaler\", StandardScaler())\n",
        "])\n",
        "X_train_poly_scaled = poly_scaler.fit_transform(X_train)\n",
        "X_val_poly_scaled = poly_scaler.transform(X_val)\n",
        "\n",
        "sgd_reg = SGDRegressor(max_iter=1, tol=None, warm_start=True,\n",
        "                       penalty=None, learning_rate=\"constant\", eta0=0.0005)\n",
        "\n",
        "minimum_val_error = float(\"inf\")\n",
        "best_epoch = None\n",
        "best_model = None\n",
        "for epoch in range(1000):\n",
        "  sgd_reg.fit(X_train_poly_scaled, y_train.ravel())   # 훈련을 이어서 진행합니다.\n",
        "  y_val_predict = sgd_reg.predict(X_val_poly_scaled)\n",
        "  val_error = mean_squared_error(y_val, y_val_predict)\n",
        "  if val_error < minimum_val_error:\n",
        "    minimum_val_error = val_error\n",
        "    best_epoch = epoch\n",
        "    best_model = clone(sgd_reg)"
      ],
      "metadata": {
        "id": "HrBikwjvdPQ7"
      },
      "execution_count": 30,
      "outputs": []
    },
    {
      "cell_type": "markdown",
      "source": [
        "# 4.6 로지스틱 회귀\n",
        "\n",
        "- 샘플이 특정 클래스에 속할 확률을 추정하는 데 널리 사용\n",
        "- 이진 분류기\n",
        "\n",
        "## 4.6.1 확률 추정\n",
        "\n",
        "- 로지스틱 회귀 모델은 선형 회귀 모델과 같이 입력 특서의 가중치합을 구하고 편향을 더한다\n",
        "- 대신 선형 회귀처럼 바로 결과를 출력하지 않고 결괏값의 로지스틱을 출력한다\n",
        "\n",
        "\n",
        "로지스틱 회귀 모델이 샘플 x가 양성 클래스에 속할 확률 phat=h(x)를 추정하면 이에 대한 예측 yhat을 쉽게 구할 수 있다\n",
        "\n",
        "## 4.6.2 훈련과 비용 함수\n",
        "\n",
        "훈련의 목적 : 양성 샘플(y=1)에 대해서는 옾은 확률을 추정하고 음성 샘플(y=0)에 대해서는 낮은 확률을 추정하는 모델의 파라미터 벡터 theta를 찾는 것\n",
        "\n",
        "- 비용 함수는 t가 0과 1에 가까워지면 -log(t)와 -log(1-t)가 매우 커지므로 타당하다 할 수 있다.\n",
        "- 따라서 음성 샘플의 확률을 0에 가깝게 추정하거나 양성 샘플의 확률을 1에 가깝게 추정하면 비용은 0에 가까워진다.\n",
        "\n",
        "- 로그 손실: 전체 훈련 세트에 대한 비용 함수는 모든 훈련 샘플의 비용을 평균한 것"
      ],
      "metadata": {
        "id": "T814xYaLdUWJ"
      }
    },
    {
      "cell_type": "code",
      "source": [
        "from sklearn import datasets\n",
        "iris=datasets.load_iris()\n",
        "list(iris.keys())"
      ],
      "metadata": {
        "colab": {
          "base_uri": "https://localhost:8080/"
        },
        "id": "PUjpitQJeY_g",
        "outputId": "ff0f7897-a628-4968-ada6-a939d487770f"
      },
      "execution_count": 31,
      "outputs": [
        {
          "output_type": "execute_result",
          "data": {
            "text/plain": [
              "['data',\n",
              " 'target',\n",
              " 'frame',\n",
              " 'target_names',\n",
              " 'DESCR',\n",
              " 'feature_names',\n",
              " 'filename',\n",
              " 'data_module']"
            ]
          },
          "metadata": {},
          "execution_count": 31
        }
      ]
    },
    {
      "cell_type": "code",
      "source": [
        "X=iris['data'][:, 3:]\n",
        "y=(iris['target']==2).astype(int)"
      ],
      "metadata": {
        "id": "azJHp919elx9"
      },
      "execution_count": 32,
      "outputs": []
    },
    {
      "cell_type": "code",
      "source": [
        "from sklearn.linear_model import LogisticRegression\n",
        "log_reg=LogisticRegression()\n",
        "log_reg.fit(X,y)"
      ],
      "metadata": {
        "colab": {
          "base_uri": "https://localhost:8080/",
          "height": 74
        },
        "id": "KsblI1_kex4Q",
        "outputId": "00bcdb42-d97a-40e1-83f7-565bbbf999d8"
      },
      "execution_count": 33,
      "outputs": [
        {
          "output_type": "execute_result",
          "data": {
            "text/plain": [
              "LogisticRegression()"
            ],
            "text/html": [
              "<style>#sk-container-id-2 {color: black;background-color: white;}#sk-container-id-2 pre{padding: 0;}#sk-container-id-2 div.sk-toggleable {background-color: white;}#sk-container-id-2 label.sk-toggleable__label {cursor: pointer;display: block;width: 100%;margin-bottom: 0;padding: 0.3em;box-sizing: border-box;text-align: center;}#sk-container-id-2 label.sk-toggleable__label-arrow:before {content: \"▸\";float: left;margin-right: 0.25em;color: #696969;}#sk-container-id-2 label.sk-toggleable__label-arrow:hover:before {color: black;}#sk-container-id-2 div.sk-estimator:hover label.sk-toggleable__label-arrow:before {color: black;}#sk-container-id-2 div.sk-toggleable__content {max-height: 0;max-width: 0;overflow: hidden;text-align: left;background-color: #f0f8ff;}#sk-container-id-2 div.sk-toggleable__content pre {margin: 0.2em;color: black;border-radius: 0.25em;background-color: #f0f8ff;}#sk-container-id-2 input.sk-toggleable__control:checked~div.sk-toggleable__content {max-height: 200px;max-width: 100%;overflow: auto;}#sk-container-id-2 input.sk-toggleable__control:checked~label.sk-toggleable__label-arrow:before {content: \"▾\";}#sk-container-id-2 div.sk-estimator input.sk-toggleable__control:checked~label.sk-toggleable__label {background-color: #d4ebff;}#sk-container-id-2 div.sk-label input.sk-toggleable__control:checked~label.sk-toggleable__label {background-color: #d4ebff;}#sk-container-id-2 input.sk-hidden--visually {border: 0;clip: rect(1px 1px 1px 1px);clip: rect(1px, 1px, 1px, 1px);height: 1px;margin: -1px;overflow: hidden;padding: 0;position: absolute;width: 1px;}#sk-container-id-2 div.sk-estimator {font-family: monospace;background-color: #f0f8ff;border: 1px dotted black;border-radius: 0.25em;box-sizing: border-box;margin-bottom: 0.5em;}#sk-container-id-2 div.sk-estimator:hover {background-color: #d4ebff;}#sk-container-id-2 div.sk-parallel-item::after {content: \"\";width: 100%;border-bottom: 1px solid gray;flex-grow: 1;}#sk-container-id-2 div.sk-label:hover label.sk-toggleable__label {background-color: #d4ebff;}#sk-container-id-2 div.sk-serial::before {content: \"\";position: absolute;border-left: 1px solid gray;box-sizing: border-box;top: 0;bottom: 0;left: 50%;z-index: 0;}#sk-container-id-2 div.sk-serial {display: flex;flex-direction: column;align-items: center;background-color: white;padding-right: 0.2em;padding-left: 0.2em;position: relative;}#sk-container-id-2 div.sk-item {position: relative;z-index: 1;}#sk-container-id-2 div.sk-parallel {display: flex;align-items: stretch;justify-content: center;background-color: white;position: relative;}#sk-container-id-2 div.sk-item::before, #sk-container-id-2 div.sk-parallel-item::before {content: \"\";position: absolute;border-left: 1px solid gray;box-sizing: border-box;top: 0;bottom: 0;left: 50%;z-index: -1;}#sk-container-id-2 div.sk-parallel-item {display: flex;flex-direction: column;z-index: 1;position: relative;background-color: white;}#sk-container-id-2 div.sk-parallel-item:first-child::after {align-self: flex-end;width: 50%;}#sk-container-id-2 div.sk-parallel-item:last-child::after {align-self: flex-start;width: 50%;}#sk-container-id-2 div.sk-parallel-item:only-child::after {width: 0;}#sk-container-id-2 div.sk-dashed-wrapped {border: 1px dashed gray;margin: 0 0.4em 0.5em 0.4em;box-sizing: border-box;padding-bottom: 0.4em;background-color: white;}#sk-container-id-2 div.sk-label label {font-family: monospace;font-weight: bold;display: inline-block;line-height: 1.2em;}#sk-container-id-2 div.sk-label-container {text-align: center;}#sk-container-id-2 div.sk-container {/* jupyter's `normalize.less` sets `[hidden] { display: none; }` but bootstrap.min.css set `[hidden] { display: none !important; }` so we also need the `!important` here to be able to override the default hidden behavior on the sphinx rendered scikit-learn.org. See: https://github.com/scikit-learn/scikit-learn/issues/21755 */display: inline-block !important;position: relative;}#sk-container-id-2 div.sk-text-repr-fallback {display: none;}</style><div id=\"sk-container-id-2\" class=\"sk-top-container\"><div class=\"sk-text-repr-fallback\"><pre>LogisticRegression()</pre><b>In a Jupyter environment, please rerun this cell to show the HTML representation or trust the notebook. <br />On GitHub, the HTML representation is unable to render, please try loading this page with nbviewer.org.</b></div><div class=\"sk-container\" hidden><div class=\"sk-item\"><div class=\"sk-estimator sk-toggleable\"><input class=\"sk-toggleable__control sk-hidden--visually\" id=\"sk-estimator-id-2\" type=\"checkbox\" checked><label for=\"sk-estimator-id-2\" class=\"sk-toggleable__label sk-toggleable__label-arrow\">LogisticRegression</label><div class=\"sk-toggleable__content\"><pre>LogisticRegression()</pre></div></div></div></div></div>"
            ]
          },
          "metadata": {},
          "execution_count": 33
        }
      ]
    },
    {
      "cell_type": "code",
      "source": [
        "X_new=np.linspace(0,3,1000).reshape(-1,1)\n",
        "y_proba=log_reg.predict_log_proba(X_new)\n",
        "plt.plot(X_new, y_proba[:,1],\"g--\",label=\"Iris virginica\")\n",
        "plt.plot(X_new, y_proba[:,0],\"b--\",label=\"Not virginica\")"
      ],
      "metadata": {
        "colab": {
          "base_uri": "https://localhost:8080/",
          "height": 448
        },
        "id": "YfH64d4vfDaU",
        "outputId": "f91db491-ea6a-4bed-b248-708cc7f67cb3"
      },
      "execution_count": 34,
      "outputs": [
        {
          "output_type": "execute_result",
          "data": {
            "text/plain": [
              "[<matplotlib.lines.Line2D at 0x7c31a6ecf310>]"
            ]
          },
          "metadata": {},
          "execution_count": 34
        },
        {
          "output_type": "display_data",
          "data": {
            "text/plain": [
              "<Figure size 640x480 with 1 Axes>"
            ],
            "image/png": "[encoded data removed]"
          },
          "metadata": {}
        }
      ]
    },
    {
      "cell_type": "code",
      "source": [
        "log_reg.predict([[1.7],[1.5]])"
      ],
      "metadata": {
        "colab": {
          "base_uri": "https://localhost:8080/"
        },
        "id": "o0CbDC3Cfq85",
        "outputId": "e2f08f02-0675-4140-d640-496968691512"
      },
      "execution_count": 35,
      "outputs": [
        {
          "output_type": "execute_result",
          "data": {
            "text/plain": [
              "array([1, 0])"
            ]
          },
          "metadata": {},
          "execution_count": 35
        }
      ]
    },
    {
      "cell_type": "markdown",
      "source": [
        "## 4.6.4 소프트맥스 회귀\n",
        "\n",
        "소프트맥스 회귀, 다항 로지스틱 회귀\n",
        "\n",
        "- 로지스틱 회귀 모델은 여러 개의 이진 분류기를 훈련시켜 연결하지 않고 직접 다중 클래스를 지원하도록 일반화될 수 있다\n",
        "- 소프트맥스 회귀 모델이 각 클래스 k에 대한 점수 계산 -> 소프트맥스 함수 적용 -> 각 클래스의 확률 추정\n",
        "\n",
        "훈련 방법\n",
        "\n",
        "- 모델이 타깃 클래스에 대해서 높은 확률을 추정하도록 만드는 것이 목적\n",
        "\n",
        "- 크로스 엔트로피 비용 함수를 최소화 하는 것 : 타깃 클래스에 대해 낮은 확률을 예측하는 모델을 억제하므로 이 목적에 부합하다.\n",
        "\n",
        "사이킷런의 LogisticRegression은 클래스가 둘 이상일 때 기본적으로 일대다(OvA) 전략 사용\n",
        "\n",
        "multi_class 매개변수를 \"multinomial\"로 바꾸면 소프트맥스 회귀 사용 가능\n",
        "\n",
        "- solver 매개변수에 \"lbfgs\"와 같이 소프트맥스 회귀 지원하는 알고리즘 지정해야한다.\n",
        "- 기본적으로 하이퍼파라미터 C 사용하여 조절할 수 있는 l2 규제 적용"
      ],
      "metadata": {
        "id": "SF1RuocBf2vi"
      }
    },
    {
      "cell_type": "code",
      "source": [
        "X=iris[\"data\"][:, (2,3)]\n",
        "y=iris[\"target\"]\n",
        "\n",
        "softmax_reg = LogisticRegression(multi_class=\"multinomial\", solver=\"lbfgs\", C=10)\n",
        "softmax_reg.fit(X,y)"
      ],
      "metadata": {
        "colab": {
          "base_uri": "https://localhost:8080/",
          "height": 74
        },
        "id": "R74En-iIgfSN",
        "outputId": "6f2894ed-794c-47f1-9f27-aae36871b883"
      },
      "execution_count": 36,
      "outputs": [
        {
          "output_type": "execute_result",
          "data": {
            "text/plain": [
              "LogisticRegression(C=10, multi_class='multinomial')"
            ],
            "text/html": [
              "<style>#sk-container-id-3 {color: black;background-color: white;}#sk-container-id-3 pre{padding: 0;}#sk-container-id-3 div.sk-toggleable {background-color: white;}#sk-container-id-3 label.sk-toggleable__label {cursor: pointer;display: block;width: 100%;margin-bottom: 0;padding: 0.3em;box-sizing: border-box;text-align: center;}#sk-container-id-3 label.sk-toggleable__label-arrow:before {content: \"▸\";float: left;margin-right: 0.25em;color: #696969;}#sk-container-id-3 label.sk-toggleable__label-arrow:hover:before {color: black;}#sk-container-id-3 div.sk-estimator:hover label.sk-toggleable__label-arrow:before {color: black;}#sk-container-id-3 div.sk-toggleable__content {max-height: 0;max-width: 0;overflow: hidden;text-align: left;background-color: #f0f8ff;}#sk-container-id-3 div.sk-toggleable__content pre {margin: 0.2em;color: black;border-radius: 0.25em;background-color: #f0f8ff;}#sk-container-id-3 input.sk-toggleable__control:checked~div.sk-toggleable__content {max-height: 200px;max-width: 100%;overflow: auto;}#sk-container-id-3 input.sk-toggleable__control:checked~label.sk-toggleable__label-arrow:before {content: \"▾\";}#sk-container-id-3 div.sk-estimator input.sk-toggleable__control:checked~label.sk-toggleable__label {background-color: #d4ebff;}#sk-container-id-3 div.sk-label input.sk-toggleable__control:checked~label.sk-toggleable__label {background-color: #d4ebff;}#sk-container-id-3 input.sk-hidden--visually {border: 0;clip: rect(1px 1px 1px 1px);clip: rect(1px, 1px, 1px, 1px);height: 1px;margin: -1px;overflow: hidden;padding: 0;position: absolute;width: 1px;}#sk-container-id-3 div.sk-estimator {font-family: monospace;background-color: #f0f8ff;border: 1px dotted black;border-radius: 0.25em;box-sizing: border-box;margin-bottom: 0.5em;}#sk-container-id-3 div.sk-estimator:hover {background-color: #d4ebff;}#sk-container-id-3 div.sk-parallel-item::after {content: \"\";width: 100%;border-bottom: 1px solid gray;flex-grow: 1;}#sk-container-id-3 div.sk-label:hover label.sk-toggleable__label {background-color: #d4ebff;}#sk-container-id-3 div.sk-serial::before {content: \"\";position: absolute;border-left: 1px solid gray;box-sizing: border-box;top: 0;bottom: 0;left: 50%;z-index: 0;}#sk-container-id-3 div.sk-serial {display: flex;flex-direction: column;align-items: center;background-color: white;padding-right: 0.2em;padding-left: 0.2em;position: relative;}#sk-container-id-3 div.sk-item {position: relative;z-index: 1;}#sk-container-id-3 div.sk-parallel {display: flex;align-items: stretch;justify-content: center;background-color: white;position: relative;}#sk-container-id-3 div.sk-item::before, #sk-container-id-3 div.sk-parallel-item::before {content: \"\";position: absolute;border-left: 1px solid gray;box-sizing: border-box;top: 0;bottom: 0;left: 50%;z-index: -1;}#sk-container-id-3 div.sk-parallel-item {display: flex;flex-direction: column;z-index: 1;position: relative;background-color: white;}#sk-container-id-3 div.sk-parallel-item:first-child::after {align-self: flex-end;width: 50%;}#sk-container-id-3 div.sk-parallel-item:last-child::after {align-self: flex-start;width: 50%;}#sk-container-id-3 div.sk-parallel-item:only-child::after {width: 0;}#sk-container-id-3 div.sk-dashed-wrapped {border: 1px dashed gray;margin: 0 0.4em 0.5em 0.4em;box-sizing: border-box;padding-bottom: 0.4em;background-color: white;}#sk-container-id-3 div.sk-label label {font-family: monospace;font-weight: bold;display: inline-block;line-height: 1.2em;}#sk-container-id-3 div.sk-label-container {text-align: center;}#sk-container-id-3 div.sk-container {/* jupyter's `normalize.less` sets `[hidden] { display: none; }` but bootstrap.min.css set `[hidden] { display: none !important; }` so we also need the `!important` here to be able to override the default hidden behavior on the sphinx rendered scikit-learn.org. See: https://github.com/scikit-learn/scikit-learn/issues/21755 */display: inline-block !important;position: relative;}#sk-container-id-3 div.sk-text-repr-fallback {display: none;}</style><div id=\"sk-container-id-3\" class=\"sk-top-container\"><div class=\"sk-text-repr-fallback\"><pre>LogisticRegression(C=10, multi_class=&#x27;multinomial&#x27;)</pre><b>In a Jupyter environment, please rerun this cell to show the HTML representation or trust the notebook. <br />On GitHub, the HTML representation is unable to render, please try loading this page with nbviewer.org.</b></div><div class=\"sk-container\" hidden><div class=\"sk-item\"><div class=\"sk-estimator sk-toggleable\"><input class=\"sk-toggleable__control sk-hidden--visually\" id=\"sk-estimator-id-3\" type=\"checkbox\" checked><label for=\"sk-estimator-id-3\" class=\"sk-toggleable__label sk-toggleable__label-arrow\">LogisticRegression</label><div class=\"sk-toggleable__content\"><pre>LogisticRegression(C=10, multi_class=&#x27;multinomial&#x27;)</pre></div></div></div></div></div>"
            ]
          },
          "metadata": {},
          "execution_count": 36
        }
      ]
    },
    {
      "cell_type": "code",
      "source": [
        "softmax_reg.predict([[5,2]])"
      ],
      "metadata": {
        "colab": {
          "base_uri": "https://localhost:8080/"
        },
        "id": "WuFORYndg2dm",
        "outputId": "f5adbdaa-a431-4e6b-c66e-07b2d97b7c76"
      },
      "execution_count": 37,
      "outputs": [
        {
          "output_type": "execute_result",
          "data": {
            "text/plain": [
              "array([2])"
            ]
          },
          "metadata": {},
          "execution_count": 37
        }
      ]
    },
    {
      "cell_type": "code",
      "source": [
        "softmax_reg.predict_proba([[5,2]])"
      ],
      "metadata": {
        "colab": {
          "base_uri": "https://localhost:8080/"
        },
        "id": "nLWKWDHIg8dS",
        "outputId": "bf338e93-88e6-4391-bd04-59d4c4d9d201"
      },
      "execution_count": 38,
      "outputs": [
        {
          "output_type": "execute_result",
          "data": {
            "text/plain": [
              "array([[6.38014896e-07, 5.74929995e-02, 9.42506362e-01]])"
            ]
          },
          "metadata": {},
          "execution_count": 38
        }
      ]
    }
  ]
}